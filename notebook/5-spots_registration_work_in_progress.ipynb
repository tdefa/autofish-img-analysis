{
 "cells": [
  {
   "cell_type": "markdown",
   "id": "62d405b9",
   "metadata": {},
   "source": [
    "# Spot registration\n",
    "\n",
    "Now that we have the spots coordiante for each round we need to align them to the same round to be able to analyse the diferent round together.\n",
    "\n",
    "Use the fonction **spots_registration** to perform this task\n",
    "\n",
    "\n",
    "\n",
    "\n",
    "\n",
    "\n"
   ]
  },
  {
   "cell_type": "code",
   "execution_count": 21,
   "id": "ddb9c60f",
   "metadata": {},
   "outputs": [
    {
     "name": "stdout",
     "output_type": "stream",
     "text": [
      "/home/tom/Bureau/phd/stich_seg_detect\n"
     ]
    }
   ],
   "source": [
    "module_path = '/home/tom/Bureau/phd/stich_seg_detect'\n",
    "%cd $module_path\n",
    "from segmentation import segment_nuclei\n",
    "from cellpose import models\n",
    "from pathlib import Path\n",
    "import numpy as np\n",
    "\n",
    "import importlib\n",
    "import  registration\n",
    "importlib.reload(registration)\n",
    "from registration import spots_registration"
   ]
  },
  {
   "cell_type": "code",
   "execution_count": 22,
   "id": "456695b4",
   "metadata": {},
   "outputs": [],
   "source": [
    "\n",
    "\n",
    "\n",
    "\n",
    "### Load the previously computed dict translation and dict spots\n",
    "dict_translation = np.load(f\"/media/tom/Transcend/autofish/2023-06-28_AutoFISH_22rounds/dict_translation_ref_r1.npy\",\n",
    "                           allow_pickle=True).item()\n",
    "dict_spots = np.load \\\n",
    "    (f\"/media/tom/Transcend/autofish/2023-06-28_AutoFISH_22rounds/18jully_dico_spots_local_detection0_r_mask_artefact0_1.3_remove_non_sym0.npy\",\n",
    "     allow_pickle=True).item()\n",
    "\n",
    "\n",
    "fixed_round_name=\"r1\" # reference round, All round  will be reference to this input\n",
    "scale_xy=0.103 #xy pixel size in um\n",
    "scale_z=0.270 #z pixel size i um"
   ]
  },
  {
   "cell_type": "code",
   "execution_count": 23,
   "id": "d955a3b2",
   "metadata": {
    "scrolled": true
   },
   "outputs": [
    {
     "name": "stderr",
     "output_type": "stream",
     "text": [
      "  0%|          | 0/23 [00:00<?, ?it/s]\n",
      "100%|██████████| 11/11 [00:00<00:00, 3041.35it/s]\n",
      "\n",
      "100%|██████████| 11/11 [00:00<00:00, 5897.65it/s]\n",
      "\n",
      "100%|██████████| 11/11 [00:00<00:00, 14117.91it/s]\n",
      "\n",
      "100%|██████████| 11/11 [00:00<00:00, 10912.33it/s]\n",
      "\n",
      "100%|██████████| 11/11 [00:00<00:00, 14693.42it/s]\n",
      "\n",
      "100%|██████████| 11/11 [00:00<00:00, 10914.91it/s]\n",
      "\n",
      "100%|██████████| 11/11 [00:00<00:00, 14558.96it/s]\n",
      "\n",
      "100%|██████████| 11/11 [00:00<00:00, 7491.04it/s]\n",
      "\n",
      "100%|██████████| 11/11 [00:00<00:00, 13486.51it/s]\n",
      "\n",
      "100%|██████████| 11/11 [00:00<00:00, 10966.80it/s]\n",
      "\n",
      "100%|██████████| 11/11 [00:00<00:00, 14835.16it/s]\n",
      "\n",
      "100%|██████████| 11/11 [00:00<00:00, 13163.29it/s]\n",
      "\n",
      "100%|██████████| 11/11 [00:00<00:00, 70117.54it/s]\n",
      "\n",
      "100%|██████████| 11/11 [00:00<00:00, 14965.08it/s]\n",
      "\n",
      "100%|██████████| 11/11 [00:00<00:00, 13167.05it/s]\n",
      "\n",
      "100%|██████████| 11/11 [00:00<00:00, 20717.26it/s]\n",
      "\n",
      "100%|██████████| 11/11 [00:00<00:00, 16560.42it/s]\n",
      "\n",
      "100%|██████████| 11/11 [00:00<00:00, 61109.06it/s]\n",
      "\n",
      "100%|██████████| 11/11 [00:00<00:00, 11222.90it/s]\n",
      "\n",
      "100%|██████████| 11/11 [00:00<00:00, 13913.55it/s]\n",
      "\n",
      "100%|██████████| 11/11 [00:00<00:00, 10211.90it/s]\n",
      "\n",
      "100%|██████████| 11/11 [00:00<00:00, 12537.32it/s]\n",
      "\n",
      "100%|██████████| 11/11 [00:00<00:00, 8543.95it/s]\n",
      "100%|██████████| 23/23 [00:00<00:00, 288.10it/s]\n"
     ]
    }
   ],
   "source": [
    "dict_spots_registered_df, dict_spots_registered, missing_data = spots_registration(\n",
    "                            dict_spots = dict_spots,\n",
    "                           dict_translation = dict_translation,\n",
    "                           fixed_round_name=fixed_round_name,\n",
    "                           threshold_merge_limit=0.330,\n",
    "                           scale_xy=0.103,\n",
    "                           scale_z=0.270,\n",
    "                           )\n"
   ]
  },
  {
   "cell_type": "markdown",
   "id": "fa7d23c4",
   "metadata": {},
   "source": [
    "**spots_registration** return a dictionary of dataframe. One dataframe for each position containg the aligned spots\n",
    "coordinate with the fixed round\\\n",
    "\n",
    "It returns also a dictionnary with the same information presented as\n",
    "\n",
    "dict_spots_registered[round][position] = registered spots array\n"
   ]
  },
  {
   "cell_type": "code",
   "execution_count": 24,
   "id": "c4436d9a",
   "metadata": {},
   "outputs": [
    {
     "data": {
      "text/html": [
       "<div>\n",
       "<style scoped>\n",
       "    .dataframe tbody tr th:only-of-type {\n",
       "        vertical-align: middle;\n",
       "    }\n",
       "\n",
       "    .dataframe tbody tr th {\n",
       "        vertical-align: top;\n",
       "    }\n",
       "\n",
       "    .dataframe thead th {\n",
       "        text-align: right;\n",
       "    }\n",
       "</style>\n",
       "<table border=\"1\" class=\"dataframe\">\n",
       "  <thead>\n",
       "    <tr style=\"text-align: right;\">\n",
       "      <th></th>\n",
       "      <th>x</th>\n",
       "      <th>y</th>\n",
       "      <th>z</th>\n",
       "      <th>round</th>\n",
       "    </tr>\n",
       "  </thead>\n",
       "  <tbody>\n",
       "    <tr>\n",
       "      <th>0</th>\n",
       "      <td>888.918573</td>\n",
       "      <td>137.242021</td>\n",
       "      <td>0.0</td>\n",
       "      <td>r0</td>\n",
       "    </tr>\n",
       "    <tr>\n",
       "      <th>1</th>\n",
       "      <td>902.918573</td>\n",
       "      <td>150.242021</td>\n",
       "      <td>0.0</td>\n",
       "      <td>r0</td>\n",
       "    </tr>\n",
       "    <tr>\n",
       "      <th>2</th>\n",
       "      <td>876.918573</td>\n",
       "      <td>165.242021</td>\n",
       "      <td>0.0</td>\n",
       "      <td>r0</td>\n",
       "    </tr>\n",
       "    <tr>\n",
       "      <th>3</th>\n",
       "      <td>1676.918573</td>\n",
       "      <td>616.242021</td>\n",
       "      <td>0.0</td>\n",
       "      <td>r0</td>\n",
       "    </tr>\n",
       "    <tr>\n",
       "      <th>4</th>\n",
       "      <td>1991.918573</td>\n",
       "      <td>619.242021</td>\n",
       "      <td>0.0</td>\n",
       "      <td>r0</td>\n",
       "    </tr>\n",
       "    <tr>\n",
       "      <th>...</th>\n",
       "      <td>...</td>\n",
       "      <td>...</td>\n",
       "      <td>...</td>\n",
       "      <td>...</td>\n",
       "    </tr>\n",
       "    <tr>\n",
       "      <th>70518</th>\n",
       "      <td>1927.380699</td>\n",
       "      <td>2026.160540</td>\n",
       "      <td>37.0</td>\n",
       "      <td>r9</td>\n",
       "    </tr>\n",
       "    <tr>\n",
       "      <th>70519</th>\n",
       "      <td>1915.380699</td>\n",
       "      <td>2035.160540</td>\n",
       "      <td>37.0</td>\n",
       "      <td>r9</td>\n",
       "    </tr>\n",
       "    <tr>\n",
       "      <th>70520</th>\n",
       "      <td>97.380699</td>\n",
       "      <td>2036.160540</td>\n",
       "      <td>37.0</td>\n",
       "      <td>r9</td>\n",
       "    </tr>\n",
       "    <tr>\n",
       "      <th>70521</th>\n",
       "      <td>1927.380699</td>\n",
       "      <td>2037.160540</td>\n",
       "      <td>37.0</td>\n",
       "      <td>r9</td>\n",
       "    </tr>\n",
       "    <tr>\n",
       "      <th>70522</th>\n",
       "      <td>1902.380699</td>\n",
       "      <td>2038.160540</td>\n",
       "      <td>37.0</td>\n",
       "      <td>r9</td>\n",
       "    </tr>\n",
       "  </tbody>\n",
       "</table>\n",
       "<p>70523 rows × 4 columns</p>\n",
       "</div>"
      ],
      "text/plain": [
       "                 x            y     z round\n",
       "0       888.918573   137.242021   0.0    r0\n",
       "1       902.918573   150.242021   0.0    r0\n",
       "2       876.918573   165.242021   0.0    r0\n",
       "3      1676.918573   616.242021   0.0    r0\n",
       "4      1991.918573   619.242021   0.0    r0\n",
       "...            ...          ...   ...   ...\n",
       "70518  1927.380699  2026.160540  37.0    r9\n",
       "70519  1915.380699  2035.160540  37.0    r9\n",
       "70520    97.380699  2036.160540  37.0    r9\n",
       "70521  1927.380699  2037.160540  37.0    r9\n",
       "70522  1902.380699  2038.160540  37.0    r9\n",
       "\n",
       "[70523 rows x 4 columns]"
      ]
     },
     "execution_count": 24,
     "metadata": {},
     "output_type": "execute_result"
    }
   ],
   "source": [
    "dico_spots_registered_df['pos0']"
   ]
  },
  {
   "cell_type": "code",
   "execution_count": 27,
   "id": "7c31b4b7",
   "metadata": {},
   "outputs": [],
   "source": [
    "np.save('/media/tom/Transcend/autofish/2023-06-28_AutoFISH_22rounds/dict_spots_registered_df_r1', \n",
    "        dico_spots_registered_df)"
   ]
  },
  {
   "cell_type": "code",
   "execution_count": 28,
   "id": "47a947f3",
   "metadata": {},
   "outputs": [],
   "source": [
    "np.save('/media/tom/Transcend/autofish/2023-06-28_AutoFISH_22rounds/dict_spots_registered_r1', \n",
    "        dico_spots_registered)"
   ]
  },
  {
   "cell_type": "code",
   "execution_count": 29,
   "id": "bba7167e",
   "metadata": {},
   "outputs": [
    {
     "data": {
      "text/plain": [
       "dict_keys(['r0', 'r1', 'r10', 'r11', 'r12', 'r13', 'r14', 'r15', 'r16', 'r17', 'r18', 'r19', 'r2', 'r20', 'r21', 'r22', 'r3', 'r4', 'r5', 'r6', 'r7', 'r8', 'r9'])"
      ]
     },
     "execution_count": 29,
     "metadata": {},
     "output_type": "execute_result"
    }
   ],
   "source": [
    "dict_spots.keys(\n",
    ")"
   ]
  },
  {
   "cell_type": "code",
   "execution_count": 32,
   "id": "05a52cab",
   "metadata": {},
   "outputs": [
    {
     "data": {
      "text/plain": [
       "dict_keys(['r0', 'r10', 'r11', 'r12', 'r13', 'r14', 'r15', 'r16', 'r17', 'r18', 'r19', 'r2', 'r20', 'r21', 'r22', 'r3', 'r4', 'r5', 'r6', 'r7', 'r8', 'r9'])"
      ]
     },
     "execution_count": 32,
     "metadata": {},
     "output_type": "execute_result"
    }
   ],
   "source": [
    "dict_translation['pos0']['r1'].keys()"
   ]
  },
  {
   "cell_type": "code",
   "execution_count": null,
   "id": "eda7f1a1",
   "metadata": {},
   "outputs": [],
   "source": []
  }
 ],
 "metadata": {
  "kernelspec": {
   "display_name": "bigfish38_samm",
   "language": "python",
   "name": "bigfish38_samm"
  },
  "language_info": {
   "codemirror_mode": {
    "name": "ipython",
    "version": 3
   },
   "file_extension": ".py",
   "mimetype": "text/x-python",
   "name": "python",
   "nbconvert_exporter": "python",
   "pygments_lexer": "ipython3",
   "version": "3.8.8"
  }
 },
 "nbformat": 4,
 "nbformat_minor": 5
}
