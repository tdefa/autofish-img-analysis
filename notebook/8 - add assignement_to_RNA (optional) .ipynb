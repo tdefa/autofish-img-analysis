{
 "cells": [
  {
   "cell_type": "markdown",
   "id": "ab66db0a",
   "metadata": {},
   "source": [
    "# Spots assignement\n",
    "\n",
    "Optionaly if a cell or nucleus segmentation was applied to the data. Spots of the different round can  be assigned to a cell/nucleus.\n",
    "\n",
    "\n"
   ]
  },
  {
   "cell_type": "code",
   "execution_count": 56,
   "id": "3fe89bcc",
   "metadata": {},
   "outputs": [
    {
     "name": "stdout",
     "output_type": "stream",
     "text": [
      "/home/tom/Bureau/phd/stich_seg_detect\n"
     ]
    }
   ],
   "source": [
    "module_path = '/home/tom/Bureau/phd/stich_seg_detect'\n",
    "%cd $module_path\n",
    "from registration import spots_assignement\n",
    "from pathlib import Path\n",
    "import numpy as np"
   ]
  },
  {
   "cell_type": "code",
   "execution_count": 57,
   "id": "2ea06058",
   "metadata": {},
   "outputs": [],
   "source": [
    "import importlib\n",
    "import  registration\n",
    "importlib.reload(registration)\n",
    "from registration import spots_assignement"
   ]
  },
  {
   "cell_type": "code",
   "execution_count": 67,
   "id": "ad4d20a7",
   "metadata": {},
   "outputs": [],
   "source": [
    "\n",
    "dict_spots_registered_df = np.load(\"/media/tom/Transcend/autofish/2023-06-28_AutoFISH_22rounds/dict_spots_registered_df_r1.npy\",\n",
    "                                   allow_pickle = True).item()\n",
    "path_to_masks = \"/media/tom/Transcend/autofish/2023-06-28_AutoFISH_22rounds/segmentation_mask\"\n",
    "files_mask_extension = \"*.tif*\""
   ]
  },
  {
   "cell_type": "code",
   "execution_count": 69,
   "id": "af2d7d95",
   "metadata": {},
   "outputs": [
    {
     "name": "stderr",
     "output_type": "stream",
     "text": [
      "\r",
      "  0%|          | 0/11 [00:00<?, ?it/s]"
     ]
    },
    {
     "name": "stdout",
     "output_type": "stream",
     "text": [
      "/media/tom/Transcend/autofish/2023-06-28_AutoFISH_22rounds/segmentation_mask/r1_pos0.tif\n"
     ]
    },
    {
     "name": "stderr",
     "output_type": "stream",
     "text": [
      "\r",
      "  9%|▉         | 1/11 [00:16<02:45, 16.54s/it]"
     ]
    },
    {
     "name": "stdout",
     "output_type": "stream",
     "text": [
      "/media/tom/Transcend/autofish/2023-06-28_AutoFISH_22rounds/segmentation_mask/r1_pos1.tif\n"
     ]
    },
    {
     "name": "stderr",
     "output_type": "stream",
     "text": [
      "\r",
      " 18%|█▊        | 2/11 [00:35<02:41, 17.93s/it]"
     ]
    },
    {
     "name": "stdout",
     "output_type": "stream",
     "text": [
      "/media/tom/Transcend/autofish/2023-06-28_AutoFISH_22rounds/segmentation_mask/r1_pos10.tif\n"
     ]
    },
    {
     "name": "stderr",
     "output_type": "stream",
     "text": [
      "\r",
      " 27%|██▋       | 3/11 [00:52<02:19, 17.43s/it]"
     ]
    },
    {
     "name": "stdout",
     "output_type": "stream",
     "text": [
      "/media/tom/Transcend/autofish/2023-06-28_AutoFISH_22rounds/segmentation_mask/r1_pos2.tif\n"
     ]
    },
    {
     "name": "stderr",
     "output_type": "stream",
     "text": [
      "\r",
      " 36%|███▋      | 4/11 [01:09<02:01, 17.33s/it]"
     ]
    },
    {
     "name": "stdout",
     "output_type": "stream",
     "text": [
      "/media/tom/Transcend/autofish/2023-06-28_AutoFISH_22rounds/segmentation_mask/r1_pos3.tif\n"
     ]
    },
    {
     "name": "stderr",
     "output_type": "stream",
     "text": [
      "\r",
      " 45%|████▌     | 5/11 [01:28<01:46, 17.82s/it]"
     ]
    },
    {
     "name": "stdout",
     "output_type": "stream",
     "text": [
      "/media/tom/Transcend/autofish/2023-06-28_AutoFISH_22rounds/segmentation_mask/r1_pos4.tif\n"
     ]
    },
    {
     "name": "stderr",
     "output_type": "stream",
     "text": [
      "\r",
      " 55%|█████▍    | 6/11 [01:46<01:29, 17.94s/it]"
     ]
    },
    {
     "name": "stdout",
     "output_type": "stream",
     "text": [
      "/media/tom/Transcend/autofish/2023-06-28_AutoFISH_22rounds/segmentation_mask/r1_pos5.tif\n"
     ]
    },
    {
     "name": "stderr",
     "output_type": "stream",
     "text": [
      "\r",
      " 64%|██████▎   | 7/11 [02:03<01:10, 17.75s/it]"
     ]
    },
    {
     "name": "stdout",
     "output_type": "stream",
     "text": [
      "/media/tom/Transcend/autofish/2023-06-28_AutoFISH_22rounds/segmentation_mask/r1_pos6.tif\n"
     ]
    },
    {
     "name": "stderr",
     "output_type": "stream",
     "text": [
      "\r",
      " 73%|███████▎  | 8/11 [02:20<00:52, 17.50s/it]"
     ]
    },
    {
     "name": "stdout",
     "output_type": "stream",
     "text": [
      "/media/tom/Transcend/autofish/2023-06-28_AutoFISH_22rounds/segmentation_mask/r1_pos7.tif\n"
     ]
    },
    {
     "name": "stderr",
     "output_type": "stream",
     "text": [
      "\r",
      " 82%|████████▏ | 9/11 [02:38<00:34, 17.47s/it]"
     ]
    },
    {
     "name": "stdout",
     "output_type": "stream",
     "text": [
      "/media/tom/Transcend/autofish/2023-06-28_AutoFISH_22rounds/segmentation_mask/r1_pos8.tif\n"
     ]
    },
    {
     "name": "stderr",
     "output_type": "stream",
     "text": [
      "\r",
      " 91%|█████████ | 10/11 [02:55<00:17, 17.44s/it]"
     ]
    },
    {
     "name": "stdout",
     "output_type": "stream",
     "text": [
      "/media/tom/Transcend/autofish/2023-06-28_AutoFISH_22rounds/segmentation_mask/r1_pos9.tif\n"
     ]
    },
    {
     "name": "stderr",
     "output_type": "stream",
     "text": [
      "100%|██████████| 11/11 [03:11<00:00, 17.38s/it]\n"
     ]
    }
   ],
   "source": [
    "dict_spots_registered_df = spots_assignement(dict_spots_registered_df,\n",
    "path_to_masks = path_to_masks,\n",
    "files_mask_extension = \"*.tif*\" ,\n",
    "in_place = False,)"
   ]
  },
  {
   "cell_type": "code",
   "execution_count": 70,
   "id": "b4912b55",
   "metadata": {},
   "outputs": [
    {
     "data": {
      "text/plain": [
       "dict_keys(['pos9'])"
      ]
     },
     "execution_count": 70,
     "metadata": {},
     "output_type": "execute_result"
    }
   ],
   "source": [
    "dico_spots_registered_df.keys()"
   ]
  },
  {
   "cell_type": "code",
   "execution_count": 71,
   "id": "0742ebcf",
   "metadata": {},
   "outputs": [],
   "source": [
    "\n",
    "np.save(\"/media/tom/Transcend/autofish/2023-06-28_AutoFISH_22rounds/dict_spots_registered_df_r1_with_cell.npy\",\n",
    "                                   dict_spots_registered_df)"
   ]
  },
  {
   "cell_type": "code",
   "execution_count": 72,
   "id": "9d8dfb3e",
   "metadata": {},
   "outputs": [
    {
     "data": {
      "text/plain": [
       "2049.4374559123335"
      ]
     },
     "execution_count": 72,
     "metadata": {},
     "output_type": "execute_result"
    }
   ],
   "source": [
    "dict_spots_registered_df[\"pos0\"].x.max()"
   ]
  },
  {
   "cell_type": "code",
   "execution_count": 65,
   "id": "0313564b",
   "metadata": {},
   "outputs": [],
   "source": [
    "import pandas as pd"
   ]
  },
  {
   "cell_type": "code",
   "execution_count": 66,
   "id": "27496c46",
   "metadata": {},
   "outputs": [
    {
     "data": {
      "text/plain": [
       "'1.4.0'"
      ]
     },
     "execution_count": 66,
     "metadata": {},
     "output_type": "execute_result"
    }
   ],
   "source": [
    "pd.__version__"
   ]
  },
  {
   "cell_type": "code",
   "execution_count": null,
   "id": "89699aaa",
   "metadata": {},
   "outputs": [],
   "source": []
  }
 ],
 "metadata": {
  "kernelspec": {
   "display_name": "bigfish38_samm",
   "language": "python",
   "name": "bigfish38_samm"
  },
  "language_info": {
   "codemirror_mode": {
    "name": "ipython",
    "version": 3
   },
   "file_extension": ".py",
   "mimetype": "text/x-python",
   "name": "python",
   "nbconvert_exporter": "python",
   "pygments_lexer": "ipython3",
   "version": "3.8.8"
  }
 },
 "nbformat": 4,
 "nbformat_minor": 5
}
