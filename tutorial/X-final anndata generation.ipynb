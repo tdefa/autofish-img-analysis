{
 "cells": [
  {
   "cell_type": "code",
   "execution_count": 2,
   "id": "c56ebe5a",
   "metadata": {},
   "outputs": [],
   "source": [
    "import sys"
   ]
  },
  {
   "cell_type": "code",
   "execution_count": 4,
   "id": "b935db7d",
   "metadata": {},
   "outputs": [],
   "source": [
    "sys.path += ['/snap/pycharm-professional/344/plugins/python/helpers/pydev',\n",
    " '/snap/pycharm-professional/344/plugins/python/helpers/third_party/thriftpy',\n",
    " '/snap/pycharm-professional/344/plugins/python/helpers/pydev',\n",
    " '/snap/pycharm-professional/344/plugins/python/helpers/pycharm_display',\n",
    " '/home/tom/anaconda3/envs/bigfish38_samm/lib/python38.zip',\n",
    " '/home/tom/anaconda3/envs/bigfish38_samm/lib/python3.8',\n",
    " '/home/tom/anaconda3/envs/bigfish38_samm/lib/python3.8/lib-dynload',\n",
    " '/home/tom/.local/lib/python3.8/site-packages',\n",
    " '/home/tom/anaconda3/envs/bigfish38_samm/lib/python3.8/site-packages',\n",
    " '/home/tom/Bureau/phd/simulation/sim-fish',\n",
    " '/home/tom/Bureau/phd/simulation/ssam-release',\n",
    " '/home/tom/pysmFISH',\n",
    " '/home/tom/anaconda3/envs/bigfish38_samm/lib/python3.8/site-packages/SimpleITK-2.0.0rc2.dev910+ga138e-py3.8-linux-x86_64.egg',\n",
    " '/home/tom/anaconda3/envs/bigfish38_samm/lib/python3.8/site-packages/autofish-0.1-py3.8.egg',\n",
    " '/snap/pycharm-professional/344/plugins/python/helpers/pycharm_matplotlib_backend',\n",
    " '/home/tom/anaconda3/envs/bigfish38_samm/lib/python3.8/site-packages/IPython/extensions',\n",
    " '/home/tom/Bureau/phd/autofish_pckg/autofish']"
   ]
  },
  {
   "cell_type": "code",
   "execution_count": 5,
   "id": "657d7e1e",
   "metadata": {},
   "outputs": [
    {
     "data": {
      "text/plain": [
       "['/home/tom/Bureau/phd/autofish_pckg/tutorial',\n",
       " '/home/tom/anaconda3/lib/python38.zip',\n",
       " '/home/tom/anaconda3/lib/python3.8',\n",
       " '/home/tom/anaconda3/lib/python3.8/lib-dynload',\n",
       " '',\n",
       " '/home/tom/.local/lib/python3.8/site-packages',\n",
       " '/home/tom/anaconda3/lib/python3.8/site-packages',\n",
       " '/home/tom/Bureau/phd/autofish_pckg',\n",
       " '/snap/pycharm-professional/344/plugins/python/helpers/pydev',\n",
       " '/snap/pycharm-professional/344/plugins/python/helpers/third_party/thriftpy',\n",
       " '/snap/pycharm-professional/344/plugins/python/helpers/pydev',\n",
       " '/snap/pycharm-professional/344/plugins/python/helpers/pycharm_display',\n",
       " '/home/tom/anaconda3/envs/bigfish38_samm/lib/python38.zip',\n",
       " '/home/tom/anaconda3/envs/bigfish38_samm/lib/python3.8',\n",
       " '/home/tom/anaconda3/envs/bigfish38_samm/lib/python3.8/lib-dynload',\n",
       " '/home/tom/.local/lib/python3.8/site-packages',\n",
       " '/home/tom/anaconda3/envs/bigfish38_samm/lib/python3.8/site-packages',\n",
       " '/home/tom/Bureau/phd/simulation/sim-fish',\n",
       " '/home/tom/Bureau/phd/simulation/ssam-release',\n",
       " '/home/tom/pysmFISH',\n",
       " '/home/tom/anaconda3/envs/bigfish38_samm/lib/python3.8/site-packages/SimpleITK-2.0.0rc2.dev910+ga138e-py3.8-linux-x86_64.egg',\n",
       " '/home/tom/anaconda3/envs/bigfish38_samm/lib/python3.8/site-packages/autofish-0.1-py3.8.egg',\n",
       " '/snap/pycharm-professional/344/plugins/python/helpers/pycharm_matplotlib_backend',\n",
       " '/home/tom/anaconda3/envs/bigfish38_samm/lib/python3.8/site-packages/IPython/extensions',\n",
       " '/home/tom/Bureau/phd/autofish_pckg/autofish']"
      ]
     },
     "execution_count": 5,
     "metadata": {},
     "output_type": "execute_result"
    }
   ],
   "source": [
    "sys.path"
   ]
  },
  {
   "cell_type": "code",
   "execution_count": 6,
   "id": "ba7f5bad",
   "metadata": {},
   "outputs": [],
   "source": [
    "import anndata"
   ]
  },
  {
   "cell_type": "code",
   "execution_count": null,
   "id": "e56d2edc",
   "metadata": {},
   "outputs": [],
   "source": []
  }
 ],
 "metadata": {
  "kernelspec": {
   "display_name": "bigfish38_samm",
   "language": "python",
   "name": "bigfish38_samm"
  },
  "language_info": {
   "codemirror_mode": {
    "name": "ipython",
    "version": 3
   },
   "file_extension": ".py",
   "mimetype": "text/x-python",
   "name": "python",
   "nbconvert_exporter": "python",
   "pygments_lexer": "ipython3",
   "version": "3.8.8"
  }
 },
 "nbformat": 4,
 "nbformat_minor": 5
}
