{
 "cells": [
  {
   "cell_type": "markdown",
   "id": "f22beff7",
   "metadata": {},
   "source": [
    "## Stiching Python object\n",
    "\n",
    "- We use the previously stiching coordinates to stich the detected point cloud of each round to ensure not conting twice the same spots\n",
    "- We stich the segmented cell of segmentation mask of each position\n",
    "- For visualisation purposes it also possible to stitch other channel\n"
   ]
  },
  {
   "cell_type": "code",
   "execution_count": 50,
   "id": "70738042",
   "metadata": {},
   "outputs": [],
   "source": [
    "import sys\n",
    "sys.path += ['/snap/pycharm-professional/344/plugins/python/helpers/pydev',\n",
    " '/snap/pycharm-professional/344/plugins/python/helpers/third_party/thriftpy',\n",
    " '/snap/pycharm-professional/344/plugins/python/helpers/pydev',\n",
    " '/snap/pycharm-professional/344/plugins/python/helpers/pycharm_display',\n",
    " '/home/tom/anaconda3/envs/bigfish38_samm/lib/python38.zip',\n",
    " '/home/tom/anaconda3/envs/bigfish38_samm/lib/python3.8',\n",
    " '/home/tom/anaconda3/envs/bigfish38_samm/lib/python3.8/lib-dynload',\n",
    " '/home/tom/.local/lib/python3.8/site-packages',\n",
    " '/home/tom/anaconda3/envs/bigfish38_samm/lib/python3.8/site-packages',\n",
    " '/home/tom/Bureau/phd/simulation/sim-fish',\n",
    " '/home/tom/Bureau/phd/simulation/ssam-release',\n",
    " '/home/tom/pysmFISH',\n",
    " '/home/tom/anaconda3/envs/bigfish38_samm/lib/python3.8/site-packages/SimpleITK-2.0.0rc2.dev910+ga138e-py3.8-linux-x86_64.egg',\n",
    " '/home/tom/anaconda3/envs/bigfish38_samm/lib/python3.8/site-packages/autofish-0.1-py3.8.egg',\n",
    " '/snap/pycharm-professional/344/plugins/python/helpers/pycharm_matplotlib_backend',\n",
    " '/home/tom/anaconda3/envs/bigfish38_samm/lib/python3.8/site-packages/IPython/extensions',\n",
    " '/home/tom/Bureau/phd/autofish_pckg/autofish']"
   ]
  },
  {
   "cell_type": "code",
   "execution_count": 3,
   "id": "643cfd0f",
   "metadata": {},
   "outputs": [
    {
     "name": "stdout",
     "output_type": "stream",
     "text": [
      "/home/tom/Bureau/phd/autofish_pckg/autofish\n"
     ]
    }
   ],
   "source": [
    "module_path = '/home/tom/Bureau/phd/autofish_pckg/autofish'\n",
    "%cd $module_path\n",
    "from pathlib import Path\n",
    "import numpy as np"
   ]
  },
  {
   "cell_type": "markdown",
   "id": "24a300fe",
   "metadata": {},
   "source": [
    "## stitching of point cloud\n"
   ]
  },
  {
   "cell_type": "code",
   "execution_count": 14,
   "id": "be03ffac",
   "metadata": {},
   "outputs": [],
   "source": [
    "import importlib\n",
    "import stitching\n",
    "importlib.reload(stitching)\n",
    "from stitching import  stich_dico_spots"
   ]
  },
  {
   "cell_type": "code",
   "execution_count": 16,
   "id": "7ec8aabc",
   "metadata": {},
   "outputs": [
    {
     "data": {
      "text/plain": [
       "{'img0': {'pos2': array([2., 0., 0.]),\n",
       "  'pos1': array([1.858e+03, 6.700e+01, 1.000e+00]),\n",
       "  'pos0': array([ 3.71e+03,  1.34e+02, -2.00e+00])},\n",
       " 'img1': {'pos8': array([0., 0., 0.]),\n",
       "  'pos7': array([1856.,   67.,    0.]),\n",
       "  'pos6': array([3.705e+03, 1.340e+02, 3.000e+00])}}"
      ]
     },
     "execution_count": 16,
     "metadata": {},
     "output_type": "execute_result"
    }
   ],
   "source": [
    "dico_stitch_img"
   ]
  },
  {
   "cell_type": "code",
   "execution_count": 17,
   "id": "3f17251b",
   "metadata": {
    "scrolled": true
   },
   "outputs": [
    {
     "name": "stdout",
     "output_type": "stream",
     "text": [
      "img0\n",
      "pos2\n",
      "pos1\n",
      "pos0\n",
      "img1\n",
      "pos8\n",
      "pos7\n",
      "pos6\n"
     ]
    }
   ],
   "source": [
    "folder_of_rounds = \"/media/tom/Transcend/autofish_test_stiching/\"\n",
    "\n",
    "\n",
    "### load previously registered spots detection\n",
    "dico_spots_registered = np.load(Path(folder_of_rounds) / \"dico_spots_registered_r1.npy\",\n",
    "                                allow_pickle=True).item()\n",
    "### load previously computed stitching coordinate\n",
    "dico_stitch_img = np.load(Path(folder_of_rounds) / \"dict_stitch_img.npy\",\n",
    "                          allow_pickle=True).item()\n",
    "\n",
    "\n",
    "## define the correspondance between round and RNA species\n",
    "dico_bc_gene={\n",
    "        'r1': \"gene1\",\n",
    "        'r5': \"gene2\",\n",
    "        }\n",
    "\n",
    "## image dimention parameter\n",
    "image_shape=[38, 2048, 2048]\n",
    "nb_tiles_x=3\n",
    "nb_tiles_y=1\n",
    "\n",
    "\n",
    "dico_spots_registered_stitch_df = stich_dico_spots(\n",
    "    dico_spots_registered = dico_spots_registered,\n",
    "                     dico_stitch_img = dico_stitch_img,\n",
    "                     dico_bc_gene=dico_bc_gene,\n",
    "                     image_shape=image_shape,\n",
    "                 nb_tiles_x=nb_tiles_x,\n",
    "                 nb_tiles_y=nb_tiles_y,\n",
    "                 )\n",
    "\n",
    "np.save(Path(folder_of_rounds) /  \"dico_spots_registered_stitch_df.npy\",\n",
    "        dico_spots_registered_stitch_df)"
   ]
  },
  {
   "cell_type": "markdown",
   "id": "af47441e",
   "metadata": {},
   "source": [
    "## stitching of segmentation mask\n",
    "\n",
    "objective re-index cell, get a dico for cell index corresponce\n",
    "\n",
    "{image : {local index : global index}\n",
    "\n",
    "\n",
    "{global index :  [image, local index]\n",
    "\n",
    "df global index local index image\n",
    "\n"
   ]
  },
  {
   "cell_type": "code",
   "execution_count": 42,
   "id": "58f862af",
   "metadata": {},
   "outputs": [],
   "source": [
    "dict_stitch_img = np.load(f\"/media/tom/Transcend/autofish_test_stiching/dict_stitch_img.npy\",\n",
    "                          allow_pickle=True).item()\n",
    "\n",
    "\n",
    "path_mask = \"/media/tom/Transcend/autofish_test_stiching/segmentation_mask\"\n",
    "path_to_save_mask = \"/media/tom/Transcend/autofish_test_stiching/segmentation_mask_stitch\"\n",
    "\n",
    "image_shape=[38, 2048, 2048]\n",
    "nb_tiles_x=3\n",
    "nb_tiles_y=1\n",
    "iou_threshold = 0.10 ## overlap threshold above two cell a considere the same when stitching"
   ]
  },
  {
   "cell_type": "code",
   "execution_count": 43,
   "id": "d8bade3a",
   "metadata": {},
   "outputs": [
    {
     "data": {
      "text/plain": [
       "{'img0': {'pos2': array([2., 0., 0.]),\n",
       "  'pos1': array([   3.,   67., 1856.]),\n",
       "  'pos0': array([   0.,  134., 3708.])},\n",
       " 'img1': {'pos8': array([0., 0., 0.]),\n",
       "  'pos7': array([   0.,   67., 1856.]),\n",
       "  'pos6': array([3.000e+00, 1.340e+02, 3.705e+03])}}"
      ]
     },
     "execution_count": 43,
     "metadata": {},
     "output_type": "execute_result"
    }
   ],
   "source": [
    "dico_stitch_img"
   ]
  },
  {
   "cell_type": "code",
   "execution_count": 44,
   "id": "031224c4",
   "metadata": {},
   "outputs": [],
   "source": [
    "import stitching\n",
    "importlib.reload(stitching)\n",
    "from stitching import  stich_segmask"
   ]
  },
  {
   "cell_type": "markdown",
   "id": "f5e1378c",
   "metadata": {},
   "source": [
    "#### **stich_segmask** will stitch the image define in **dict_stitch_img** and save them in **path_to_save_mask**"
   ]
  },
  {
   "cell_type": "code",
   "execution_count": 45,
   "id": "d34d9c72",
   "metadata": {
    "scrolled": true
   },
   "outputs": [
    {
     "name": "stdout",
     "output_type": "stream",
     "text": [
      "(42, 3048, 7144)\n"
     ]
    },
    {
     "name": "stderr",
     "output_type": "stream",
     "text": [
      "\r",
      "  0%|                                                                                                                                                                                                                                                                                             | 0/6 [00:00<?, ?it/s]"
     ]
    },
    {
     "name": "stdout",
     "output_type": "stream",
     "text": [
      "r1_pos0.tif\n",
      "present_cell [0]\n"
     ]
    },
    {
     "name": "stderr",
     "output_type": "stream",
     "text": [
      "\r",
      " 17%|██████████████████████████████████████████████▏                                                                                                                                                                                                                                      | 1/6 [00:23<01:57, 23.51s/it]"
     ]
    },
    {
     "name": "stdout",
     "output_type": "stream",
     "text": [
      "len dico_centroid 35\n",
      "\n",
      "r1_pos1.tif\n",
      "present_cell [ 0  5 10 13 14 18 24 26]\n",
      "unique_inter_cell [ 0 47 53 55 60] , cell 5\n",
      "iou 0.002323988948141447 cell 5 inter_cell 2\n",
      "iou 0.7016742648598352 cell 5 inter_cell 8\n",
      "iou MATCH  0.7016742648598352\n",
      "iou 0.002026287864058338 cell 5 inter_cell 10\n",
      "iou 6.330429424680023e-06 cell 5 inter_cell 15\n",
      "unique_inter_cell [ 0  5 60 66 67] , cell 10\n"
     ]
    },
    {
     "name": "stderr",
     "output_type": "stream",
     "text": [
      "/home/tom/Bureau/phd/autofish_pckg/autofish/stitching.py:409: RuntimeWarning: overflow encountered in ushort_scalars\n",
      "  print(f\"iou {iou} cell {cell} inter_cell {inter_cell-max_ind_cell}\")\n"
     ]
    },
    {
     "name": "stdout",
     "output_type": "stream",
     "text": [
      "iou 0.0008576315487889586 cell 10 inter_cell 65496\n",
      "iou 0.7113925332565475 cell 10 inter_cell 15\n",
      "iou MATCH  0.7113925332565475\n",
      "iou 0.026068011907196584 cell 10 inter_cell 21\n",
      "iou 0.0005907479480517439 cell 10 inter_cell 22\n",
      "unique_inter_cell [ 0 10 66 67] , cell 13\n",
      "iou 0.00018669691865084003 cell 13 inter_cell 65501\n",
      "iou 0.0016433407237784819 cell 13 inter_cell 21\n",
      "iou 0.4122035511425958 cell 13 inter_cell 22\n",
      "iou MATCH  0.4122035511425958\n",
      "unique_inter_cell [ 0 71] , cell 14\n",
      "iou 0.0013482708231855821 cell 14 inter_cell 26\n",
      "unique_inter_cell [  0  71  81 102] , cell 18\n",
      "iou 0.6423317688049738 cell 18 inter_cell 26\n",
      "iou MATCH  0.6423317688049738\n",
      "iou 0.00220692675890242 cell 18 inter_cell 36\n",
      "iou 0.023919850812104484 cell 18 inter_cell 57\n",
      "unique_inter_cell [ 0 75] , cell 24\n",
      "iou 0.7269422964939127 cell 24 inter_cell 30\n",
      "iou MATCH  0.7269422964939127\n",
      "unique_inter_cell [ 0  5 47] , cell 26\n",
      "iou 0.00010657864443346466 cell 26 inter_cell 65496\n",
      "iou 0.3016751574149372 cell 26 inter_cell 2\n",
      "iou MATCH  0.3016751574149372\n"
     ]
    },
    {
     "name": "stderr",
     "output_type": "stream",
     "text": [
      "\r",
      " 33%|████████████████████████████████████████████████████████████████████████████████████████████▎                                                                                                                                                                                        | 2/6 [01:12<02:33, 38.33s/it]"
     ]
    },
    {
     "name": "stdout",
     "output_type": "stream",
     "text": [
      "len dico_centroid 104\n",
      "\n",
      "r1_pos2.tif\n",
      "present_cell [  0  46  57  59  65  69  72  77  83  87  91  92  98 100 101 107 145]\n",
      "unique_inter_cell [  0 150] , cell 46\n",
      "iou 0.29281259034445306 cell 46 inter_cell 4\n",
      "iou MATCH  0.29281259034445306\n",
      "unique_inter_cell [  0 156 160] , cell 57\n",
      "iou 0.6391451611343155 cell 57 inter_cell 10\n",
      "iou MATCH  0.6391451611343155\n",
      "iou 0.00014008299917701237 cell 57 inter_cell 14\n",
      "unique_inter_cell [ 0 57] , cell 59\n",
      "iou 0.03251092668467713 cell 59 inter_cell 65447\n",
      "unique_inter_cell [  0  57 160 162 164] , cell 65\n",
      "iou 0.0005594159882014082 cell 65 inter_cell 65447\n",
      "iou 0.7552632436719748 cell 65 inter_cell 14\n",
      "iou MATCH  0.7552632436719748\n",
      "iou 0.0006792387722573542 cell 65 inter_cell 16\n",
      "iou 0.0018183209641654179 cell 65 inter_cell 18\n",
      "unique_inter_cell [  0  65 162 164] , cell 69\n",
      "iou 0.0004209287518933232 cell 69 inter_cell 65455\n",
      "iou 0.00027614862549825404 cell 69 inter_cell 16\n",
      "iou 0.7668550871102042 cell 69 inter_cell 18\n",
      "iou MATCH  0.7668550871102042\n",
      "unique_inter_cell [  0  69 168 201] , cell 72\n"
     ]
    },
    {
     "name": "stderr",
     "output_type": "stream",
     "text": [
      " 33%|████████████████████████████████████████████████████████████████████████████████████████████▎                                                                                                                                                                                        | 2/6 [01:44<03:29, 52.35s/it]\n"
     ]
    },
    {
     "ename": "KeyboardInterrupt",
     "evalue": "",
     "output_type": "error",
     "traceback": [
      "\u001b[0;31m---------------------------------------------------------------------------\u001b[0m",
      "\u001b[0;31mKeyboardInterrupt\u001b[0m                         Traceback (most recent call last)",
      "Cell \u001b[0;32mIn[45], line 1\u001b[0m\n\u001b[0;32m----> 1\u001b[0m _, _, df_matching_new_cell_label \u001b[38;5;241m=\u001b[39m \u001b[43mstich_segmask\u001b[49m\u001b[43m(\u001b[49m\u001b[43mdict_stitch_img\u001b[49m\u001b[43m,\u001b[49m\u001b[43m \u001b[49m\u001b[38;5;66;43;03m# np.load(f\"/media/tom/T7/Stitch/acquisition/2mai_dico_stitch.npy\",allow_pickle=True).item()\u001b[39;49;00m\n\u001b[1;32m      2\u001b[0m \u001b[43m                  \u001b[49m\u001b[43mpath_mask\u001b[49m\u001b[43m \u001b[49m\u001b[38;5;241;43m=\u001b[39;49m\u001b[43m \u001b[49m\u001b[43mpath_mask\u001b[49m\u001b[43m,\u001b[49m\n\u001b[1;32m      3\u001b[0m \u001b[43m                  \u001b[49m\u001b[43mpath_to_save_mask\u001b[49m\u001b[43m \u001b[49m\u001b[38;5;241;43m=\u001b[39;49m\u001b[43m \u001b[49m\u001b[43mpath_to_save_mask\u001b[49m\u001b[43m,\u001b[49m\n\u001b[1;32m      4\u001b[0m \u001b[43m                  \u001b[49m\u001b[43mimage_shape\u001b[49m\u001b[38;5;241;43m=\u001b[39;49m\u001b[43mimage_shape\u001b[49m\u001b[43m,\u001b[49m\n\u001b[1;32m      5\u001b[0m \u001b[43m                  \u001b[49m\u001b[43mnb_tiles_x\u001b[49m\u001b[43m \u001b[49m\u001b[38;5;241;43m=\u001b[39;49m\u001b[43m \u001b[49m\u001b[43mnb_tiles_x\u001b[49m\u001b[43m,\u001b[49m\n\u001b[1;32m      6\u001b[0m \u001b[43m                  \u001b[49m\u001b[43mnb_tiles_y\u001b[49m\u001b[38;5;241;43m=\u001b[39;49m\u001b[43mnb_tiles_y\u001b[49m\u001b[43m,\u001b[49m\n\u001b[1;32m      7\u001b[0m \n\u001b[1;32m      8\u001b[0m \u001b[43m                  \u001b[49m\u001b[43mcompute_dico_centroid\u001b[49m\u001b[43m \u001b[49m\u001b[38;5;241;43m=\u001b[39;49m\u001b[43m \u001b[49m\u001b[43mcompute_dico_centroid\u001b[49m\u001b[43m,\u001b[49m\n\u001b[1;32m      9\u001b[0m \u001b[43m                  \u001b[49m\u001b[43miou_threshold\u001b[49m\u001b[43m \u001b[49m\u001b[38;5;241;43m=\u001b[39;49m\u001b[43m \u001b[49m\u001b[38;5;241;43m0.10\u001b[39;49m\u001b[43m)\u001b[49m\n",
      "File \u001b[0;32m~/Bureau/phd/autofish_pckg/autofish/stitching.py:407\u001b[0m, in \u001b[0;36mstich_segmask\u001b[0;34m(dico_stitch_img, path_mask, path_to_save_mask, image_shape, nb_tiles_x, nb_tiles_y, compute_dico_centroid, iou_threshold)\u001b[0m\n\u001b[1;32m    404\u001b[0m     unique_inter_cell \u001b[38;5;241m=\u001b[39m unique_inter_cell[\u001b[38;5;241m1\u001b[39m:]\n\u001b[1;32m    406\u001b[0m \u001b[38;5;28;01mfor\u001b[39;00m inter_cell \u001b[38;5;129;01min\u001b[39;00m np\u001b[38;5;241m.\u001b[39munique(unique_inter_cell):\n\u001b[0;32m--> 407\u001b[0m     iou \u001b[38;5;241m=\u001b[39m np\u001b[38;5;241m.\u001b[39mlogical_and(\u001b[43mind_mask\u001b[49m\u001b[43m \u001b[49m\u001b[38;5;241;43m==\u001b[39;49m\u001b[43m \u001b[49m\u001b[43minter_cell\u001b[49m, local_mask \u001b[38;5;241m==\u001b[39m cell)\u001b[38;5;241m.\u001b[39msum() \\\n\u001b[1;32m    408\u001b[0m           \u001b[38;5;241m/\u001b[39m np\u001b[38;5;241m.\u001b[39mlogical_or(ind_mask \u001b[38;5;241m==\u001b[39m inter_cell, local_mask \u001b[38;5;241m==\u001b[39m cell)\u001b[38;5;241m.\u001b[39msum()\n\u001b[1;32m    409\u001b[0m     \u001b[38;5;28mprint\u001b[39m(\u001b[38;5;124mf\u001b[39m\u001b[38;5;124m\"\u001b[39m\u001b[38;5;124miou \u001b[39m\u001b[38;5;132;01m{\u001b[39;00miou\u001b[38;5;132;01m}\u001b[39;00m\u001b[38;5;124m cell \u001b[39m\u001b[38;5;132;01m{\u001b[39;00mcell\u001b[38;5;132;01m}\u001b[39;00m\u001b[38;5;124m inter_cell \u001b[39m\u001b[38;5;132;01m{\u001b[39;00minter_cell\u001b[38;5;241m-\u001b[39mmax_ind_cell\u001b[38;5;132;01m}\u001b[39;00m\u001b[38;5;124m\"\u001b[39m)\n\u001b[1;32m    411\u001b[0m     \u001b[38;5;28;01mif\u001b[39;00m iou \u001b[38;5;241m>\u001b[39m iou_threshold:\n",
      "\u001b[0;31mKeyboardInterrupt\u001b[0m: "
     ]
    }
   ],
   "source": [
    "_, _, df_matching_new_cell_label = stich_segmask(dict_stitch_img, # np.load(f\"/media/tom/T7/Stitch/acquisition/2mai_dico_stitch.npy\",allow_pickle=True).item()\n",
    "                  path_mask = path_mask,\n",
    "                  path_to_save_mask = path_to_save_mask,\n",
    "                  image_shape=image_shape,\n",
    "                  nb_tiles_x = nb_tiles_x,\n",
    "                  nb_tiles_y=nb_tiles_y,\n",
    "\n",
    "                  compute_dico_centroid = compute_dico_centroid,\n",
    "                  iou_threshold = 0.10)"
   ]
  },
  {
   "cell_type": "code",
   "execution_count": 38,
   "id": "9e8553c0",
   "metadata": {},
   "outputs": [
    {
     "data": {
      "text/html": [
       "<div>\n",
       "<style scoped>\n",
       "    .dataframe tbody tr th:only-of-type {\n",
       "        vertical-align: middle;\n",
       "    }\n",
       "\n",
       "    .dataframe tbody tr th {\n",
       "        vertical-align: top;\n",
       "    }\n",
       "\n",
       "    .dataframe thead th {\n",
       "        text-align: right;\n",
       "    }\n",
       "</style>\n",
       "<table border=\"1\" class=\"dataframe\">\n",
       "  <thead>\n",
       "    <tr style=\"text-align: right;\">\n",
       "      <th></th>\n",
       "      <th>local_label</th>\n",
       "      <th>global_label</th>\n",
       "      <th>pos</th>\n",
       "    </tr>\n",
       "  </thead>\n",
       "  <tbody>\n",
       "    <tr>\n",
       "      <th>0</th>\n",
       "      <td>0</td>\n",
       "      <td>0</td>\n",
       "      <td>pos6</td>\n",
       "    </tr>\n",
       "    <tr>\n",
       "      <th>1</th>\n",
       "      <td>1</td>\n",
       "      <td>1</td>\n",
       "      <td>pos6</td>\n",
       "    </tr>\n",
       "    <tr>\n",
       "      <th>2</th>\n",
       "      <td>2</td>\n",
       "      <td>2</td>\n",
       "      <td>pos6</td>\n",
       "    </tr>\n",
       "    <tr>\n",
       "      <th>3</th>\n",
       "      <td>3</td>\n",
       "      <td>3</td>\n",
       "      <td>pos6</td>\n",
       "    </tr>\n",
       "    <tr>\n",
       "      <th>4</th>\n",
       "      <td>4</td>\n",
       "      <td>4</td>\n",
       "      <td>pos6</td>\n",
       "    </tr>\n",
       "    <tr>\n",
       "      <th>...</th>\n",
       "      <td>...</td>\n",
       "      <td>...</td>\n",
       "      <td>...</td>\n",
       "    </tr>\n",
       "    <tr>\n",
       "      <th>145</th>\n",
       "      <td>68</td>\n",
       "      <td>202</td>\n",
       "      <td>pos8</td>\n",
       "    </tr>\n",
       "    <tr>\n",
       "      <th>146</th>\n",
       "      <td>69</td>\n",
       "      <td>203</td>\n",
       "      <td>pos8</td>\n",
       "    </tr>\n",
       "    <tr>\n",
       "      <th>147</th>\n",
       "      <td>71</td>\n",
       "      <td>205</td>\n",
       "      <td>pos8</td>\n",
       "    </tr>\n",
       "    <tr>\n",
       "      <th>148</th>\n",
       "      <td>72</td>\n",
       "      <td>206</td>\n",
       "      <td>pos8</td>\n",
       "    </tr>\n",
       "    <tr>\n",
       "      <th>149</th>\n",
       "      <td>73</td>\n",
       "      <td>207</td>\n",
       "      <td>pos8</td>\n",
       "    </tr>\n",
       "  </tbody>\n",
       "</table>\n",
       "<p>150 rows × 3 columns</p>\n",
       "</div>"
      ],
      "text/plain": [
       "     local_label  global_label   pos\n",
       "0              0             0  pos6\n",
       "1              1             1  pos6\n",
       "2              2             2  pos6\n",
       "3              3             3  pos6\n",
       "4              4             4  pos6\n",
       "..           ...           ...   ...\n",
       "145           68           202  pos8\n",
       "146           69           203  pos8\n",
       "147           71           205  pos8\n",
       "148           72           206  pos8\n",
       "149           73           207  pos8\n",
       "\n",
       "[150 rows x 3 columns]"
      ]
     },
     "execution_count": 38,
     "metadata": {},
     "output_type": "execute_result"
    }
   ],
   "source": [
    "df_matching_new_cell_label"
   ]
  },
  {
   "cell_type": "markdown",
   "id": "726b066f",
   "metadata": {},
   "source": [
    "#### the local label is the cell ID in the orignal segmented till at postion X\n",
    "#### the global label is the cell ID in the stitched mask"
   ]
  },
  {
   "cell_type": "markdown",
   "id": "68393337",
   "metadata": {},
   "source": [
    "### stich fluorescent signal\n",
    "\n",
    "Only for vizualisation purposes"
   ]
  },
  {
   "cell_type": "code",
   "execution_count": 39,
   "id": "c2bd6300",
   "metadata": {},
   "outputs": [],
   "source": [
    "import stitching\n",
    "importlib.reload(stitching)\n",
    "from stitching import  stich_from_dico_img"
   ]
  },
  {
   "cell_type": "code",
   "execution_count": 40,
   "id": "8946d511",
   "metadata": {
    "scrolled": true
   },
   "outputs": [
    {
     "name": "stderr",
     "output_type": "stream",
     "text": [
      "\r",
      "  0%|                                                                                                                                                                                                                                                                                             | 0/6 [00:00<?, ?it/s]"
     ]
    },
    {
     "name": "stdout",
     "output_type": "stream",
     "text": [
      "r1_pos0_ch0.tif in the folder\n",
      "r1_pos0_ch0.tif\n",
      "r1_pos0_ch0.tif will be stitched\n"
     ]
    },
    {
     "name": "stderr",
     "output_type": "stream",
     "text": [
      "\r",
      " 17%|██████████████████████████████████████████████▏                                                                                                                                                                                                                                      | 1/6 [00:04<00:22,  4.58s/it]"
     ]
    },
    {
     "name": "stdout",
     "output_type": "stream",
     "text": [
      "r1_pos0_ch0.tif (38, 2048, 2048)\n",
      "(38, 2048, 2048)\n",
      "r1_pos1_ch0.tif in the folder\n",
      "r1_pos1_ch0.tif\n",
      "r1_pos1_ch0.tif will be stitched\n"
     ]
    },
    {
     "name": "stderr",
     "output_type": "stream",
     "text": [
      "\r",
      " 33%|████████████████████████████████████████████████████████████████████████████████████████████▎                                                                                                                                                                                        | 2/6 [00:07<00:15,  3.84s/it]"
     ]
    },
    {
     "name": "stdout",
     "output_type": "stream",
     "text": [
      "r1_pos1_ch0.tif (38, 2048, 2048)\n",
      "(38, 2048, 2048)\n",
      "r1_pos2_ch0.tif in the folder\n",
      "r1_pos2_ch0.tif\n",
      "r1_pos2_ch0.tif will be stitched\n"
     ]
    },
    {
     "name": "stderr",
     "output_type": "stream",
     "text": [
      "100%|█████████████████████████████████████████████████████████████████████████████████████████████████████████████████████████████████████████████████████████████████████████████████████████████████████████████████████████████████████████████████████████████████████████████████████| 6/6 [00:11<00:00,  1.87s/it]"
     ]
    },
    {
     "name": "stdout",
     "output_type": "stream",
     "text": [
      "r1_pos2_ch0.tif (38, 2048, 2048)\n",
      "(38, 2048, 2048)\n",
      "r1_pos6_ch0.tif in the folder\n",
      "r1_pos7_ch0.tif in the folder\n",
      "r1_pos8_ch0.tif in the folder\n"
     ]
    },
    {
     "name": "stderr",
     "output_type": "stream",
     "text": [
      "\n",
      "  0%|                                                                                                                                                                                                                                                                                             | 0/6 [00:00<?, ?it/s]"
     ]
    },
    {
     "name": "stdout",
     "output_type": "stream",
     "text": [
      "r1_pos0_ch0.tif in the folder\n",
      "r1_pos1_ch0.tif in the folder\n",
      "r1_pos2_ch0.tif in the folder\n",
      "r1_pos6_ch0.tif in the folder\n",
      "r1_pos6_ch0.tif\n",
      "r1_pos6_ch0.tif will be stitched\n"
     ]
    },
    {
     "name": "stderr",
     "output_type": "stream",
     "text": [
      "\r",
      " 67%|████████████████████████████████████████████████████████████████████████████████████████████████████████████████████████████████████████████████████████████████████████████████████████▋                                                                                            | 4/6 [00:14<00:07,  3.74s/it]"
     ]
    },
    {
     "name": "stdout",
     "output_type": "stream",
     "text": [
      "r1_pos6_ch0.tif (38, 2048, 2048)\n",
      "(38, 2048, 2048)\n",
      "r1_pos7_ch0.tif in the folder\n",
      "r1_pos7_ch0.tif\n",
      "r1_pos7_ch0.tif will be stitched\n"
     ]
    },
    {
     "name": "stderr",
     "output_type": "stream",
     "text": [
      "\r",
      " 83%|██████████████████████████████████████████████████████████████████████████████████████████████████████████████████████████████████████████████████████████████████████████████████████████████████████████████████████████████████████▊                                              | 5/6 [00:18<00:03,  3.61s/it]"
     ]
    },
    {
     "name": "stdout",
     "output_type": "stream",
     "text": [
      "r1_pos7_ch0.tif (38, 2048, 2048)\n",
      "(38, 2048, 2048)\n",
      "r1_pos8_ch0.tif in the folder\n",
      "r1_pos8_ch0.tif\n",
      "r1_pos8_ch0.tif will be stitched\n"
     ]
    },
    {
     "name": "stderr",
     "output_type": "stream",
     "text": [
      "100%|█████████████████████████████████████████████████████████████████████████████████████████████████████████████████████████████████████████████████████████████████████████████████████████████████████████████████████████████████████████████████████████████████████████████████████| 6/6 [00:21<00:00,  3.59s/it]"
     ]
    },
    {
     "name": "stdout",
     "output_type": "stream",
     "text": [
      "r1_pos8_ch0.tif (38, 2048, 2048)\n",
      "(38, 2048, 2048)\n"
     ]
    },
    {
     "name": "stderr",
     "output_type": "stream",
     "text": [
      "\n"
     ]
    }
   ],
   "source": [
    "image_shape=[38, 2048, 2048]\n",
    "nb_tiles_x=3\n",
    "nb_tiles_y=1\n",
    "for image_name in dico_stitch_img:\n",
    "    dico_stitch = dico_stitch_img[image_name]\n",
    "    final_masks = stich_from_dico_img(dico_stitch, # np.load(f\"/media/tom/T7/Stitch/acquisition/2mai_dico_stitch.npy\",allow_pickle=True).item()\n",
    "                      path_mask = \"/media/tom/Transcend/autofish_test_stiching/r1\",\n",
    "                        regex = \"*_ch0*tif*\",\n",
    "                        image_shape=image_shape,\n",
    "                            nb_tiles_x=nb_tiles_x,\n",
    "                            nb_tiles_y=nb_tiles_y,)\n",
    "    \n",
    "    np.save(Path(\"/media/tom/Transcend/autofish_test_stiching/segmentation_mask_stitch/stitch_input\") / image_name,\n",
    "            final_masks)\n",
    "    "
   ]
  },
  {
   "cell_type": "markdown",
   "id": "efc11594",
   "metadata": {},
   "source": [
    "# Stich signal for vizualisation purposes\n"
   ]
  },
  {
   "cell_type": "code",
   "execution_count": null,
   "id": "4e6e953e",
   "metadata": {},
   "outputs": [
    {
     "name": "stderr",
     "output_type": "stream",
     "text": [
      "WARNING: Could not load the Qt platform plugin \"xcb\" in \"\" even though it was found.\n"
     ]
    }
   ],
   "source": [
    "folder_of_rounds = \"/media/tom/Transcend/autofish_test_stiching/\"\n",
    "cell_mask = np.load(Path(folder_of_rounds) / \"segmentation_mask_stitch/img0.npy\")\n",
    "fish_img =  np.load(Path(folder_of_rounds) / \"segmentation_mask_stitch/stitch_input/img0.npy\")\n",
    "import napari\n",
    "viewer =  napari.viewer.Viewer()\n",
    "viewer.add_image(cell_mask,  name='cell mask')\n",
    "viewer.add_image(fish_img  ,name='fish_img')"
   ]
  },
  {
   "cell_type": "code",
   "execution_count": null,
   "id": "0e19cf3e",
   "metadata": {},
   "outputs": [],
   "source": []
  }
 ],
 "metadata": {
  "kernelspec": {
   "display_name": "bigfish38_samm",
   "language": "python",
   "name": "bigfish38_samm"
  },
  "language_info": {
   "codemirror_mode": {
    "name": "ipython",
    "version": 3
   },
   "file_extension": ".py",
   "mimetype": "text/x-python",
   "name": "python",
   "nbconvert_exporter": "python",
   "pygments_lexer": "ipython3",
   "version": "3.8.8"
  }
 },
 "nbformat": 4,
 "nbformat_minor": 5
}
