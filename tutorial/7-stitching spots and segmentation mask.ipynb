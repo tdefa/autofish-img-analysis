{
 "cells": [
  {
   "cell_type": "markdown",
   "id": "f22beff7",
   "metadata": {},
   "source": [
    "## stitching of point cloud\n",
    "\n",
    "\n",
    "## stitching of segmentation mask\n",
    "\n",
    "\n",
    "## image stitching for vizaulization\n",
    "\n",
    "\n"
   ]
  },
  {
   "cell_type": "code",
   "execution_count": null,
   "id": "09d4b9b8",
   "metadata": {},
   "outputs": [],
   "source": []
  },
  {
   "cell_type": "code",
   "execution_count": 28,
   "id": "643cfd0f",
   "metadata": {},
   "outputs": [
    {
     "name": "stdout",
     "output_type": "stream",
     "text": [
      "/home/tom/Bureau/phd/stich_seg_detect\n"
     ]
    }
   ],
   "source": [
    "module_path = '/home/tom/Bureau/phd/stich_seg_detect'\n",
    "%cd $module_path\n",
    "from spots_detection import detection_spots_all_folder\n",
    "from pathlib import Path\n",
    "import numpy as np"
   ]
  },
  {
   "cell_type": "markdown",
   "id": "24a300fe",
   "metadata": {},
   "source": [
    "## stitching of point cloud\n"
   ]
  },
  {
   "cell_type": "code",
   "execution_count": 35,
   "id": "be03ffac",
   "metadata": {},
   "outputs": [],
   "source": [
    "import importlib\n",
    "import stitching\n",
    "importlib.reload(stitching)\n",
    "from stitching import  stich_dico_spots"
   ]
  },
  {
   "cell_type": "code",
   "execution_count": 36,
   "id": "3f17251b",
   "metadata": {},
   "outputs": [
    {
     "name": "stdout",
     "output_type": "stream",
     "text": [
      "img0\n",
      "pos2\n",
      "pos1\n",
      "pos0\n",
      "img1\n",
      "pos8\n",
      "pos7\n",
      "pos6\n"
     ]
    }
   ],
   "source": [
    "\n",
    "dico_spots_registered = np.load(f\"/media/tom/Transcend/autofish_test_stiching/dico_spots_registered_r1.npy\",\n",
    "                                allow_pickle=True).item()\n",
    "\n",
    "\n",
    "dico_stitch_img = np.load(f\"/media/tom/Transcend/autofish_test_stiching/dico_stich_img.npy\",\n",
    "                          allow_pickle=True).item()\n",
    "\n",
    "dico_bc_gene={\n",
    "        'r1': \"gene1\",\n",
    "        'r5': \"gene2\",\n",
    "        }\n",
    "image_shape=[38, 2048, 2048]\n",
    "nb_tiles_x=3\n",
    "nb_tiles_y=1\n",
    "\n",
    "\n",
    "dico_spots_registered_stitch_df = stich_dico_spots(\n",
    "    dico_spots_registered = dico_spots_registered,\n",
    "                     dico_stitch_img = dico_stitch_img,\n",
    "                     dico_bc_gene={\n",
    "                         'r1': \"gene1\",\n",
    "                         'r5': \"gene2\",\n",
    "                     },\n",
    "                     image_shape=[38, 2048, 2048],\n",
    "                 nb_tiles_x=3,\n",
    "                 nb_tiles_y=1,\n",
    "                 )\n",
    "\n",
    "np.save(f\"/media/tom/Transcend/autofish_test_stiching/dico_spots_registered_stitch_df.npy\",\n",
    "        dico_spots_registered_stitch_df)"
   ]
  },
  {
   "cell_type": "markdown",
   "id": "af47441e",
   "metadata": {},
   "source": [
    "## stitching of segmentation mask\n",
    "\n",
    "objective re-index cell, get a dico for cell index corresponce\n",
    "\n",
    "{image : {local index : global index}\n",
    "\n",
    "\n",
    "{global index :  [image, local index]\n",
    "\n",
    "df global index local index image\n",
    "\n"
   ]
  },
  {
   "cell_type": "code",
   "execution_count": 37,
   "id": "58f862af",
   "metadata": {},
   "outputs": [],
   "source": [
    "dico_stitch_img = np.load(f\"/media/tom/Transcend/autofish_test_stiching/dico_stich_img.npy\",\n",
    "                          allow_pickle=True).item()\n",
    "\n",
    "\n",
    "path_mask = \"/media/tom/Transcend/autofish_test_stiching/segmentation_mask\"\n",
    "path_to_save_mask = \"/media/tom/Transcend/autofish_test_stiching/segmentation_mask_stitch\"\n",
    "\n",
    "image_shape=[38, 2048, 2048]\n",
    "nb_tiles_x=3\n",
    "nb_tiles_y=1\n",
    "compute_dico_centroid = True\n",
    "iou_threshold = 0.10"
   ]
  },
  {
   "cell_type": "code",
   "execution_count": 38,
   "id": "031224c4",
   "metadata": {},
   "outputs": [],
   "source": [
    "import stitching\n",
    "importlib.reload(stitching)\n",
    "from stitching import  stich_segmask"
   ]
  },
  {
   "cell_type": "code",
   "execution_count": 39,
   "id": "d34d9c72",
   "metadata": {},
   "outputs": [
    {
     "name": "stdout",
     "output_type": "stream",
     "text": [
      "(42, 3048, 7144)\n"
     ]
    },
    {
     "name": "stderr",
     "output_type": "stream",
     "text": [
      "\r",
      "  0%|          | 0/6 [00:00<?, ?it/s]"
     ]
    },
    {
     "name": "stdout",
     "output_type": "stream",
     "text": [
      "r1_pos0.tif\n",
      "present_cell [0]\n",
      "len dico_centroid 35\n",
      "\n"
     ]
    },
    {
     "name": "stderr",
     "output_type": "stream",
     "text": [
      "\r",
      " 17%|█▋        | 1/6 [00:23<01:56, 23.23s/it]"
     ]
    },
    {
     "name": "stdout",
     "output_type": "stream",
     "text": [
      "r1_pos1.tif\n",
      "present_cell [ 0  5 10 13 14 18 24 26]\n",
      "unique_inter_cell [ 0 47 53 55 60] , cell 5\n",
      "iou 0.002323988948141447 cell 5 inter_cell 2\n",
      "iou 0.7016742648598352 cell 5 inter_cell 8\n",
      "iou MATCH  0.7016742648598352\n",
      "iou 0.002026287864058338 cell 5 inter_cell 10\n",
      "iou 6.330429424680023e-06 cell 5 inter_cell 15\n",
      "unique_inter_cell [ 0  5 60 66 67] , cell 10\n",
      "iou 0.0008576315487889586 cell 10 inter_cell 65496\n",
      "iou 0.7113925332565475 cell 10 inter_cell 15\n",
      "iou MATCH  0.7113925332565475\n",
      "iou 0.026068011907196584 cell 10 inter_cell 21\n",
      "iou 0.0005907479480517439 cell 10 inter_cell 22\n",
      "unique_inter_cell [ 0 10 66 67] , cell 13\n",
      "iou 0.00018669691865084003 cell 13 inter_cell 65501\n",
      "iou 0.0016433407237784819 cell 13 inter_cell 21\n",
      "iou 0.4122035511425958 cell 13 inter_cell 22\n",
      "iou MATCH  0.4122035511425958\n",
      "unique_inter_cell [ 0 71] , cell 14\n",
      "iou 0.0013482708231855821 cell 14 inter_cell 26\n",
      "unique_inter_cell [  0  71  81 102] , cell 18\n",
      "iou 0.6423317688049738 cell 18 inter_cell 26\n",
      "iou MATCH  0.6423317688049738\n",
      "iou 0.00220692675890242 cell 18 inter_cell 36\n",
      "iou 0.023919850812104484 cell 18 inter_cell 57\n",
      "unique_inter_cell [ 0 75] , cell 24\n",
      "iou 0.7269422964939127 cell 24 inter_cell 30\n",
      "iou MATCH  0.7269422964939127\n",
      "unique_inter_cell [ 0  5 47] , cell 26\n",
      "iou 0.00010657864443346466 cell 26 inter_cell 65496\n",
      "iou 0.3016751574149372 cell 26 inter_cell 2\n",
      "iou MATCH  0.3016751574149372\n"
     ]
    },
    {
     "name": "stderr",
     "output_type": "stream",
     "text": [
      "\r",
      " 33%|███▎      | 2/6 [00:58<02:01, 30.44s/it]"
     ]
    },
    {
     "name": "stdout",
     "output_type": "stream",
     "text": [
      "len dico_centroid 104\n",
      "\n",
      "r1_pos2.tif\n",
      "present_cell [  0  46  57  59  65  69  72  77  83  87  91  92  98 100 101 107 145]\n",
      "unique_inter_cell [  0 150] , cell 46\n",
      "iou 0.29281259034445306 cell 46 inter_cell 4\n",
      "iou MATCH  0.29281259034445306\n",
      "unique_inter_cell [  0 156 160] , cell 57\n",
      "iou 0.6391451611343155 cell 57 inter_cell 10\n",
      "iou MATCH  0.6391451611343155\n",
      "iou 0.00014008299917701237 cell 57 inter_cell 14\n",
      "unique_inter_cell [ 0 57] , cell 59\n",
      "iou 0.03251092668467713 cell 59 inter_cell 65447\n",
      "unique_inter_cell [  0  57 160 162 164] , cell 65\n",
      "iou 0.0005594159882014082 cell 65 inter_cell 65447\n",
      "iou 0.7552632436719748 cell 65 inter_cell 14\n",
      "iou MATCH  0.7552632436719748\n",
      "iou 0.0006792387722573542 cell 65 inter_cell 16\n",
      "iou 0.0018183209641654179 cell 65 inter_cell 18\n",
      "unique_inter_cell [  0  65 162 164] , cell 69\n",
      "iou 0.0004209287518933232 cell 69 inter_cell 65455\n",
      "iou 0.00027614862549825404 cell 69 inter_cell 16\n",
      "iou 0.7668550871102042 cell 69 inter_cell 18\n",
      "iou MATCH  0.7668550871102042\n",
      "unique_inter_cell [  0  69 168 201] , cell 72\n",
      "iou 2.3702308184292326e-05 cell 72 inter_cell 65459\n",
      "iou 0.7380706521950904 cell 72 inter_cell 22\n",
      "iou MATCH  0.7380706521950904\n",
      "iou 0.003225720985070277 cell 72 inter_cell 55\n",
      "unique_inter_cell [ 0 65] , cell 77\n",
      "iou 0.002265123323966956 cell 77 inter_cell 65455\n",
      "unique_inter_cell [ 0 57] , cell 83\n",
      "iou 0.03975915588042782 cell 83 inter_cell 65447\n",
      "unique_inter_cell [ 0 65] , cell 87\n",
      "iou 0.00012877994199624743 cell 87 inter_cell 65455\n",
      "unique_inter_cell [ 0 65] , cell 91\n",
      "iou 0.006177651827247435 cell 91 inter_cell 65455\n",
      "unique_inter_cell [ 0 65] , cell 92\n",
      "iou 3.5893091371670325e-05 cell 92 inter_cell 65455\n",
      "unique_inter_cell [ 0 72] , cell 98\n",
      "iou 0.002029765518599347 cell 98 inter_cell 65462\n",
      "unique_inter_cell [ 0 65] , cell 100\n",
      "iou 0.03475014555213125 cell 100 inter_cell 65455\n",
      "unique_inter_cell [ 0 65 69] , cell 101\n",
      "iou 0.001935854001600933 cell 101 inter_cell 65455\n",
      "iou 8.602351391307446e-06 cell 101 inter_cell 65459\n",
      "unique_inter_cell [ 0 72] , cell 107\n",
      "iou 0.0030421637369188997 cell 107 inter_cell 65462\n",
      "unique_inter_cell [ 0 65] , cell 145\n",
      "iou 1.1596085161649427e-05 cell 145 inter_cell 65455\n"
     ]
    },
    {
     "name": "stderr",
     "output_type": "stream",
     "text": [
      "100%|██████████| 6/6 [01:42<00:00, 17.14s/it]"
     ]
    },
    {
     "name": "stdout",
     "output_type": "stream",
     "text": [
      "len dico_centroid 150\n",
      "\n"
     ]
    },
    {
     "name": "stderr",
     "output_type": "stream",
     "text": [
      "\n"
     ]
    },
    {
     "name": "stdout",
     "output_type": "stream",
     "text": [
      "(42, 3048, 7144)\n"
     ]
    },
    {
     "name": "stderr",
     "output_type": "stream",
     "text": [
      "\r",
      "  0%|          | 0/6 [00:00<?, ?it/s]"
     ]
    },
    {
     "name": "stdout",
     "output_type": "stream",
     "text": [
      "r1_pos6.tif\n",
      "present_cell [0]\n"
     ]
    },
    {
     "name": "stderr",
     "output_type": "stream",
     "text": [
      "\r",
      " 67%|██████▋   | 4/6 [00:57<00:28, 14.26s/it]"
     ]
    },
    {
     "name": "stdout",
     "output_type": "stream",
     "text": [
      "len dico_centroid 44\n",
      "\n",
      "r1_pos7.tif\n",
      "present_cell [ 0  2  3  9 12 18 20 23 36]\n",
      "unique_inter_cell [  0  66  67  87  89 131] , cell 2\n",
      "iou 0.00917041161724102 cell 2 inter_cell 5\n",
      "iou 6.417615957468467e-06 cell 2 inter_cell 6\n",
      "iou 0.5665327228381657 cell 2 inter_cell 26\n",
      "iou MATCH  0.5665327228381657\n",
      "iou 2.226757384762522e-06 cell 2 inter_cell 28\n",
      "iou 0.011019141823510556 cell 2 inter_cell 70\n",
      "unique_inter_cell [0] , cell 3\n",
      "unique_inter_cell [ 0  2 66 67 89] , cell 9\n",
      "iou 0.011252704791344667 cell 9 inter_cell 65477\n",
      "iou 0.6254793946607401 cell 9 inter_cell 5\n",
      "iou MATCH  0.6254793946607401\n",
      "iou 0.0011805287880470644 cell 9 inter_cell 6\n",
      "iou 7.30046706644896e-05 cell 9 inter_cell 28\n",
      "unique_inter_cell [ 0 67 71] , cell 12\n",
      "iou 0.0039223014147471294 cell 12 inter_cell 6\n",
      "iou 0.2621581778275982 cell 12 inter_cell 10\n",
      "iou MATCH  0.2621581778275982\n",
      "unique_inter_cell [  0  76 134] , cell 18\n",
      "iou 0.44603926491190365 cell 18 inter_cell 15\n",
      "iou MATCH  0.44603926491190365\n",
      "iou 0.0036303417424780092 cell 18 inter_cell 73\n",
      "unique_inter_cell [ 0 80] , cell 20\n",
      "iou 0.3804340287540535 cell 20 inter_cell 19\n",
      "iou MATCH  0.3804340287540535\n",
      "unique_inter_cell [0] , cell 23\n",
      "unique_inter_cell [ 0 12 67] , cell 36\n",
      "iou 0.001455110195067146 cell 36 inter_cell 65487\n",
      "iou 0.0051949402498677345 cell 36 inter_cell 6\n"
     ]
    },
    {
     "name": "stderr",
     "output_type": "stream",
     "text": [
      "\r",
      " 83%|████████▎ | 5/6 [02:00<00:27, 27.28s/it]"
     ]
    },
    {
     "name": "stdout",
     "output_type": "stream",
     "text": [
      "len dico_centroid 86\n",
      "\n",
      "r1_pos8.tif\n",
      "present_cell [  0  62  68  69  74  79  82  83  99 103 129]\n",
      "unique_inter_cell [  0 138] , cell 62\n",
      "iou 0.6752998805099124 cell 62 inter_cell 4\n",
      "iou MATCH  0.6752998805099124\n",
      "unique_inter_cell [  0 145 149 165] , cell 68\n",
      "iou 0.8386671492253602 cell 68 inter_cell 11\n",
      "iou MATCH  0.8386671492253602\n",
      "iou 0.001957238225533337 cell 68 inter_cell 15\n",
      "iou 0.0015075569944138943 cell 68 inter_cell 31\n",
      "unique_inter_cell [  0  68 149] , cell 69\n",
      "iou 0.002446156629193355 cell 69 inter_cell 65470\n",
      "iou 0.29054789225283617 cell 69 inter_cell 15\n",
      "iou MATCH  0.29054789225283617\n",
      "unique_inter_cell [  0 153] , cell 74\n",
      "iou 0.519488862623031 cell 74 inter_cell 19\n",
      "iou MATCH  0.519488862623031\n",
      "unique_inter_cell [  0  74 159] , cell 79\n",
      "iou 1.6850284468011368e-05 cell 79 inter_cell 65476\n",
      "iou 0.7039395604395604 cell 79 inter_cell 25\n",
      "iou MATCH  0.7039395604395604\n",
      "unique_inter_cell [ 0 79] , cell 82\n",
      "iou 0.0001608593154124507 cell 82 inter_cell 65481\n",
      "unique_inter_cell [  0  79 171 207] , cell 83\n",
      "iou 0.0029866865300389625 cell 83 inter_cell 65481\n",
      "iou 0.30505020903258895 cell 83 inter_cell 37\n",
      "iou MATCH  0.30505020903258895\n",
      "iou 0.050942028985507246 cell 83 inter_cell 73\n",
      "unique_inter_cell [  0  68  69 165 172] , cell 99\n",
      "iou 0.001223821436056709 cell 99 inter_cell 65470\n",
      "iou 0.00023232347359421765 cell 99 inter_cell 65471\n",
      "iou 0.19219266051866407 cell 99 inter_cell 31\n",
      "iou MATCH  0.19219266051866407\n",
      "iou 0.0004263822969515819 cell 99 inter_cell 38\n",
      "unique_inter_cell [  0  62  68  99 172] , cell 103\n",
      "iou 0.004879630347100158 cell 103 inter_cell 65464\n",
      "iou 0.0033632797211071972 cell 103 inter_cell 65470\n",
      "iou 0.0012166954111977595 cell 103 inter_cell 65501\n",
      "iou 0.3659504367685104 cell 103 inter_cell 38\n",
      "iou MATCH  0.3659504367685104\n",
      "unique_inter_cell [  0  62  68 103] , cell 129\n",
      "iou 9.283039886128045e-05 cell 129 inter_cell 65464\n",
      "iou 0.0003605362203700389 cell 129 inter_cell 65470\n",
      "iou 0.07693061571933794 cell 129 inter_cell 65505\n",
      "len dico_centroid 134\n",
      "\n"
     ]
    },
    {
     "name": "stderr",
     "output_type": "stream",
     "text": [
      "100%|██████████| 6/6 [03:13<00:00, 32.21s/it]\n"
     ]
    }
   ],
   "source": [
    "final_masks, dico_centroid, df_matching_new_cell_label = stich_segmask(dico_stitch_img, # np.load(f\"/media/tom/T7/Stitch/acquisition/2mai_dico_stitch.npy\",allow_pickle=True).item()\n",
    "                  path_mask = path_mask,\n",
    "                  path_to_save_mask = path_to_save_mask,\n",
    "                  image_shape=image_shape,\n",
    "                  nb_tiles_x = nb_tiles_x,\n",
    "                  nb_tiles_y=nb_tiles_y,\n",
    "\n",
    "                  compute_dico_centroid = compute_dico_centroid,\n",
    "                  iou_threshold = 0.10)\n",
    "\n",
    "\n"
   ]
  },
  {
   "cell_type": "markdown",
   "id": "68393337",
   "metadata": {},
   "source": [
    "### stich fluorescent signal\n",
    "\n",
    "Only for vizualisation purposes"
   ]
  },
  {
   "cell_type": "code",
   "execution_count": null,
   "id": "b32cd4cb",
   "metadata": {},
   "outputs": [],
   "source": []
  },
  {
   "cell_type": "code",
   "execution_count": 40,
   "id": "c2bd6300",
   "metadata": {},
   "outputs": [],
   "source": [
    "import stitching\n",
    "importlib.reload(stitching)\n",
    "from stitching import  stich_from_dico_img"
   ]
  },
  {
   "cell_type": "code",
   "execution_count": 41,
   "id": "8946d511",
   "metadata": {
    "scrolled": true
   },
   "outputs": [
    {
     "name": "stderr",
     "output_type": "stream",
     "text": [
      "\r",
      "  0%|          | 0/6 [00:00<?, ?it/s]"
     ]
    },
    {
     "name": "stdout",
     "output_type": "stream",
     "text": [
      "r1_pos0_ch0.tif in the folder\n",
      "r1_pos0_ch0.tif\n",
      "r1_pos0_ch0.tif will be stitched\n"
     ]
    },
    {
     "name": "stderr",
     "output_type": "stream",
     "text": [
      "\r",
      " 17%|█▋        | 1/6 [00:16<01:23, 16.62s/it]"
     ]
    },
    {
     "name": "stdout",
     "output_type": "stream",
     "text": [
      "r1_pos0_ch0.tif (38, 2048, 2048)\n",
      "(38, 2048, 2048)\n",
      "r1_pos1_ch0.tif in the folder\n",
      "r1_pos1_ch0.tif\n",
      "r1_pos1_ch0.tif will be stitched\n"
     ]
    },
    {
     "name": "stderr",
     "output_type": "stream",
     "text": [
      "\r",
      " 33%|███▎      | 2/6 [00:19<00:34,  8.73s/it]"
     ]
    },
    {
     "name": "stdout",
     "output_type": "stream",
     "text": [
      "r1_pos1_ch0.tif (38, 2048, 2048)\n",
      "(38, 2048, 2048)\n",
      "r1_pos2_ch0.tif in the folder\n",
      "r1_pos2_ch0.tif\n",
      "r1_pos2_ch0.tif will be stitched\n"
     ]
    },
    {
     "name": "stderr",
     "output_type": "stream",
     "text": [
      "100%|██████████| 6/6 [00:23<00:00,  3.85s/it]"
     ]
    },
    {
     "name": "stdout",
     "output_type": "stream",
     "text": [
      "r1_pos2_ch0.tif (38, 2048, 2048)\n",
      "(38, 2048, 2048)\n",
      "r1_pos6_ch0.tif in the folder\n",
      "r1_pos7_ch0.tif in the folder\n",
      "r1_pos8_ch0.tif in the folder\n"
     ]
    },
    {
     "name": "stderr",
     "output_type": "stream",
     "text": [
      "\n",
      "  0%|          | 0/6 [00:00<?, ?it/s]"
     ]
    },
    {
     "name": "stdout",
     "output_type": "stream",
     "text": [
      "r1_pos0_ch0.tif in the folder\n",
      "r1_pos1_ch0.tif in the folder\n",
      "r1_pos2_ch0.tif in the folder\n",
      "r1_pos6_ch0.tif in the folder\n",
      "r1_pos6_ch0.tif\n",
      "r1_pos6_ch0.tif will be stitched\n"
     ]
    },
    {
     "name": "stderr",
     "output_type": "stream",
     "text": [
      "\r",
      " 67%|██████▋   | 4/6 [00:11<00:05,  2.79s/it]"
     ]
    },
    {
     "name": "stdout",
     "output_type": "stream",
     "text": [
      "r1_pos6_ch0.tif (38, 2048, 2048)\n",
      "(38, 2048, 2048)\n",
      "r1_pos7_ch0.tif in the folder\n",
      "r1_pos7_ch0.tif\n",
      "r1_pos7_ch0.tif will be stitched\n"
     ]
    },
    {
     "name": "stderr",
     "output_type": "stream",
     "text": [
      "\r",
      " 83%|████████▎ | 5/6 [00:18<00:03,  3.86s/it]"
     ]
    },
    {
     "name": "stdout",
     "output_type": "stream",
     "text": [
      "r1_pos7_ch0.tif (38, 2048, 2048)\n",
      "(38, 2048, 2048)\n",
      "r1_pos8_ch0.tif in the folder\n",
      "r1_pos8_ch0.tif\n",
      "r1_pos8_ch0.tif will be stitched\n"
     ]
    },
    {
     "name": "stderr",
     "output_type": "stream",
     "text": [
      "100%|██████████| 6/6 [00:23<00:00,  3.96s/it]"
     ]
    },
    {
     "name": "stdout",
     "output_type": "stream",
     "text": [
      "r1_pos8_ch0.tif (38, 2048, 2048)\n",
      "(38, 2048, 2048)\n"
     ]
    },
    {
     "name": "stderr",
     "output_type": "stream",
     "text": [
      "\n"
     ]
    }
   ],
   "source": [
    "image_shape=[38, 2048, 2048]\n",
    "nb_tiles_x=3\n",
    "nb_tiles_y=1\n",
    "for image_name in dico_stitch_img:\n",
    "    dico_stitch = dico_stitch_img[image_name]\n",
    "    final_masks = stich_from_dico_img(dico_stitch, # np.load(f\"/media/tom/T7/Stitch/acquisition/2mai_dico_stitch.npy\",allow_pickle=True).item()\n",
    "                      path_mask = \"/media/tom/Transcend/autofish_test_stiching/r1\",\n",
    "                        regex = \"*_ch0*tif*\",\n",
    "                        image_shape=image_shape,\n",
    "                            nb_tiles_x=nb_tiles_x,\n",
    "                            nb_tiles_y=nb_tiles_y,)\n",
    "    \n",
    "    np.save(Path(\"/media/tom/Transcend/autofish_test_stiching/segmentation_mask_stitch/stitch_input\") / image_name,\n",
    "            final_masks)\n",
    "    "
   ]
  },
  {
   "cell_type": "code",
   "execution_count": 42,
   "id": "2a37fc0a",
   "metadata": {},
   "outputs": [
    {
     "data": {
      "text/plain": [
       "{'img0': {'pos2': array([0., 0., 2.]),\n",
       "  'pos1': array([1856.,   67.,    3.]),\n",
       "  'pos0': array([3708.,  134.,    0.])},\n",
       " 'img1': {'pos8': array([0., 0., 0.]),\n",
       "  'pos7': array([1856.,   67.,    0.]),\n",
       "  'pos6': array([3.705e+03, 1.340e+02, 3.000e+00])}}"
      ]
     },
     "execution_count": 42,
     "metadata": {},
     "output_type": "execute_result"
    }
   ],
   "source": [
    "dico_stitch_img"
   ]
  },
  {
   "cell_type": "markdown",
   "id": "efc11594",
   "metadata": {},
   "source": [
    "# Stich signal for vizualisation purposes\n"
   ]
  },
  {
   "cell_type": "code",
   "execution_count": null,
   "id": "4e6e953e",
   "metadata": {},
   "outputs": [],
   "source": []
  }
 ],
 "metadata": {
  "kernelspec": {
   "display_name": "bigfish38_samm",
   "language": "python",
   "name": "bigfish38_samm"
  },
  "language_info": {
   "codemirror_mode": {
    "name": "ipython",
    "version": 3
   },
   "file_extension": ".py",
   "mimetype": "text/x-python",
   "name": "python",
   "nbconvert_exporter": "python",
   "pygments_lexer": "ipython3",
   "version": "3.8.8"
  }
 },
 "nbformat": 4,
 "nbformat_minor": 5
}
