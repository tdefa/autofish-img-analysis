{
 "cells": [
  {
   "cell_type": "code",
   "execution_count": 1,
   "id": "7250aa64",
   "metadata": {},
   "outputs": [
    {
     "name": "stdout",
     "output_type": "stream",
     "text": [
      "Requirement already satisfied: bento-tools in /home/tom/anaconda3/envs/bigfish38_samm/lib/python3.8/site-packages (1.0.1)\n",
      "Requirement already satisfied: scanpy<2.0.0,>=1.9.1 in /home/tom/anaconda3/envs/bigfish38_samm/lib/python3.8/site-packages (from bento-tools) (1.9.3)\n",
      "Requirement already satisfied: scipy<2.0.0,>=1.7.0 in /home/tom/anaconda3/envs/bigfish38_samm/lib/python3.8/site-packages (from bento-tools) (1.8.1)\n",
      "Requirement already satisfied: cell2cell<0.6.0,>=0.5.10 in /home/tom/anaconda3/envs/bigfish38_samm/lib/python3.8/site-packages (from bento-tools) (0.5.11)\n",
      "Requirement already satisfied: statsmodels<0.14.0,>=0.13.2 in /home/tom/anaconda3/envs/bigfish38_samm/lib/python3.8/site-packages (from bento-tools) (0.13.2)\n",
      "Requirement already satisfied: pygeos<0.13.0,>=0.12.0 in /home/tom/anaconda3/envs/bigfish38_samm/lib/python3.8/site-packages (from bento-tools) (0.12.0)\n",
      "Requirement already satisfied: anndata<0.8.0,>=0.7.6 in /home/tom/anaconda3/envs/bigfish38_samm/lib/python3.8/site-packages (from bento-tools) (0.7.8)\n",
      "Requirement already satisfied: matplotlib<4.0,>=3.2 in /home/tom/anaconda3/envs/bigfish38_samm/lib/python3.8/site-packages (from bento-tools) (3.4.3)\n",
      "Requirement already satisfied: emoji<2.0.0,>=1.7.0 in /home/tom/anaconda3/envs/bigfish38_samm/lib/python3.8/site-packages (from bento-tools) (1.7.0)\n",
      "Requirement already satisfied: dask-geopandas<0.2.0,>=0.1.3 in /home/tom/anaconda3/envs/bigfish38_samm/lib/python3.8/site-packages (from bento-tools) (0.1.3)\n",
      "Requirement already satisfied: Shapely<2.0.0,>=1.8.2 in /home/tom/anaconda3/envs/bigfish38_samm/lib/python3.8/site-packages (from bento-tools) (1.8.2)\n",
      "Requirement already satisfied: tqdm<5.0.0,>=4.64.0 in /home/tom/anaconda3/envs/bigfish38_samm/lib/python3.8/site-packages (from bento-tools) (4.64.0)\n",
      "Requirement already satisfied: matplotlib-scalebar<0.9.0,>=0.8.1 in /home/tom/anaconda3/envs/bigfish38_samm/lib/python3.8/site-packages (from bento-tools) (0.8.1)\n",
      "Requirement already satisfied: xgboost==1.4.0 in /home/tom/anaconda3/envs/bigfish38_samm/lib/python3.8/site-packages (from bento-tools) (1.4.0)\n",
      "Requirement already satisfied: seaborn<0.12.0,>=0.11.0 in /home/tom/anaconda3/envs/bigfish38_samm/lib/python3.8/site-packages (from bento-tools) (0.11.2)\n",
      "Requirement already satisfied: UpSetPlot<0.7.0,>=0.6.1 in /home/tom/anaconda3/envs/bigfish38_samm/lib/python3.8/site-packages (from bento-tools) (0.6.1)\n",
      "Requirement already satisfied: geopandas<0.11.0,>=0.10.0 in /home/tom/anaconda3/envs/bigfish38_samm/lib/python3.8/site-packages (from bento-tools) (0.10.2)\n",
      "Collecting pandas<=1.2.5\n",
      "  Using cached pandas-1.2.5-cp38-cp38-manylinux_2_5_x86_64.manylinux1_x86_64.whl (9.7 MB)\n",
      "Requirement already satisfied: astropy<6.0,>=5.0 in /home/tom/anaconda3/envs/bigfish38_samm/lib/python3.8/site-packages (from bento-tools) (5.1)\n",
      "Requirement already satisfied: numba<0.56.0,>=0.55.2 in /home/tom/anaconda3/envs/bigfish38_samm/lib/python3.8/site-packages (from bento-tools) (0.55.2)\n",
      "Requirement already satisfied: numpy in /home/tom/anaconda3/envs/bigfish38_samm/lib/python3.8/site-packages (from xgboost==1.4.0->bento-tools) (1.22.4)\n",
      "Requirement already satisfied: h5py in /home/tom/anaconda3/envs/bigfish38_samm/lib/python3.8/site-packages (from anndata<0.8.0,>=0.7.6->bento-tools) (3.6.0)\n",
      "Collecting xlrd<2.0\n",
      "  Using cached xlrd-1.2.0-py2.py3-none-any.whl (103 kB)\n",
      "Requirement already satisfied: packaging>=20 in /home/tom/anaconda3/envs/bigfish38_samm/lib/python3.8/site-packages (from anndata<0.8.0,>=0.7.6->bento-tools) (21.3)\n",
      "Requirement already satisfied: natsort in /home/tom/anaconda3/envs/bigfish38_samm/lib/python3.8/site-packages (from anndata<0.8.0,>=0.7.6->bento-tools) (7.1.1)\n",
      "Requirement already satisfied: PyYAML>=3.13 in /home/tom/anaconda3/envs/bigfish38_samm/lib/python3.8/site-packages (from astropy<6.0,>=5.0->bento-tools) (6.0)\n",
      "Requirement already satisfied: pyerfa>=2.0 in /home/tom/anaconda3/envs/bigfish38_samm/lib/python3.8/site-packages (from astropy<6.0,>=5.0->bento-tools) (2.0.0.1)\n",
      "Requirement already satisfied: tensorly==0.5.1 in /home/tom/anaconda3/envs/bigfish38_samm/lib/python3.8/site-packages (from cell2cell<0.6.0,>=0.5.10->bento-tools) (0.5.1)\n",
      "Requirement already satisfied: kneed in /home/tom/anaconda3/envs/bigfish38_samm/lib/python3.8/site-packages (from cell2cell<0.6.0,>=0.5.10->bento-tools) (0.8.1)\n",
      "Requirement already satisfied: openpyxl>=2.6.2 in /home/tom/anaconda3/envs/bigfish38_samm/lib/python3.8/site-packages (from cell2cell<0.6.0,>=0.5.10->bento-tools) (3.0.9)\n",
      "Requirement already satisfied: scikit-learn in /home/tom/anaconda3/envs/bigfish38_samm/lib/python3.8/site-packages (from cell2cell<0.6.0,>=0.5.10->bento-tools) (1.0.1)\n",
      "Requirement already satisfied: statannotations in /home/tom/anaconda3/envs/bigfish38_samm/lib/python3.8/site-packages (from cell2cell<0.6.0,>=0.5.10->bento-tools) (0.4.4)\n",
      "Requirement already satisfied: umap-learn in /home/tom/anaconda3/envs/bigfish38_samm/lib/python3.8/site-packages (from cell2cell<0.6.0,>=0.5.10->bento-tools) (0.5.2)\n",
      "Requirement already satisfied: networkx>=2.3 in /home/tom/anaconda3/envs/bigfish38_samm/lib/python3.8/site-packages (from cell2cell<0.6.0,>=0.5.10->bento-tools) (2.8.4)\n",
      "Requirement already satisfied: nose in /home/tom/anaconda3/envs/bigfish38_samm/lib/python3.8/site-packages (from tensorly==0.5.1->cell2cell<0.6.0,>=0.5.10->bento-tools) (1.3.7)\n",
      "Requirement already satisfied: dask>=2021.06.0 in /home/tom/anaconda3/envs/bigfish38_samm/lib/python3.8/site-packages (from dask-geopandas<0.2.0,>=0.1.3->bento-tools) (2022.7.1)\n",
      "Requirement already satisfied: distributed>=2021.06.0 in /home/tom/anaconda3/envs/bigfish38_samm/lib/python3.8/site-packages (from dask-geopandas<0.2.0,>=0.1.3->bento-tools) (2022.7.1)\n",
      "Requirement already satisfied: cloudpickle>=1.1.1 in /home/tom/anaconda3/envs/bigfish38_samm/lib/python3.8/site-packages (from dask>=2021.06.0->dask-geopandas<0.2.0,>=0.1.3->bento-tools) (2.0.0)\n",
      "Requirement already satisfied: toolz>=0.8.2 in /home/tom/anaconda3/envs/bigfish38_samm/lib/python3.8/site-packages (from dask>=2021.06.0->dask-geopandas<0.2.0,>=0.1.3->bento-tools) (0.11.2)\n",
      "Requirement already satisfied: fsspec>=0.6.0 in /home/tom/anaconda3/envs/bigfish38_samm/lib/python3.8/site-packages (from dask>=2021.06.0->dask-geopandas<0.2.0,>=0.1.3->bento-tools) (2022.1.0)\n",
      "Requirement already satisfied: partd>=0.3.10 in /home/tom/anaconda3/envs/bigfish38_samm/lib/python3.8/site-packages (from dask>=2021.06.0->dask-geopandas<0.2.0,>=0.1.3->bento-tools) (1.2.0)\n",
      "Requirement already satisfied: msgpack>=0.6.0 in /home/tom/anaconda3/envs/bigfish38_samm/lib/python3.8/site-packages (from distributed>=2021.06.0->dask-geopandas<0.2.0,>=0.1.3->bento-tools) (1.0.4)\n",
      "Requirement already satisfied: psutil>=5.0 in /home/tom/anaconda3/envs/bigfish38_samm/lib/python3.8/site-packages (from distributed>=2021.06.0->dask-geopandas<0.2.0,>=0.1.3->bento-tools) (5.9.0)\n",
      "Requirement already satisfied: jinja2 in /home/tom/anaconda3/envs/bigfish38_samm/lib/python3.8/site-packages (from distributed>=2021.06.0->dask-geopandas<0.2.0,>=0.1.3->bento-tools) (3.0.3)\n",
      "Requirement already satisfied: sortedcontainers!=2.0.0,!=2.0.1 in /home/tom/anaconda3/envs/bigfish38_samm/lib/python3.8/site-packages (from distributed>=2021.06.0->dask-geopandas<0.2.0,>=0.1.3->bento-tools) (2.4.0)\n",
      "Requirement already satisfied: urllib3 in /home/tom/anaconda3/envs/bigfish38_samm/lib/python3.8/site-packages (from distributed>=2021.06.0->dask-geopandas<0.2.0,>=0.1.3->bento-tools) (1.26.8)\n",
      "Requirement already satisfied: zict>=0.1.3 in /home/tom/anaconda3/envs/bigfish38_samm/lib/python3.8/site-packages (from distributed>=2021.06.0->dask-geopandas<0.2.0,>=0.1.3->bento-tools) (2.2.0)\n",
      "Requirement already satisfied: click>=6.6 in /home/tom/anaconda3/envs/bigfish38_samm/lib/python3.8/site-packages (from distributed>=2021.06.0->dask-geopandas<0.2.0,>=0.1.3->bento-tools) (8.0.3)\n",
      "Requirement already satisfied: locket>=1.0.0 in /home/tom/anaconda3/envs/bigfish38_samm/lib/python3.8/site-packages (from distributed>=2021.06.0->dask-geopandas<0.2.0,>=0.1.3->bento-tools) (1.0.0)\n",
      "Requirement already satisfied: tblib>=1.6.0 in /home/tom/anaconda3/envs/bigfish38_samm/lib/python3.8/site-packages (from distributed>=2021.06.0->dask-geopandas<0.2.0,>=0.1.3->bento-tools) (1.7.0)\n",
      "Requirement already satisfied: tornado<6.2,>=6.0.3 in /home/tom/anaconda3/envs/bigfish38_samm/lib/python3.8/site-packages (from distributed>=2021.06.0->dask-geopandas<0.2.0,>=0.1.3->bento-tools) (6.1)\n"
     ]
    },
    {
     "name": "stdout",
     "output_type": "stream",
     "text": [
      "Requirement already satisfied: fiona>=1.8 in /home/tom/anaconda3/envs/bigfish38_samm/lib/python3.8/site-packages (from geopandas<0.11.0,>=0.10.0->bento-tools) (1.8.21)\n",
      "Requirement already satisfied: pyproj>=2.2.0 in /home/tom/anaconda3/envs/bigfish38_samm/lib/python3.8/site-packages (from geopandas<0.11.0,>=0.10.0->bento-tools) (3.3.1)\n",
      "Requirement already satisfied: attrs>=17 in /home/tom/anaconda3/envs/bigfish38_samm/lib/python3.8/site-packages (from fiona>=1.8->geopandas<0.11.0,>=0.10.0->bento-tools) (21.4.0)\n",
      "Requirement already satisfied: munch in /home/tom/anaconda3/envs/bigfish38_samm/lib/python3.8/site-packages (from fiona>=1.8->geopandas<0.11.0,>=0.10.0->bento-tools) (2.5.0)\n",
      "Requirement already satisfied: certifi in /home/tom/anaconda3/envs/bigfish38_samm/lib/python3.8/site-packages (from fiona>=1.8->geopandas<0.11.0,>=0.10.0->bento-tools) (2020.6.20)\n",
      "Requirement already satisfied: setuptools in /home/tom/anaconda3/envs/bigfish38_samm/lib/python3.8/site-packages (from fiona>=1.8->geopandas<0.11.0,>=0.10.0->bento-tools) (58.0.4)\n",
      "Requirement already satisfied: click-plugins>=1.0 in /home/tom/anaconda3/envs/bigfish38_samm/lib/python3.8/site-packages (from fiona>=1.8->geopandas<0.11.0,>=0.10.0->bento-tools) (1.1.1)\n",
      "Requirement already satisfied: cligj>=0.5 in /home/tom/anaconda3/envs/bigfish38_samm/lib/python3.8/site-packages (from fiona>=1.8->geopandas<0.11.0,>=0.10.0->bento-tools) (0.7.2)\n",
      "Requirement already satisfied: six>=1.7 in /home/tom/anaconda3/envs/bigfish38_samm/lib/python3.8/site-packages (from fiona>=1.8->geopandas<0.11.0,>=0.10.0->bento-tools) (1.16.0)\n",
      "Requirement already satisfied: cycler>=0.10 in /home/tom/anaconda3/envs/bigfish38_samm/lib/python3.8/site-packages (from matplotlib<4.0,>=3.2->bento-tools) (0.10.0)\n",
      "Requirement already satisfied: pillow>=6.2.0 in /home/tom/anaconda3/envs/bigfish38_samm/lib/python3.8/site-packages (from matplotlib<4.0,>=3.2->bento-tools) (8.4.0)\n",
      "Requirement already satisfied: kiwisolver>=1.0.1 in /home/tom/anaconda3/envs/bigfish38_samm/lib/python3.8/site-packages (from matplotlib<4.0,>=3.2->bento-tools) (1.3.2)\n",
      "Requirement already satisfied: pyparsing>=2.2.1 in /home/tom/anaconda3/envs/bigfish38_samm/lib/python3.8/site-packages (from matplotlib<4.0,>=3.2->bento-tools) (3.0.1)\n",
      "Requirement already satisfied: python-dateutil>=2.7 in /home/tom/anaconda3/envs/bigfish38_samm/lib/python3.8/site-packages (from matplotlib<4.0,>=3.2->bento-tools) (2.8.2)\n",
      "Requirement already satisfied: llvmlite<0.39,>=0.38.0rc1 in /home/tom/anaconda3/envs/bigfish38_samm/lib/python3.8/site-packages (from numba<0.56.0,>=0.55.2->bento-tools) (0.38.1)\n",
      "Requirement already satisfied: et-xmlfile in /home/tom/anaconda3/envs/bigfish38_samm/lib/python3.8/site-packages (from openpyxl>=2.6.2->cell2cell<0.6.0,>=0.5.10->bento-tools) (1.1.0)\n",
      "Requirement already satisfied: pytz>=2017.3 in /home/tom/anaconda3/envs/bigfish38_samm/lib/python3.8/site-packages (from pandas<=1.2.5->bento-tools) (2021.3)\n",
      "Requirement already satisfied: patsy in /home/tom/anaconda3/envs/bigfish38_samm/lib/python3.8/site-packages (from scanpy<2.0.0,>=1.9.1->bento-tools) (0.5.2)\n",
      "Requirement already satisfied: joblib in /home/tom/anaconda3/envs/bigfish38_samm/lib/python3.8/site-packages (from scanpy<2.0.0,>=1.9.1->bento-tools) (1.1.0)\n",
      "Requirement already satisfied: session-info in /home/tom/anaconda3/envs/bigfish38_samm/lib/python3.8/site-packages (from scanpy<2.0.0,>=1.9.1->bento-tools) (1.0.0)\n",
      "Requirement already satisfied: threadpoolctl>=2.0.0 in /home/tom/anaconda3/envs/bigfish38_samm/lib/python3.8/site-packages (from scikit-learn->cell2cell<0.6.0,>=0.5.10->bento-tools) (3.0.0)\n",
      "Requirement already satisfied: pynndescent>=0.5 in /home/tom/anaconda3/envs/bigfish38_samm/lib/python3.8/site-packages (from umap-learn->cell2cell<0.6.0,>=0.5.10->bento-tools) (0.5.6)\n",
      "Requirement already satisfied: heapdict in /home/tom/anaconda3/envs/bigfish38_samm/lib/python3.8/site-packages (from zict>=0.1.3->distributed>=2021.06.0->dask-geopandas<0.2.0,>=0.1.3->bento-tools) (1.0.1)\n",
      "Requirement already satisfied: MarkupSafe>=2.0 in /home/tom/anaconda3/envs/bigfish38_samm/lib/python3.8/site-packages (from jinja2->distributed>=2021.06.0->dask-geopandas<0.2.0,>=0.1.3->bento-tools) (2.0.1)\n",
      "Requirement already satisfied: stdlib-list in /home/tom/anaconda3/envs/bigfish38_samm/lib/python3.8/site-packages (from session-info->scanpy<2.0.0,>=1.9.1->bento-tools) (0.8.0)\n",
      "Installing collected packages: xlrd, pandas\n",
      "  Attempting uninstall: xlrd\n",
      "    Found existing installation: xlrd 2.0.1\n",
      "    Uninstalling xlrd-2.0.1:\n",
      "      Successfully uninstalled xlrd-2.0.1\n",
      "  Attempting uninstall: pandas\n",
      "    Found existing installation: pandas 1.4.0\n",
      "    Uninstalling pandas-1.4.0:\n",
      "      Successfully uninstalled pandas-1.4.0\n",
      "Successfully installed pandas-1.2.5 xlrd-1.2.0\n"
     ]
    }
   ],
   "source": [
    "import"
   ]
  },
  {
   "cell_type": "code",
   "execution_count": null,
   "id": "079258fc",
   "metadata": {},
   "outputs": [],
   "source": []
  }
 ],
 "metadata": {
  "kernelspec": {
   "display_name": "bigfish38_samm",
   "language": "python",
   "name": "bigfish38_samm"
  },
  "language_info": {
   "codemirror_mode": {
    "name": "ipython",
    "version": 3
   },
   "file_extension": ".py",
   "mimetype": "text/x-python",
   "name": "python",
   "nbconvert_exporter": "python",
   "pygments_lexer": "ipython3",
   "version": "3.8.12"
  }
 },
 "nbformat": 4,
 "nbformat_minor": 5
}
