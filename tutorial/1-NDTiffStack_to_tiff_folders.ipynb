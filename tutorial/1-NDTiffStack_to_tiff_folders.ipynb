{
 "cells": [
  {
   "cell_type": "markdown",
   "id": "09614aa4",
   "metadata": {},
   "source": []
  },
  {
   "cell_type": "markdown",
   "id": "8da544d6",
   "metadata": {},
   "source": [
    "# Files preprocessing \n",
    "\n",
    "The first step to anaylse experiments From Autofish is to transform the  NDTiffStack files into a set of Folder of tiff files order per round, position and channel as follow.\n",
    "\n"
   ]
  },
  {
   "cell_type": "markdown",
   "id": "34acac66",
   "metadata": {},
   "source": [
    "└── main_folder\\\n",
    "    ├── r0\\\n",
    "    │   ├── r0_pos0_ch0.tif\\\n",
    "    │   ├── r0_pos0_ch1.tif\\\n",
    "    │   ├── r0_pos1_ch0.tif\\\n",
    "    │   ├── r0_pos1_ch1.tif\\\n",
    "    │   ├── r0_pos2_ch0.tif\\\n",
    "    │   └── r0_pos2_ch1.tif\\\n",
    "    ├── r1\\\n",
    "    ...\\\n",
    "    ...\\\n",
    "    |\\\n",
    "    ├── rN\\\n",
    "    │   ├── rN_pos0_ch0.tif\\\n",
    "    │   ├── rN_pos0_ch1.tif\\\n",
    "    │   ├── rN_pos1_ch0.tif\\\n",
    "    │   ├── rN_pos1_ch1.tif\\\n",
    "    │   ├── rN_pos2_ch0.tif\\\n",
    "    │   └── rN_pos2_ch1.tif\\\n"
   ]
  },
  {
   "cell_type": "code",
   "execution_count": 1,
   "id": "c3b3b9b4",
   "metadata": {},
   "outputs": [],
   "source": [
    "\n",
    "\n",
    "# Path to main folder containing the round folder of NDTiffStack\n",
    "path_parent='/media/tom/Transcend/autofish_test_input_stitching/' \n",
    "\n",
    "n_z=33  # number of z stack\n",
    "n_pos=3  # number of field of images\n",
    "\n",
    "# Number of channels\n",
    "n_c_default=1 ## default number of channel\n",
    "\n",
    "## add round that have a different number of channel like additional DAPI staining\n",
    "n_c_dict={'r0_1': 2, 'r1_1': 2} \n",
    "\n",
    "## add round that have a different number of channel like additional DAPI staining\n",
    "\n",
    "# Diverse string regex replacements for folder name\n",
    "# Example: r0_1 containing NDTiffStack will be save as r0\n",
    "string_replacements_path=[('_1', '')]\n",
    "\n",
    "# Diverse string regex replacements for file name\n",
    "string_replacements_file=[('_NDTiffStack.*', ''),\n",
    "                            (\"_bgd*\", \"\"),\n",
    "                            ('Pos', 'pos'),\n",
    "                            ]\n",
    "\n",
    "# path to the  folder to save the tiff\n",
    "folder_save = \"/media/tom/Transcend/autofish_test_stiching/\"\n"
   ]
  },
  {
   "cell_type": "code",
   "execution_count": 3,
   "id": "5e68581b",
   "metadata": {},
   "outputs": [],
   "source": [
    "import importlib\n",
    "from autofish_analysis.split_ndtiff_stack import  NDTiffStack_to_tiff"
   ]
  },
  {
   "cell_type": "code",
   "execution_count": 4,
   "id": "2df82110",
   "metadata": {},
   "outputs": [
    {
     "name": "stdout",
     "output_type": "stream",
     "text": [
      "[PosixPath('/media/tom/Transcend/autofish_test_input_stitching/r1_1'), PosixPath('/media/tom/Transcend/autofish_test_input_stitching/r2_1'), PosixPath('/media/tom/Transcend/autofish_test_input_stitching/r5_1')]\n"
     ]
    },
    {
     "name": "stderr",
     "output_type": "stream",
     "text": [
      "\r",
      "  0%|                                                                                                                                                                                                                                                                                             | 0/3 [00:00<?, ?it/s]"
     ]
    },
    {
     "name": "stdout",
     "output_type": "stream",
     "text": [
      ">>>> SCANNING FOLDER FOR IMAGES: /media/tom/Transcend/autofish_test_input_stitching/r1_1\n",
      "Will use pre-defined channel number 2 for round r1_1\n",
      "   Found images: ['/media/tom/Transcend/autofish_test_input_stitching/r1_1/r1_NDTiffStack.tif']\n",
      "  Images will be saved in folder: /media/tom/Transcend/autofish_test_stiching/r1\n",
      "     Loading image: /media/tom/Transcend/autofish_test_input_stitching/r1_1/r1_NDTiffStack.tif\n",
      "     Image shape: (198, 2048, 2048) r1_1\n"
     ]
    },
    {
     "name": "stderr",
     "output_type": "stream",
     "text": [
      "\n",
      "  0%|                                                                                                                                                                                                                                                                                             | 0/3 [00:00<?, ?it/s]\u001b[A"
     ]
    },
    {
     "name": "stdout",
     "output_type": "stream",
     "text": [
      " start-end: 0:32\n",
      "  Image will be saved as /media/tom/Transcend/autofish_test_stiching/r1/r1_pos0_ch0.tif\n",
      " SAVED    Image shape: (32, 2048, 2048)\n",
      " start-end: 33:65\n",
      "  Image will be saved as /media/tom/Transcend/autofish_test_stiching/r1/r1_pos0_ch1.tif\n",
      " SAVED    Image shape: (32, 2048, 2048)\n"
     ]
    },
    {
     "name": "stderr",
     "output_type": "stream",
     "text": [
      "\n",
      " 33%|████████████████████████████████████████████████████████████████████████████████████████████▎                                                                                                                                                                                        | 1/3 [00:04<00:08,  4.14s/it]\u001b[A"
     ]
    },
    {
     "name": "stdout",
     "output_type": "stream",
     "text": [
      " start-end: 66:98\n",
      "  Image will be saved as /media/tom/Transcend/autofish_test_stiching/r1/r1_pos1_ch0.tif\n",
      " SAVED    Image shape: (32, 2048, 2048)\n",
      " start-end: 99:131\n",
      "  Image will be saved as /media/tom/Transcend/autofish_test_stiching/r1/r1_pos1_ch1.tif\n",
      " SAVED    Image shape: (32, 2048, 2048)\n"
     ]
    },
    {
     "name": "stderr",
     "output_type": "stream",
     "text": [
      "\n",
      " 67%|████████████████████████████████████████████████████████████████████████████████████████████████████████████████████████████████████████████████████████████████████████████████████████▋                                                                                            | 2/3 [00:08<00:04,  4.10s/it]\u001b[A"
     ]
    },
    {
     "name": "stdout",
     "output_type": "stream",
     "text": [
      " start-end: 132:164\n",
      "  Image will be saved as /media/tom/Transcend/autofish_test_stiching/r1/r1_pos2_ch0.tif\n",
      " SAVED    Image shape: (32, 2048, 2048)\n",
      " start-end: 165:197\n",
      "  Image will be saved as /media/tom/Transcend/autofish_test_stiching/r1/r1_pos2_ch1.tif\n",
      " SAVED    Image shape: (32, 2048, 2048)\n"
     ]
    },
    {
     "name": "stderr",
     "output_type": "stream",
     "text": [
      "\n",
      "100%|█████████████████████████████████████████████████████████████████████████████████████████████████████████████████████████████████████████████████████████████████████████████████████████████████████████████████████████████████████████████████████████████████████████████████████| 3/3 [00:12<00:00,  4.29s/it]\u001b[A\n",
      " 33%|████████████████████████████████████████████████████████████████████████████████████████████▎                                                                                                                                                                                        | 1/3 [00:30<01:01, 30.60s/it]"
     ]
    },
    {
     "name": "stdout",
     "output_type": "stream",
     "text": [
      ">>>> SCANNING FOLDER FOR IMAGES: /media/tom/Transcend/autofish_test_input_stitching/r2_1\n",
      "Will use default number of channels: 1\n",
      "   Found images: ['/media/tom/Transcend/autofish_test_input_stitching/r2_1/r2_NDTiffStack.tif']\n",
      "  Images will be saved in folder: /media/tom/Transcend/autofish_test_stiching/r2\n",
      "     Loading image: /media/tom/Transcend/autofish_test_input_stitching/r2_1/r2_NDTiffStack.tif\n",
      "     Image shape: (99, 2048, 2048) r2_1\n"
     ]
    },
    {
     "name": "stderr",
     "output_type": "stream",
     "text": [
      "\n",
      "  0%|                                                                                                                                                                                                                                                                                             | 0/3 [00:00<?, ?it/s]\u001b[A"
     ]
    },
    {
     "name": "stdout",
     "output_type": "stream",
     "text": [
      " start-end: 0:32\n",
      "  Image will be saved as /media/tom/Transcend/autofish_test_stiching/r2/r2_pos0_ch0.tif\n",
      " SAVED    Image shape: (32, 2048, 2048)\n"
     ]
    },
    {
     "name": "stderr",
     "output_type": "stream",
     "text": [
      "\n",
      " 33%|████████████████████████████████████████████████████████████████████████████████████████████▎                                                                                                                                                                                        | 1/3 [00:02<00:04,  2.34s/it]\u001b[A"
     ]
    },
    {
     "name": "stdout",
     "output_type": "stream",
     "text": [
      " start-end: 33:65\n",
      "  Image will be saved as /media/tom/Transcend/autofish_test_stiching/r2/r2_pos1_ch0.tif\n",
      " SAVED    Image shape: (32, 2048, 2048)\n"
     ]
    },
    {
     "name": "stderr",
     "output_type": "stream",
     "text": [
      "\n",
      " 67%|████████████████████████████████████████████████████████████████████████████████████████████████████████████████████████████████████████████████████████████████████████████████████████▋                                                                                            | 2/3 [00:04<00:02,  2.04s/it]\u001b[A"
     ]
    },
    {
     "name": "stdout",
     "output_type": "stream",
     "text": [
      " start-end: 66:98\n",
      "  Image will be saved as /media/tom/Transcend/autofish_test_stiching/r2/r2_pos2_ch0.tif\n",
      " SAVED    Image shape: (32, 2048, 2048)\n"
     ]
    },
    {
     "name": "stderr",
     "output_type": "stream",
     "text": [
      "\n",
      "100%|█████████████████████████████████████████████████████████████████████████████████████████████████████████████████████████████████████████████████████████████████████████████████████████████████████████████████████████████████████████████████████████████████████████████████████| 3/3 [00:06<00:00,  2.09s/it]\u001b[A\n",
      " 67%|████████████████████████████████████████████████████████████████████████████████████████████████████████████████████████████████████████████████████████████████████████████████████████▋                                                                                            | 2/3 [00:52<00:25, 25.30s/it]"
     ]
    },
    {
     "name": "stdout",
     "output_type": "stream",
     "text": [
      ">>>> SCANNING FOLDER FOR IMAGES: /media/tom/Transcend/autofish_test_input_stitching/r5_1\n",
      "Will use default number of channels: 1\n",
      "   Found images: ['/media/tom/Transcend/autofish_test_input_stitching/r5_1/r5_NDTiffStack.tif']\n",
      "  Images will be saved in folder: /media/tom/Transcend/autofish_test_stiching/r5\n",
      "     Loading image: /media/tom/Transcend/autofish_test_input_stitching/r5_1/r5_NDTiffStack.tif\n",
      "     Image shape: (99, 2048, 2048) r5_1\n"
     ]
    },
    {
     "name": "stderr",
     "output_type": "stream",
     "text": [
      "\n",
      "  0%|                                                                                                                                                                                                                                                                                             | 0/3 [00:00<?, ?it/s]\u001b[A"
     ]
    },
    {
     "name": "stdout",
     "output_type": "stream",
     "text": [
      " start-end: 0:32\n",
      "  Image will be saved as /media/tom/Transcend/autofish_test_stiching/r5/r5_pos0_ch0.tif\n",
      " SAVED    Image shape: (32, 2048, 2048)\n"
     ]
    },
    {
     "name": "stderr",
     "output_type": "stream",
     "text": [
      "\n",
      " 33%|████████████████████████████████████████████████████████████████████████████████████████████▎                                                                                                                                                                                        | 1/3 [00:01<00:03,  1.71s/it]\u001b[A"
     ]
    },
    {
     "name": "stdout",
     "output_type": "stream",
     "text": [
      " start-end: 33:65\n",
      "  Image will be saved as /media/tom/Transcend/autofish_test_stiching/r5/r5_pos1_ch0.tif\n",
      " SAVED    Image shape: (32, 2048, 2048)\n"
     ]
    },
    {
     "name": "stderr",
     "output_type": "stream",
     "text": [
      "\n",
      " 67%|████████████████████████████████████████████████████████████████████████████████████████████████████████████████████████████████████████████████████████████████████████████████████████▋                                                                                            | 2/3 [00:03<00:01,  1.76s/it]\u001b[A"
     ]
    },
    {
     "name": "stdout",
     "output_type": "stream",
     "text": [
      " start-end: 66:98\n",
      "  Image will be saved as /media/tom/Transcend/autofish_test_stiching/r5/r5_pos2_ch0.tif\n",
      " SAVED    Image shape: (32, 2048, 2048)\n"
     ]
    },
    {
     "name": "stderr",
     "output_type": "stream",
     "text": [
      "\n",
      "100%|█████████████████████████████████████████████████████████████████████████████████████████████████████████████████████████████████████████████████████████████████████████████████████████████████████████████████████████████████████████████████████████████████████████████████████| 3/3 [00:05<00:00,  1.77s/it]\u001b[A\n",
      "100%|█████████████████████████████████████████████████████████████████████████████████████████████████████████████████████████████████████████████████████████████████████████████████████████████████████████████████████████████████████████████████████████████████████████████████████| 3/3 [01:14<00:00, 24.88s/it]\n"
     ]
    }
   ],
   "source": [
    "list_exceptions = NDTiffStack_to_tiff(\n",
    "\n",
    "    path_parent = path_parent,\n",
    "    n_z = n_z,  # number of z plances\n",
    "    n_pos =n_pos,  # number of field of images\n",
    "\n",
    "    n_c_default = n_c_default,\n",
    "    n_c_dict =n_c_dict,\n",
    "\n",
    "    # Diverse string replacements\n",
    "    string_replacements_path = string_replacements_path,\n",
    "\n",
    "    string_replacements_file = string_replacements_file,\n",
    "    folder_save = folder_save\n",
    "        )"
   ]
  },
  {
   "cell_type": "code",
   "execution_count": 5,
   "id": "24f6c489",
   "metadata": {},
   "outputs": [
    {
     "name": "stdout",
     "output_type": "stream",
     "text": [
      "[]\n"
     ]
    }
   ],
   "source": [
    "print(list_exceptions)"
   ]
  },
  {
   "cell_type": "code",
   "execution_count": 6,
   "id": "5e9669d7",
   "metadata": {},
   "outputs": [
    {
     "name": "stdout",
     "output_type": "stream",
     "text": [
      "/media/tom/Transcend/autofish_test_stiching\n",
      "\u001b[01;34m.\u001b[00m\n",
      "├── \u001b[01;34mold_res\u001b[00m\n",
      "│   ├── \u001b[01;32m18jully_dico_spots_registered_df_r2.npy\u001b[00m\n",
      "│   ├── \u001b[01;32mdico_spots.npy\u001b[00m\n",
      "│   ├── \u001b[01;32mdico_spots_registered_df_r1.npy\u001b[00m\n",
      "│   ├── \u001b[01;32mdico_spots_registered_r1.npy\u001b[00m\n",
      "│   ├── \u001b[01;32mdico_spots_registered_r2.npy\u001b[00m\n",
      "│   ├── \u001b[01;32mdico_spots_registered_stitch_df.npy\u001b[00m\n",
      "│   ├── \u001b[01;32mdico_stich_img.npy\u001b[00m\n",
      "│   ├── \u001b[01;32mdico_translation_ref_r1.npy\u001b[00m\n",
      "│   ├── \u001b[01;32mdico_translation_ref_r2.npy\u001b[00m\n",
      "│   ├── \u001b[01;32mdict_stitch_img.npy\u001b[00m\n",
      "│   ├── \u001b[01;34mr1\u001b[00m\n",
      "│   │   ├── \u001b[01;32mr1_pos0_ch0.tif\u001b[00m\n",
      "│   │   ├── \u001b[01;32mr1_pos1_ch0.tif\u001b[00m\n",
      "│   │   ├── \u001b[01;32mr1_pos2_ch0.tif\u001b[00m\n",
      "│   │   ├── \u001b[01;32mr1_pos6_ch0.tif\u001b[00m\n",
      "│   │   ├── \u001b[01;32mr1_pos7_ch0.tif\u001b[00m\n",
      "│   │   ├── \u001b[01;32mr1_pos8_ch0.tif\u001b[00m\n",
      "│   │   ├── \u001b[01;32mTileConfiguration_img_0.registered.txt\u001b[00m\n",
      "│   │   ├── \u001b[01;32mTileConfiguration_img0.registered.txt\u001b[00m\n",
      "│   │   ├── \u001b[01;32mTileConfiguration_img_0.txt\u001b[00m\n",
      "│   │   ├── \u001b[01;32mTileConfiguration_img0.txt\u001b[00m\n",
      "│   │   ├── \u001b[01;32mTileConfiguration_img1.registered.txt\u001b[00m\n",
      "│   │   ├── \u001b[01;32mTileConfiguration_img1.txt\u001b[00m\n",
      "│   │   ├── \u001b[01;32mTileConfiguration.registered.txt\u001b[00m\n",
      "│   │   └── \u001b[01;32mTileConfiguration.txt\u001b[00m\n",
      "│   ├── \u001b[01;34mr5\u001b[00m\n",
      "│   │   ├── \u001b[01;32mr5_pos0_ch0.tif\u001b[00m\n",
      "│   │   ├── \u001b[01;32mr5_pos1_ch0.tif\u001b[00m\n",
      "│   │   ├── \u001b[01;32mr5_pos2_ch0.tif\u001b[00m\n",
      "│   │   ├── \u001b[01;32mr5_pos6_ch0.tif\u001b[00m\n",
      "│   │   ├── \u001b[01;32mr5_pos7_ch0.tif\u001b[00m\n",
      "│   │   └── \u001b[01;32mr5_pos8_ch0.tif\u001b[00m\n",
      "│   ├── \u001b[01;34msegmentation_mask\u001b[00m\n",
      "│   │   ├── \u001b[01;32mdico_translation_ref_r1.npy\u001b[00m\n",
      "│   │   ├── \u001b[01;32mr1_pos0.tif\u001b[00m\n",
      "│   │   ├── \u001b[01;32mr1_pos1.tif\u001b[00m\n",
      "│   │   ├── \u001b[01;32mr1_pos2.tif\u001b[00m\n",
      "│   │   ├── \u001b[01;32mr1_pos6.tif\u001b[00m\n",
      "│   │   ├── \u001b[01;32mr1_pos7.tif\u001b[00m\n",
      "│   │   └── \u001b[01;32mr1_pos8.tif\u001b[00m\n",
      "│   ├── \u001b[01;34msegmentation_mask_stitch\u001b[00m\n",
      "│   │   ├── \u001b[01;34mdico_centroid\u001b[00m\n",
      "│   │   │   ├── \u001b[01;32mimg0.npy\u001b[00m\n",
      "│   │   │   └── \u001b[01;32mimg1.npy\u001b[00m\n",
      "│   │   ├── \u001b[01;32mimg0.npy\u001b[00m\n",
      "│   │   ├── \u001b[01;32mimg1.npy\u001b[00m\n",
      "│   │   └── \u001b[01;34mstitch_input\u001b[00m\n",
      "│   │       ├── \u001b[01;32mimg0.npy\u001b[00m\n",
      "│   │       └── \u001b[01;32mimg1.npy\u001b[00m\n",
      "│   └── \u001b[01;34mstitch_r1\u001b[00m\n",
      "├── \u001b[01;34mr1\u001b[00m\n",
      "│   ├── \u001b[01;32mr1_pos0_ch0.tif\u001b[00m\n",
      "│   ├── \u001b[01;32mr1_pos0_ch1.tif\u001b[00m\n",
      "│   ├── \u001b[01;32mr1_pos1_ch0.tif\u001b[00m\n",
      "│   ├── \u001b[01;32mr1_pos1_ch1.tif\u001b[00m\n",
      "│   ├── \u001b[01;32mr1_pos2_ch0.tif\u001b[00m\n",
      "│   └── \u001b[01;32mr1_pos2_ch1.tif\u001b[00m\n",
      "├── \u001b[01;34mr2\u001b[00m\n",
      "│   ├── \u001b[01;32mr2_pos0_ch0.tif\u001b[00m\n",
      "│   ├── \u001b[01;32mr2_pos1_ch0.tif\u001b[00m\n",
      "│   └── \u001b[01;32mr2_pos2_ch0.tif\u001b[00m\n",
      "└── \u001b[01;34mr5\u001b[00m\n",
      "    ├── \u001b[01;32mr5_pos0_ch0.tif\u001b[00m\n",
      "    ├── \u001b[01;32mr5_pos1_ch0.tif\u001b[00m\n",
      "    └── \u001b[01;32mr5_pos2_ch0.tif\u001b[00m\n",
      "\n",
      "11 directories, 55 files\n"
     ]
    }
   ],
   "source": [
    "%cd $folder_save\n",
    "!tree"
   ]
  },
  {
   "cell_type": "code",
   "execution_count": null,
   "id": "909a9a8e",
   "metadata": {},
   "outputs": [],
   "source": []
  }
 ],
 "metadata": {
  "kernelspec": {
   "display_name": "bigfish38_samm",
   "language": "python",
   "name": "bigfish38_samm"
  },
  "language_info": {
   "codemirror_mode": {
    "name": "ipython",
    "version": 3
   },
   "file_extension": ".py",
   "mimetype": "text/x-python",
   "name": "python",
   "nbconvert_exporter": "python",
   "pygments_lexer": "ipython3",
   "version": "3.8.8"
  }
 },
 "nbformat": 4,
 "nbformat_minor": 5
}
