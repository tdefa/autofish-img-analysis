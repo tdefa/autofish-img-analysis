{
 "cells": [
  {
   "cell_type": "markdown",
   "metadata": {},
   "source": [
    "# Files preprocessing \n",
    "\n",
    "The first step to anaylse experiments from autoFISH is to transform the  NDTiffStack files into tiff files.\n",
    "\n",
    "The tiff files will be saved as a set of folders of tiff files order per round, position and channel as follow.\n",
    "\n"
   ]
  },
  {
   "cell_type": "markdown",
   "metadata": {},
   "source": [
    "└── main_folder\\\n",
    "    ├── r0\\\n",
    "    │   ├── r0_pos0_ch0.tif\\\n",
    "    │   ├── r0_pos0_ch1.tif\\\n",
    "    │   ├── r0_pos1_ch0.tif\\\n",
    "    │   ├── r0_pos1_ch1.tif\\\n",
    "    │   ├── r0_pos2_ch0.tif\\\n",
    "    │   └── r0_pos2_ch1.tif\\\n",
    "    ├── r1\\\n",
    "    ...\\\n",
    "    ...\\\n",
    "    |\\\n",
    "    ├── rN\\\n",
    "    │   ├── rN_pos0_ch0.tif\\\n",
    "    │   ├── rN_pos0_ch1.tif\\\n",
    "    │   ├── rN_pos1_ch0.tif\\\n",
    "    │   ├── rN_pos1_ch1.tif\\\n",
    "    │   ├── rN_pos2_ch0.tif\\\n",
    "    │   └── rN_pos2_ch1.tif\\\n"
   ]
  },
  {
   "cell_type": "code",
   "execution_count": 1,
   "metadata": {},
   "outputs": [],
   "source": [
    "\n",
    "\n",
    "# Path to main folder containing the round folder of NDTiffStack\n",
    "path_parent='/media/tom/Transcend/autofish_test_input_stitching/' \n",
    "\n",
    "n_z=33  # number of z stack\n",
    "n_pos=3  # number of field of images\n",
    "\n",
    "# Number of channels\n",
    "n_c_default=1 ## default number of channel\n",
    "\n",
    "## add round that have a different number of channel like additional DAPI staining\n",
    "n_c_dict={'r0_1': 2, 'r1_1': 2} \n",
    "\n",
    "\n",
    "# Diverse string regex replacements for folder name\n",
    "# Example: r0_1 containing NDTiffStack will be save as r0\n",
    "string_replacements_path=[('_1', '')]\n",
    "\n",
    "# Diverse string regex replacements for file name\n",
    "string_replacements_file=[('_NDTiffStack.*', ''),\n",
    "                            (\"_bgd*\", \"\"),\n",
    "                            ('Pos', 'pos'),\n",
    "                            ]\n",
    "\n",
    "# path to the  folder to save the tiff\n",
    "folder_save = \"/media/tom/Transcend/autofish_test_stiching/\"\n"
   ]
  },
  {
   "cell_type": "code",
   "execution_count": 2,
   "metadata": {},
   "outputs": [],
   "source": [
    "import importlib\n",
    "from autofish_analysis.split_ndtiff_stack import  NDTiffStack_to_tiff"
   ]
  },
  {
   "cell_type": "code",
   "execution_count": 3,
   "metadata": {},
   "outputs": [
    {
     "name": "stdout",
     "output_type": "stream",
     "text": [
      "[PosixPath('/media/tom/Transcend/autofish_test_input_stitching/r1_1'), PosixPath('/media/tom/Transcend/autofish_test_input_stitching/r3_1')]\n"
     ]
    },
    {
     "name": "stderr",
     "output_type": "stream",
     "text": [
      "\r",
      "  0%|                                                                                                                                                                                                                                                                                          | 0/2 [00:00<?, ?it/s]"
     ]
    },
    {
     "name": "stdout",
     "output_type": "stream",
     "text": [
      ">>>> SCANNING FOLDER FOR IMAGES: /media/tom/Transcend/autofish_test_input_stitching/r1_1\n",
      "Will use pre-defined channel number 2 for round r1_1\n",
      "   Found images: ['/media/tom/Transcend/autofish_test_input_stitching/r1_1/r1_NDTiffStack.tif', '/media/tom/Transcend/autofish_test_input_stitching/r1_1/r1_NDTiffStack_1.tif']\n",
      "  Images will be saved in folder: /media/tom/Transcend/autofish_test_stiching/r1\n",
      "     Loading image: /media/tom/Transcend/autofish_test_input_stitching/r1_1/r1_NDTiffStack.tif\n",
      "     Image shape: (511, 2048, 2048) r1_1\n"
     ]
    },
    {
     "name": "stderr",
     "output_type": "stream",
     "text": [
      "\n",
      "  0%|                                                                                                                                                                                                                                                                                          | 0/3 [00:00<?, ?it/s]\u001b[A"
     ]
    },
    {
     "name": "stdout",
     "output_type": "stream",
     "text": [
      " start-end: 0:32\n",
      "  Image will be saved as /media/tom/Transcend/autofish_test_stiching/r1/r1_pos0_ch0.tif\n",
      " SAVED    Image shape: (32, 2048, 2048)\n",
      " start-end: 33:65\n",
      "  Image will be saved as /media/tom/Transcend/autofish_test_stiching/r1/r1_pos0_ch1.tif\n",
      " SAVED    Image shape: (32, 2048, 2048)\n"
     ]
    },
    {
     "name": "stderr",
     "output_type": "stream",
     "text": [
      "\n",
      " 33%|███████████████████████████████████████████████████████████████████████████████████████████▎                                                                                                                                                                                      | 1/3 [00:02<00:04,  2.04s/it]\u001b[A"
     ]
    },
    {
     "name": "stdout",
     "output_type": "stream",
     "text": [
      " start-end: 66:98\n",
      "  Image will be saved as /media/tom/Transcend/autofish_test_stiching/r1/r1_pos1_ch0.tif\n",
      " SAVED    Image shape: (32, 2048, 2048)\n",
      " start-end: 99:131\n",
      "  Image will be saved as /media/tom/Transcend/autofish_test_stiching/r1/r1_pos1_ch1.tif\n",
      " SAVED    Image shape: (32, 2048, 2048)\n"
     ]
    },
    {
     "name": "stderr",
     "output_type": "stream",
     "text": [
      "\n",
      " 67%|██████████████████████████████████████████████████████████████████████████████████████████████████████████████████████████████████████████████████████████████████████████████████████▋                                                                                           | 2/3 [00:04<00:02,  2.02s/it]\u001b[A"
     ]
    },
    {
     "name": "stdout",
     "output_type": "stream",
     "text": [
      " start-end: 132:164\n",
      "  Image will be saved as /media/tom/Transcend/autofish_test_stiching/r1/r1_pos2_ch0.tif\n",
      " SAVED    Image shape: (32, 2048, 2048)\n",
      " start-end: 165:197\n",
      "  Image will be saved as /media/tom/Transcend/autofish_test_stiching/r1/r1_pos2_ch1.tif\n",
      " SAVED    Image shape: (32, 2048, 2048)\n"
     ]
    },
    {
     "name": "stderr",
     "output_type": "stream",
     "text": [
      "\n",
      "100%|██████████████████████████████████████████████████████████████████████████████████████████████████████████████████████████████████████████████████████████████████████████████████████████████████████████████████████████████████████████████████████████████████████████████████| 3/3 [00:06<00:00,  2.07s/it]\u001b[A\n",
      " 50%|█████████████████████████████████████████████████████████████████████████████████████████████████████████████████████████████████████████                                                                                                                                         | 1/2 [01:00<01:00, 60.88s/it]"
     ]
    },
    {
     "name": "stdout",
     "output_type": "stream",
     "text": [
      ">>>> SCANNING FOLDER FOR IMAGES: /media/tom/Transcend/autofish_test_input_stitching/r3_1\n",
      "Will use default number of channels: 1\n",
      "   Found images: ['/media/tom/Transcend/autofish_test_input_stitching/r3_1/r3_NDTiffStack.tif']\n",
      "  Images will be saved in folder: /media/tom/Transcend/autofish_test_stiching/r3\n",
      "     Loading image: /media/tom/Transcend/autofish_test_input_stitching/r3_1/r3_NDTiffStack.tif\n",
      "     Image shape: (429, 2048, 2048) r3_1\n"
     ]
    },
    {
     "name": "stderr",
     "output_type": "stream",
     "text": [
      "\n",
      "  0%|                                                                                                                                                                                                                                                                                          | 0/3 [00:00<?, ?it/s]\u001b[A"
     ]
    },
    {
     "name": "stdout",
     "output_type": "stream",
     "text": [
      " start-end: 0:32\n",
      "  Image will be saved as /media/tom/Transcend/autofish_test_stiching/r3/r3_pos0_ch0.tif\n",
      " SAVED    Image shape: (32, 2048, 2048)\n"
     ]
    },
    {
     "name": "stderr",
     "output_type": "stream",
     "text": [
      "\n",
      " 33%|███████████████████████████████████████████████████████████████████████████████████████████▎                                                                                                                                                                                      | 1/3 [00:01<00:02,  1.37s/it]\u001b[A"
     ]
    },
    {
     "name": "stdout",
     "output_type": "stream",
     "text": [
      " start-end: 33:65\n",
      "  Image will be saved as /media/tom/Transcend/autofish_test_stiching/r3/r3_pos1_ch0.tif\n",
      " SAVED    Image shape: (32, 2048, 2048)\n"
     ]
    },
    {
     "name": "stderr",
     "output_type": "stream",
     "text": [
      "\n",
      " 67%|██████████████████████████████████████████████████████████████████████████████████████████████████████████████████████████████████████████████████████████████████████████████████████▋                                                                                           | 2/3 [00:02<00:01,  1.17s/it]\u001b[A"
     ]
    },
    {
     "name": "stdout",
     "output_type": "stream",
     "text": [
      " start-end: 66:98\n",
      "  Image will be saved as /media/tom/Transcend/autofish_test_stiching/r3/r3_pos2_ch0.tif\n",
      " SAVED    Image shape: (32, 2048, 2048)\n"
     ]
    },
    {
     "name": "stderr",
     "output_type": "stream",
     "text": [
      "\n",
      "100%|██████████████████████████████████████████████████████████████████████████████████████████████████████████████████████████████████████████████████████████████████████████████████████████████████████████████████████████████████████████████████████████████████████████████████| 3/3 [00:03<00:00,  1.12s/it]\u001b[A\n",
      "100%|██████████████████████████████████████████████████████████████████████████████████████████████████████████████████████████████████████████████████████████████████████████████████████████████████████████████████████████████████████████████████████████████████████████████████| 2/2 [02:05<00:00, 62.73s/it]\n"
     ]
    }
   ],
   "source": [
    "list_exceptions = NDTiffStack_to_tiff(\n",
    "\n",
    "    path_parent = path_parent,\n",
    "    n_z = n_z,  # number of z plances\n",
    "    n_pos =n_pos,  # number of field of images\n",
    "\n",
    "    n_c_default = n_c_default,\n",
    "    n_c_dict =n_c_dict,\n",
    "\n",
    "    # Diverse string replacements\n",
    "    string_replacements_path = string_replacements_path,\n",
    "\n",
    "    string_replacements_file = string_replacements_file,\n",
    "    folder_save = folder_save\n",
    "        )"
   ]
  },
  {
   "cell_type": "code",
   "execution_count": 4,
   "metadata": {},
   "outputs": [
    {
     "name": "stdout",
     "output_type": "stream",
     "text": [
      "[]\n"
     ]
    }
   ],
   "source": [
    "print(list_exceptions)"
   ]
  },
  {
   "cell_type": "code",
   "execution_count": 5,
   "metadata": {},
   "outputs": [
    {
     "name": "stdout",
     "output_type": "stream",
     "text": [
      "/media/tom/Transcend/autofish_test_stiching\n",
      "\u001b[01;34m.\u001b[00m\r\n",
      "├── \u001b[01;34mr1\u001b[00m\r\n",
      "│   ├── \u001b[01;32mr1_pos0_ch0.tif\u001b[00m\r\n",
      "│   ├── \u001b[01;32mr1_pos0_ch1.tif\u001b[00m\r\n",
      "│   ├── \u001b[01;32mr1_pos1_ch0.tif\u001b[00m\r\n",
      "│   ├── \u001b[01;32mr1_pos1_ch1.tif\u001b[00m\r\n",
      "│   ├── \u001b[01;32mr1_pos2_ch0.tif\u001b[00m\r\n",
      "│   └── \u001b[01;32mr1_pos2_ch1.tif\u001b[00m\r\n",
      "└── \u001b[01;34mr3\u001b[00m\r\n",
      "    ├── \u001b[01;32mr3_pos0_ch0.tif\u001b[00m\r\n",
      "    ├── \u001b[01;32mr3_pos1_ch0.tif\u001b[00m\r\n",
      "    └── \u001b[01;32mr3_pos2_ch0.tif\u001b[00m\r\n",
      "\r\n",
      "2 directories, 9 files\r\n"
     ]
    }
   ],
   "source": [
    "%cd $folder_save\n",
    "!tree"
   ]
  },
  {
   "cell_type": "code",
   "execution_count": null,
   "metadata": {},
   "outputs": [],
   "source": []
  }
 ],
 "metadata": {
  "kernelspec": {
   "display_name": "autofish_analysis",
   "language": "python",
   "name": "autofish_analysis"
  },
  "language_info": {
   "codemirror_mode": {
    "name": "ipython",
    "version": 3
   },
   "file_extension": ".py",
   "mimetype": "text/x-python",
   "name": "python",
   "nbconvert_exporter": "python",
   "pygments_lexer": "ipython3",
   "version": "3.8.8"
  }
 },
 "nbformat": 4,
 "nbformat_minor": 5
}
