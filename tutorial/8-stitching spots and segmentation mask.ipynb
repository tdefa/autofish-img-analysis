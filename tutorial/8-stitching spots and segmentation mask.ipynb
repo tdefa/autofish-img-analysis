{
 "cells": [
  {
   "cell_type": "markdown",
   "metadata": {},
   "source": [
    "## Stiching Python object\n",
    "\n",
    "- We use the previously stiching coordinates to stitch the segmented cells from segmentation masks of each position\n",
    "- We use the previously stiching coordinates to stitch the detected point cloud of each round to ensure not counting twice the same spots\n",
    "\n",
    "- For visualisation purposes it also possible to stitch fish signal images\n"
   ]
  },
  {
   "cell_type": "markdown",
   "metadata": {},
   "source": [
    "## Stitching of segmentation mask\n",
    "\n",
    "Cell of each position was segmented independly for memory optmization. When stitching the segmentation mask, the overlapping cells from different position are merged.\\\n",
    "When merging segmented cells, their instance cell segmentation ID changes from the one from the local position mask to the global stitched mask.\n",
    "\n",
    "The fonction **stich_segmask** will stitch segmentation mask using coordinate previously computed\n",
    "\n",
    "**stich_segmask** saves the new stitched mask in a separated folder and returns a dataframe indicating the correspondance between instance cell segmentation ID between till masks and stitched masks"
   ]
  },
  {
   "cell_type": "code",
   "execution_count": 1,
   "metadata": {},
   "outputs": [],
   "source": [
    "import numpy as np\n",
    "from pathlib import Path\n",
    "from autofish_analysis.stitching import stich_segmask"
   ]
  },
  {
   "cell_type": "code",
   "execution_count": 2,
   "metadata": {},
   "outputs": [],
   "source": [
    "## Path to the folder containing all the rounds\n",
    "folder_of_rounds = \"/media/tom/Transcend/autofish_test_stiching/\"\n",
    "\n",
    "## path to the mask of the position tiles\n",
    "path_mask = \"/media/tom/Transcend/autofish_test_stiching/segmentation_mask\"\n",
    "\n",
    "## indicate where to save the stiched mask\n",
    "path_to_save_mask = \"/media/tom/Transcend/autofish_test_stiching/segmentation_mask_stitch\"\n",
    "\n",
    "## overlap threshold above two cells are considered the same when stitching\n",
    "iou_threshold = 0.10 \n",
    "\n",
    "### load previously computed stitching coordinates\n",
    "dict_stitch_img = np.load(Path(folder_of_rounds) / \"dict_stitch_img.npy\",\n",
    "                          allow_pickle=True).item()\n",
    "\n",
    "## image dimention parameters\n",
    "image_shape=[38, 2048, 2048]\n",
    "nb_tiles_x=3\n",
    "nb_tiles_y=1"
   ]
  },
  {
   "cell_type": "code",
   "execution_count": 3,
   "metadata": {},
   "outputs": [
    {
     "name": "stdout",
     "output_type": "stream",
     "text": [
      "(42, 3048, 7144)\n"
     ]
    },
    {
     "name": "stderr",
     "output_type": "stream",
     "text": [
      "\r",
      "  0%|                                                                                                                                                                                                            | 0/11 [00:00<?, ?it/s]"
     ]
    },
    {
     "name": "stdout",
     "output_type": "stream",
     "text": [
      "r1_pos0.tif\n",
      "present_cell [0]\n"
     ]
    },
    {
     "name": "stderr",
     "output_type": "stream",
     "text": [
      "\r",
      "  9%|█████████████████▊                                                                                                                                                                                  | 1/11 [00:22<03:44, 22.43s/it]"
     ]
    },
    {
     "name": "stdout",
     "output_type": "stream",
     "text": [
      "r1_pos1.tif\n",
      "present_cell [ 0  5 10 14 15 18 24 29 31 36]\n",
      "unique_inter_cell [ 0 39 45 47 51] , cell 5\n",
      "iou 0.052831216329324575 cell 5 inter_cell 2\n",
      "iou 0.6520573390962388 cell 5 inter_cell 8\n",
      "iou MATCH  0.6520573390962388\n",
      "iou 0.006522792572996467 cell 5 inter_cell 10\n",
      "iou 0.00036300617945740534 cell 5 inter_cell 14\n",
      "unique_inter_cell [ 0  5 51 57 58] , cell 10\n"
     ]
    },
    {
     "name": "stderr",
     "output_type": "stream",
     "text": [
      "/home/tom/Bureau/phd/autofish_pckg/autofish_analysis/stitching.py:308: RuntimeWarning: overflow encountered in ushort_scalars\n",
      "  \n"
     ]
    },
    {
     "name": "stdout",
     "output_type": "stream",
     "text": [
      "iou 0.0035082132118082823 cell 10 inter_cell 65504\n",
      "iou 0.7218042422236337 cell 10 inter_cell 14\n",
      "iou MATCH  0.7218042422236337\n",
      "iou 0.027823552980693087 cell 10 inter_cell 20\n",
      "iou 0.0010192695526887792 cell 10 inter_cell 21\n",
      "unique_inter_cell [ 0 10 57 58] , cell 14\n",
      "iou 0.0006139902402293077 cell 14 inter_cell 65509\n",
      "iou 0.002907101311014734 cell 14 inter_cell 20\n",
      "iou 0.4339208548113489 cell 14 inter_cell 21\n",
      "iou MATCH  0.4339208548113489\n",
      "unique_inter_cell [ 0 62] , cell 15\n",
      "iou 0.0024582217046347664 cell 15 inter_cell 25\n",
      "unique_inter_cell [  0  62  65 105] , cell 18\n",
      "iou 0.6008000474706576 cell 18 inter_cell 25\n",
      "iou MATCH  0.6008000474706576\n",
      "iou 0.0023172277395775488 cell 18 inter_cell 28\n",
      "iou 0.017178904129685323 cell 18 inter_cell 68\n",
      "unique_inter_cell [ 0 69] , cell 24\n",
      "iou 0.7412302095263761 cell 24 inter_cell 32\n",
      "iou MATCH  0.7412302095263761\n",
      "unique_inter_cell [ 0  5 39] , cell 29\n",
      "iou 0.00019666203810365904 cell 29 inter_cell 65504\n",
      "iou 0.16921181478160258 cell 29 inter_cell 2\n",
      "iou MATCH  0.16921181478160258\n",
      "unique_inter_cell [ 0 10 14 57] , cell 31\n",
      "iou 3.025822749572697e-06 cell 31 inter_cell 65509\n",
      "iou 3.727717357692272e-05 cell 31 inter_cell 65513\n",
      "iou 0.0037512704033676562 cell 31 inter_cell 20\n",
      "unique_inter_cell [ 0 29] , cell 36\n"
     ]
    },
    {
     "name": "stderr",
     "output_type": "stream",
     "text": [
      "\r",
      " 18%|███████████████████████████████████▋                                                                                                                                                                | 2/11 [01:00<04:44, 31.62s/it]"
     ]
    },
    {
     "name": "stdout",
     "output_type": "stream",
     "text": [
      "iou 0.030121856295461255 cell 36 inter_cell 65528\n",
      "r1_pos2.tif\n",
      "present_cell [  0  38  49  55  60  63  64  82  88  95  97 101 107 109 117 123 130]\n",
      "unique_inter_cell [  0 136] , cell 38\n",
      "iou 0.2785437918592073 cell 38 inter_cell 3\n",
      "iou MATCH  0.2785437918592073\n",
      "unique_inter_cell [  0 143 147] , cell 49\n",
      "iou 0.30001758771809933 cell 49 inter_cell 10\n",
      "iou MATCH  0.30001758771809933\n",
      "iou 0.0005893320680130773 cell 49 inter_cell 14\n",
      "unique_inter_cell [  0  49 147 149] , cell 55\n",
      "iou 0.0011464879862457214 cell 55 inter_cell 65452\n",
      "iou 0.13053105751142285 cell 55 inter_cell 14\n",
      "iou MATCH  0.13053105751142285\n",
      "iou 8.411534316431407e-05 cell 55 inter_cell 16\n",
      "unique_inter_cell [  0  55 149 152 153 156] , cell 60\n",
      "iou 0.005783429338520107 cell 60 inter_cell 65458\n",
      "iou 0.001200403697129746 cell 60 inter_cell 16\n",
      "iou 0.7544317757602227 cell 60 inter_cell 19\n",
      "iou MATCH  0.7544317757602227\n",
      "iou 7.74581588776571e-06 cell 60 inter_cell 20\n",
      "iou 0.0007951077748974302 cell 60 inter_cell 23\n",
      "unique_inter_cell [  0  60 153 156 196] , cell 63\n",
      "iou 0.0055017177626103895 cell 63 inter_cell 65463\n",
      "iou 0.0005563944149600061 cell 63 inter_cell 20\n",
      "iou 0.7686388123550335 cell 63 inter_cell 23\n",
      "iou MATCH  0.7686388123550335\n",
      "iou 0.010787948354635743 cell 63 inter_cell 63\n",
      "unique_inter_cell [ 0 63] , cell 64\n",
      "iou 0.00325808841689306 cell 64 inter_cell 65466\n",
      "unique_inter_cell [  0  49  55  60 149] , cell 82\n",
      "iou 0.0013140331405269822 cell 82 inter_cell 65452\n",
      "iou 0.5702770706073583 cell 82 inter_cell 65458\n",
      "iou MATCH  0.5702770706073583\n",
      "iou 0.0012561730424360286 cell 82 inter_cell 65463\n",
      "iou 0.003325925489918865 cell 82 inter_cell 16\n",
      "unique_inter_cell [ 0 82] , cell 88\n",
      "iou 0.04271784915591977 cell 88 inter_cell 65485\n",
      "unique_inter_cell [ 0 63] , cell 95\n",
      "iou 0.0017512454325358878 cell 95 inter_cell 65466\n",
      "unique_inter_cell [ 0 63] , cell 97\n",
      "iou 0.011551256938500076 cell 97 inter_cell 65466\n",
      "unique_inter_cell [ 0 82] , cell 101\n",
      "iou 0.009383870665994585 cell 101 inter_cell 65485\n",
      "unique_inter_cell [ 0 49] , cell 107\n",
      "iou 0.022526268321113225 cell 107 inter_cell 65452\n",
      "unique_inter_cell [ 0 49 82] , cell 109\n",
      "iou 0.07562208197063819 cell 109 inter_cell 65452\n",
      "iou 0.000566610269696482 cell 109 inter_cell 65485\n",
      "unique_inter_cell [ 0 49 82] , cell 117\n",
      "iou 0.32760703982668143 cell 117 inter_cell 65452\n",
      "iou MATCH  0.32760703982668143\n",
      "iou 0.00019596960462959148 cell 117 inter_cell 65485\n",
      "unique_inter_cell [  0 117] , cell 123\n",
      "iou 0.00854889704170181 cell 123 inter_cell 65520\n",
      "unique_inter_cell [ 0 82] , cell 130\n"
     ]
    },
    {
     "name": "stderr",
     "output_type": "stream",
     "text": [
      "100%|███████████████████████████████████████████████████████████████████████████████████████████████████████████████████████████████████████████████████████████████████████████████████████████████████| 11/11 [01:44<00:00,  9.53s/it]"
     ]
    },
    {
     "name": "stdout",
     "output_type": "stream",
     "text": [
      "iou 2.8397078118143382e-05 cell 130 inter_cell 65485\n"
     ]
    },
    {
     "name": "stderr",
     "output_type": "stream",
     "text": [
      "\n"
     ]
    },
    {
     "name": "stdout",
     "output_type": "stream",
     "text": [
      "(42, 3048, 7144)\n"
     ]
    },
    {
     "name": "stderr",
     "output_type": "stream",
     "text": [
      "\r",
      "  0%|                                                                                                                                                                                                            | 0/11 [00:00<?, ?it/s]"
     ]
    },
    {
     "name": "stdout",
     "output_type": "stream",
     "text": [
      "r1_pos6.tif\n",
      "present_cell [0]\n"
     ]
    },
    {
     "name": "stderr",
     "output_type": "stream",
     "text": [
      "\r",
      " 73%|██████████████████████████████████████████████████████████████████████████████████████████████████████████████████████████████████████████████▌                                                     | 8/11 [00:35<00:13,  4.50s/it]"
     ]
    },
    {
     "name": "stdout",
     "output_type": "stream",
     "text": [
      "r1_pos7.tif\n",
      "present_cell [ 0  3  4 11 13 19 21 24]\n",
      "unique_inter_cell [ 0 55 58 60] , cell 3\n",
      "iou 0.5985103672712052 cell 3 inter_cell 4\n",
      "iou MATCH  0.5985103672712052\n",
      "iou 0.006620167706341709 cell 3 inter_cell 7\n",
      "iou 6.943864199381996e-05 cell 3 inter_cell 9\n",
      "unique_inter_cell [ 0  3 58] , cell 4\n"
     ]
    },
    {
     "name": "stderr",
     "output_type": "stream",
     "text": [
      "/home/tom/Bureau/phd/autofish_pckg/autofish_analysis/stitching.py:308: RuntimeWarning: overflow encountered in ushort_scalars\n",
      "  \n"
     ]
    },
    {
     "name": "stdout",
     "output_type": "stream",
     "text": [
      "iou 0.00013420362349783445 cell 4 inter_cell 65488\n",
      "iou 0.001375214922904839 cell 4 inter_cell 7\n",
      "unique_inter_cell [ 0  3 58 60] , cell 11\n",
      "iou 0.07000856751300627 cell 11 inter_cell 65488\n",
      "iou 0.6457453949812411 cell 11 inter_cell 7\n",
      "iou MATCH  0.6457453949812411\n",
      "iou 0.0016713453733820025 cell 11 inter_cell 9\n",
      "unique_inter_cell [ 0 60 64] , cell 13\n",
      "iou 0.015109868938990882 cell 13 inter_cell 9\n",
      "iou 0.2603686207885324 cell 13 inter_cell 13\n",
      "iou MATCH  0.2603686207885324\n",
      "unique_inter_cell [ 0 69] , cell 19\n",
      "iou 0.44480351682032676 cell 19 inter_cell 18\n",
      "iou MATCH  0.44480351682032676\n",
      "unique_inter_cell [ 0 73] , cell 21\n",
      "iou 0.35652904442078237 cell 21 inter_cell 22\n",
      "iou MATCH  0.35652904442078237\n",
      "unique_inter_cell [0] , cell 24\n"
     ]
    },
    {
     "name": "stderr",
     "output_type": "stream",
     "text": [
      "\r",
      " 82%|████████████████████████████████████████████████████████████████████████████████████████████████████████████████████████████████████████████████████████████████▎                                   | 9/11 [01:06<00:16,  8.38s/it]"
     ]
    },
    {
     "name": "stdout",
     "output_type": "stream",
     "text": [
      "r1_pos8.tif\n",
      "present_cell [ 0 52 61 62 67 72 75 76 80 93]\n",
      "unique_inter_cell [  0 123] , cell 52\n",
      "iou 0.675012827597095 cell 52 inter_cell 4\n",
      "iou MATCH  0.675012827597095\n",
      "unique_inter_cell [  0 126 127 132 133 153 172] , cell 61\n",
      "iou 3.515961307771061e-05 cell 61 inter_cell 7\n",
      "iou 0.0002105162208595845 cell 61 inter_cell 8\n",
      "iou 0.8428011880249575 cell 61 inter_cell 13\n",
      "iou MATCH  0.8428011880249575\n",
      "iou 0.002715686706083358 cell 61 inter_cell 14\n",
      "iou 0.004132472106512278 cell 61 inter_cell 34\n",
      "iou 0.000556784287117851 cell 61 inter_cell 53\n",
      "unique_inter_cell [  0  61 127 133 153] , cell 62\n",
      "iou 0.013626544548726818 cell 62 inter_cell 65478\n",
      "iou 9.078318082704612e-06 cell 62 inter_cell 8\n",
      "iou 0.3198043561117179 cell 62 inter_cell 14\n",
      "iou MATCH  0.3198043561117179\n",
      "iou 0.00046423276921193766 cell 62 inter_cell 34\n",
      "unique_inter_cell [  0 140] , cell 67\n",
      "iou 0.5303075160106285 cell 67 inter_cell 21\n",
      "iou MATCH  0.5303075160106285\n",
      "unique_inter_cell [  0  67 145] , cell 72\n",
      "iou 0.00016415771350176763 cell 72 inter_cell 65484\n",
      "iou 0.7037705292166837 cell 72 inter_cell 26\n",
      "iou MATCH  0.7037705292166837\n",
      "unique_inter_cell [ 0 72] , cell 75\n",
      "iou 0.0010016790497766137 cell 75 inter_cell 65489\n",
      "unique_inter_cell [  0  72 158 165] , cell 76\n",
      "iou 0.0009216340897478394 cell 76 inter_cell 65489\n",
      "iou 0.04488410368948018 cell 76 inter_cell 39\n",
      "iou 0.3182487067069193 cell 76 inter_cell 46\n",
      "iou MATCH  0.3182487067069193\n",
      "unique_inter_cell [  0  52  61 126 153 183] , cell 80\n",
      "iou 0.012361000618757181 cell 80 inter_cell 65469\n",
      "iou 0.013634958463693825 cell 80 inter_cell 65478\n",
      "iou 0.5697126255972629 cell 80 inter_cell 7\n",
      "iou MATCH  0.5697126255972629\n",
      "iou 0.007279998477717591 cell 80 inter_cell 34\n",
      "iou 0.004685963853761175 cell 80 inter_cell 64\n",
      "unique_inter_cell [  0  61  80 153] , cell 93\n",
      "iou 0.000904079247797175 cell 93 inter_cell 65478\n",
      "iou 0.001720230670262998 cell 93 inter_cell 65497\n"
     ]
    },
    {
     "name": "stderr",
     "output_type": "stream",
     "text": [
      "100%|███████████████████████████████████████████████████████████████████████████████████████████████████████████████████████████████████████████████████████████████████████████████████████████████████| 11/11 [01:45<00:00,  9.55s/it]"
     ]
    },
    {
     "name": "stdout",
     "output_type": "stream",
     "text": [
      "iou 0.17875930521091812 cell 93 inter_cell 34\n",
      "iou MATCH  0.17875930521091812\n"
     ]
    },
    {
     "name": "stderr",
     "output_type": "stream",
     "text": [
      "\n"
     ]
    }
   ],
   "source": [
    "dict_stitch_img = np.load(Path(folder_of_rounds) / \"dict_stitch_img.npy\",\n",
    "                          allow_pickle=True).item()\n",
    "df_matching_new_cell_label = stich_segmask(dict_stitch_img, \n",
    "                  path_mask = path_mask,\n",
    "                  path_to_save_mask = path_to_save_mask,\n",
    "                  image_shape=image_shape,\n",
    "                  nb_tiles_x = nb_tiles_x,\n",
    "                  nb_tiles_y=nb_tiles_y,\n",
    "                  iou_threshold = 0.10)"
   ]
  },
  {
   "cell_type": "code",
   "execution_count": 4,
   "metadata": {},
   "outputs": [
    {
     "data": {
      "text/html": [
       "<div>\n",
       "<style scoped>\n",
       "    .dataframe tbody tr th:only-of-type {\n",
       "        vertical-align: middle;\n",
       "    }\n",
       "\n",
       "    .dataframe tbody tr th {\n",
       "        vertical-align: top;\n",
       "    }\n",
       "\n",
       "    .dataframe thead th {\n",
       "        text-align: right;\n",
       "    }\n",
       "</style>\n",
       "<table border=\"1\" class=\"dataframe\">\n",
       "  <thead>\n",
       "    <tr style=\"text-align: right;\">\n",
       "      <th></th>\n",
       "      <th>cell_id_local_position</th>\n",
       "      <th>cell_id_stitched_mask</th>\n",
       "      <th>pos</th>\n",
       "    </tr>\n",
       "  </thead>\n",
       "  <tbody>\n",
       "    <tr>\n",
       "      <th>0</th>\n",
       "      <td>0</td>\n",
       "      <td>0</td>\n",
       "      <td>pos6</td>\n",
       "    </tr>\n",
       "    <tr>\n",
       "      <th>1</th>\n",
       "      <td>1</td>\n",
       "      <td>1</td>\n",
       "      <td>pos6</td>\n",
       "    </tr>\n",
       "    <tr>\n",
       "      <th>2</th>\n",
       "      <td>2</td>\n",
       "      <td>2</td>\n",
       "      <td>pos6</td>\n",
       "    </tr>\n",
       "    <tr>\n",
       "      <th>3</th>\n",
       "      <td>3</td>\n",
       "      <td>3</td>\n",
       "      <td>pos6</td>\n",
       "    </tr>\n",
       "    <tr>\n",
       "      <th>4</th>\n",
       "      <td>4</td>\n",
       "      <td>4</td>\n",
       "      <td>pos6</td>\n",
       "    </tr>\n",
       "    <tr>\n",
       "      <th>...</th>\n",
       "      <td>...</td>\n",
       "      <td>...</td>\n",
       "      <td>...</td>\n",
       "    </tr>\n",
       "    <tr>\n",
       "      <th>134</th>\n",
       "      <td>58</td>\n",
       "      <td>177</td>\n",
       "      <td>pos8</td>\n",
       "    </tr>\n",
       "    <tr>\n",
       "      <th>135</th>\n",
       "      <td>59</td>\n",
       "      <td>178</td>\n",
       "      <td>pos8</td>\n",
       "    </tr>\n",
       "    <tr>\n",
       "      <th>136</th>\n",
       "      <td>63</td>\n",
       "      <td>182</td>\n",
       "      <td>pos8</td>\n",
       "    </tr>\n",
       "    <tr>\n",
       "      <th>137</th>\n",
       "      <td>64</td>\n",
       "      <td>183</td>\n",
       "      <td>pos8</td>\n",
       "    </tr>\n",
       "    <tr>\n",
       "      <th>138</th>\n",
       "      <td>65</td>\n",
       "      <td>184</td>\n",
       "      <td>pos8</td>\n",
       "    </tr>\n",
       "  </tbody>\n",
       "</table>\n",
       "<p>139 rows × 3 columns</p>\n",
       "</div>"
      ],
      "text/plain": [
       "     cell_id_local_position  cell_id_stitched_mask   pos\n",
       "0                         0                      0  pos6\n",
       "1                         1                      1  pos6\n",
       "2                         2                      2  pos6\n",
       "3                         3                      3  pos6\n",
       "4                         4                      4  pos6\n",
       "..                      ...                    ...   ...\n",
       "134                      58                    177  pos8\n",
       "135                      59                    178  pos8\n",
       "136                      63                    182  pos8\n",
       "137                      64                    183  pos8\n",
       "138                      65                    184  pos8\n",
       "\n",
       "[139 rows x 3 columns]"
      ]
     },
     "execution_count": 4,
     "metadata": {},
     "output_type": "execute_result"
    }
   ],
   "source": [
    "df_matching_new_cell_label['img1']"
   ]
  },
  {
   "cell_type": "markdown",
   "metadata": {},
   "source": [
    "**the cell_id_local_position** is the cell ID in the orignal segmented tile at postion X\\\n",
    "**the cell_id_stitched_mask** is the cell ID in the stitched mask"
   ]
  },
  {
   "cell_type": "code",
   "execution_count": 6,
   "metadata": {},
   "outputs": [],
   "source": [
    "np.save(Path(folder_of_rounds) / \"df_matching_new_cell_label.npy\", df_matching_new_cell_label)"
   ]
  },
  {
   "cell_type": "markdown",
   "metadata": {},
   "source": [
    "## Stitching of point clouds\n",
    "\n",
    "The function **dico_spots_registered_stitch_df** stitches the point cloud from the different tiles\n"
   ]
  },
  {
   "cell_type": "code",
   "execution_count": 11,
   "metadata": {},
   "outputs": [],
   "source": [
    "import autofish_analysis.stitching\n",
    "importlib.reload(autofish_analysis.stitching)\n",
    "from autofish_analysis.stitching import  stich_dico_spots"
   ]
  },
  {
   "cell_type": "code",
   "execution_count": 12,
   "metadata": {},
   "outputs": [
    {
     "name": "stdout",
     "output_type": "stream",
     "text": [
      "img0\n",
      "pos2\n",
      "pos1\n",
      "pos0\n",
      "img1\n",
      "pos8\n",
      "pos7\n",
      "pos6\n"
     ]
    }
   ],
   "source": [
    "\n",
    "\n",
    "## define the correspondance between round and RNA species\n",
    "dict_round_gene={\n",
    "        'r1': \"gene1\",\n",
    "        'r3': \"gene2\",\n",
    "        }\n",
    "\n",
    "\n",
    "### load previously registered spots detection\n",
    "dict_spots_registered_df = np.load(Path(folder_of_rounds) / \"dict_spots_registered_df_r1_with_cell.npy\",\n",
    "                                allow_pickle=True).item()\n",
    "\n",
    "\n",
    "\n",
    "dico_spots_registered_stitch_df = stich_dico_spots(\n",
    "    dict_spots_registered_df = dict_spots_registered_df,\n",
    "                     dict_stitch_img = dict_stitch_img,\n",
    "                     dict_round_gene=dict_round_gene,\n",
    "                     image_shape=image_shape,\n",
    "                 nb_tiles_x=nb_tiles_x,\n",
    "                 nb_tiles_y=nb_tiles_y,\n",
    "                 df_matching_new_cell_label = df_matching_new_cell_label)\n",
    "\n",
    "np.save(Path(folder_of_rounds) /  \"dico_spots_registered_stitch_df.npy\",\n",
    "        dico_spots_registered_stitch_df)\n"
   ]
  },
  {
   "cell_type": "code",
   "execution_count": 13,
   "metadata": {},
   "outputs": [
    {
     "data": {
      "text/html": [
       "<div>\n",
       "<style scoped>\n",
       "    .dataframe tbody tr th:only-of-type {\n",
       "        vertical-align: middle;\n",
       "    }\n",
       "\n",
       "    .dataframe tbody tr th {\n",
       "        vertical-align: top;\n",
       "    }\n",
       "\n",
       "    .dataframe thead th {\n",
       "        text-align: right;\n",
       "    }\n",
       "</style>\n",
       "<table border=\"1\" class=\"dataframe\">\n",
       "  <thead>\n",
       "    <tr style=\"text-align: right;\">\n",
       "      <th></th>\n",
       "      <th>x</th>\n",
       "      <th>y</th>\n",
       "      <th>z</th>\n",
       "      <th>round_name</th>\n",
       "      <th>gene</th>\n",
       "      <th>cell_assignment</th>\n",
       "      <th>image_position</th>\n",
       "    </tr>\n",
       "  </thead>\n",
       "  <tbody>\n",
       "    <tr>\n",
       "      <th>0</th>\n",
       "      <td>1720.000000</td>\n",
       "      <td>1122.000000</td>\n",
       "      <td>6.0</td>\n",
       "      <td>r1</td>\n",
       "      <td>gene1</td>\n",
       "      <td>133</td>\n",
       "      <td>pos2</td>\n",
       "    </tr>\n",
       "    <tr>\n",
       "      <th>1</th>\n",
       "      <td>304.000000</td>\n",
       "      <td>7.000000</td>\n",
       "      <td>8.0</td>\n",
       "      <td>r1</td>\n",
       "      <td>gene1</td>\n",
       "      <td>133</td>\n",
       "      <td>pos2</td>\n",
       "    </tr>\n",
       "    <tr>\n",
       "      <th>2</th>\n",
       "      <td>714.000000</td>\n",
       "      <td>10.000000</td>\n",
       "      <td>8.0</td>\n",
       "      <td>r1</td>\n",
       "      <td>gene1</td>\n",
       "      <td>137</td>\n",
       "      <td>pos2</td>\n",
       "    </tr>\n",
       "    <tr>\n",
       "      <th>3</th>\n",
       "      <td>792.000000</td>\n",
       "      <td>15.000000</td>\n",
       "      <td>8.0</td>\n",
       "      <td>r1</td>\n",
       "      <td>gene1</td>\n",
       "      <td>137</td>\n",
       "      <td>pos2</td>\n",
       "    </tr>\n",
       "    <tr>\n",
       "      <th>4</th>\n",
       "      <td>2047.000000</td>\n",
       "      <td>17.000000</td>\n",
       "      <td>8.0</td>\n",
       "      <td>r1</td>\n",
       "      <td>gene1</td>\n",
       "      <td>38</td>\n",
       "      <td>pos2</td>\n",
       "    </tr>\n",
       "    <tr>\n",
       "      <th>...</th>\n",
       "      <td>...</td>\n",
       "      <td>...</td>\n",
       "      <td>...</td>\n",
       "      <td>...</td>\n",
       "      <td>...</td>\n",
       "      <td>...</td>\n",
       "      <td>...</td>\n",
       "    </tr>\n",
       "    <tr>\n",
       "      <th>22032</th>\n",
       "      <td>4589.833607</td>\n",
       "      <td>262.618102</td>\n",
       "      <td>37.0</td>\n",
       "      <td>r3</td>\n",
       "      <td>gene2</td>\n",
       "      <td>35</td>\n",
       "      <td>pos0</td>\n",
       "    </tr>\n",
       "    <tr>\n",
       "      <th>22033</th>\n",
       "      <td>5305.833607</td>\n",
       "      <td>713.618102</td>\n",
       "      <td>37.0</td>\n",
       "      <td>r3</td>\n",
       "      <td>gene2</td>\n",
       "      <td>37</td>\n",
       "      <td>pos0</td>\n",
       "    </tr>\n",
       "    <tr>\n",
       "      <th>22034</th>\n",
       "      <td>4811.833607</td>\n",
       "      <td>1596.618102</td>\n",
       "      <td>37.0</td>\n",
       "      <td>r3</td>\n",
       "      <td>gene2</td>\n",
       "      <td>16</td>\n",
       "      <td>pos0</td>\n",
       "    </tr>\n",
       "    <tr>\n",
       "      <th>22035</th>\n",
       "      <td>4782.833607</td>\n",
       "      <td>1630.618102</td>\n",
       "      <td>37.0</td>\n",
       "      <td>r3</td>\n",
       "      <td>gene2</td>\n",
       "      <td>16</td>\n",
       "      <td>pos0</td>\n",
       "    </tr>\n",
       "    <tr>\n",
       "      <th>22036</th>\n",
       "      <td>4488.833607</td>\n",
       "      <td>1793.618102</td>\n",
       "      <td>37.0</td>\n",
       "      <td>r3</td>\n",
       "      <td>gene2</td>\n",
       "      <td>19</td>\n",
       "      <td>pos0</td>\n",
       "    </tr>\n",
       "  </tbody>\n",
       "</table>\n",
       "<p>22037 rows × 7 columns</p>\n",
       "</div>"
      ],
      "text/plain": [
       "                 x            y     z round_name   gene  cell_assignment  \\\n",
       "0      1720.000000  1122.000000   6.0         r1  gene1              133   \n",
       "1       304.000000     7.000000   8.0         r1  gene1              133   \n",
       "2       714.000000    10.000000   8.0         r1  gene1              137   \n",
       "3       792.000000    15.000000   8.0         r1  gene1              137   \n",
       "4      2047.000000    17.000000   8.0         r1  gene1               38   \n",
       "...            ...          ...   ...        ...    ...              ...   \n",
       "22032  4589.833607   262.618102  37.0         r3  gene2               35   \n",
       "22033  5305.833607   713.618102  37.0         r3  gene2               37   \n",
       "22034  4811.833607  1596.618102  37.0         r3  gene2               16   \n",
       "22035  4782.833607  1630.618102  37.0         r3  gene2               16   \n",
       "22036  4488.833607  1793.618102  37.0         r3  gene2               19   \n",
       "\n",
       "      image_position  \n",
       "0               pos2  \n",
       "1               pos2  \n",
       "2               pos2  \n",
       "3               pos2  \n",
       "4               pos2  \n",
       "...              ...  \n",
       "22032           pos0  \n",
       "22033           pos0  \n",
       "22034           pos0  \n",
       "22035           pos0  \n",
       "22036           pos0  \n",
       "\n",
       "[22037 rows x 7 columns]"
      ]
     },
     "execution_count": 13,
     "metadata": {},
     "output_type": "execute_result"
    }
   ],
   "source": [
    "dico_spots_registered_stitch_df['img0']"
   ]
  },
  {
   "cell_type": "markdown",
   "metadata": {},
   "source": [
    "### Stich fluorescent signal\n",
    "\n",
    "Stitching the fish images is only for vizualisation purposes as all analysis are computed on local postion tile.\n",
    "It enable to reduce computational cost. \n",
    "\n",
    "Still it is possible to stitch fish signal of the reference round using the previously computed stitching coordiante"
   ]
  },
  {
   "cell_type": "code",
   "execution_count": 17,
   "metadata": {},
   "outputs": [],
   "source": [
    "import autofish_analysis.stitching\n",
    "importlib.reload(autofish_analysis.stitching)\n",
    "from autofish_analysis.stitching import  stich_from_dico_img"
   ]
  },
  {
   "cell_type": "code",
   "execution_count": 19,
   "metadata": {
    "scrolled": true
   },
   "outputs": [
    {
     "name": "stderr",
     "output_type": "stream",
     "text": [
      "\r",
      "  0%|                                                                                                                                                                                                            | 0/11 [00:00<?, ?it/s]"
     ]
    },
    {
     "name": "stdout",
     "output_type": "stream",
     "text": [
      "r1_pos0_ch0.tif in the folder\n",
      "r1_pos0_ch0.tif\n",
      "r1_pos0_ch0.tif will be stitched\n",
      "r1_pos0_ch0.tif (38, 2048, 2048)\n",
      "(38, 2048, 2048)\n"
     ]
    },
    {
     "name": "stderr",
     "output_type": "stream",
     "text": [
      "\r",
      "  9%|█████████████████▊                                                                                                                                                                                  | 1/11 [00:00<00:04,  2.49it/s]"
     ]
    },
    {
     "name": "stdout",
     "output_type": "stream",
     "text": [
      "r1_pos10_ch0.tif in the folder\n",
      "r1_pos1_ch0.tif in the folder\n",
      "r1_pos1_ch0.tif\n",
      "r1_pos1_ch0.tif will be stitched\n"
     ]
    },
    {
     "name": "stderr",
     "output_type": "stream",
     "text": [
      "\r",
      " 27%|█████████████████████████████████████████████████████▍                                                                                                                                              | 3/11 [00:00<00:02,  3.71it/s]"
     ]
    },
    {
     "name": "stdout",
     "output_type": "stream",
     "text": [
      "r1_pos1_ch0.tif (38, 2048, 2048)\n",
      "(38, 2048, 2048)\n",
      "r1_pos2_ch0.tif in the folder\n",
      "r1_pos2_ch0.tif\n",
      "r1_pos2_ch0.tif will be stitched\n"
     ]
    },
    {
     "name": "stderr",
     "output_type": "stream",
     "text": [
      "100%|███████████████████████████████████████████████████████████████████████████████████████████████████████████████████████████████████████████████████████████████████████████████████████████████████| 11/11 [00:01<00:00,  8.56it/s]"
     ]
    },
    {
     "name": "stdout",
     "output_type": "stream",
     "text": [
      "r1_pos2_ch0.tif (38, 2048, 2048)\n",
      "(38, 2048, 2048)\n",
      "r1_pos3_ch0.tif in the folder\n",
      "r1_pos4_ch0.tif in the folder\n",
      "r1_pos5_ch0.tif in the folder\n",
      "r1_pos6_ch0.tif in the folder\n",
      "r1_pos7_ch0.tif in the folder\n",
      "r1_pos8_ch0.tif in the folder\n",
      "r1_pos9_ch0.tif in the folder\n"
     ]
    },
    {
     "name": "stderr",
     "output_type": "stream",
     "text": [
      "\n",
      "  0%|                                                                                                                                                                                                            | 0/11 [00:00<?, ?it/s]"
     ]
    },
    {
     "name": "stdout",
     "output_type": "stream",
     "text": [
      "r1_pos0_ch0.tif in the folder\n",
      "r1_pos10_ch0.tif in the folder\n",
      "r1_pos1_ch0.tif in the folder\n",
      "r1_pos2_ch0.tif in the folder\n",
      "r1_pos3_ch0.tif in the folder\n",
      "r1_pos4_ch0.tif in the folder\n",
      "r1_pos5_ch0.tif in the folder\n",
      "r1_pos6_ch0.tif in the folder\n",
      "r1_pos6_ch0.tif\n",
      "r1_pos6_ch0.tif will be stitched\n",
      "r1_pos6_ch0.tif (38, 2048, 2048)\n",
      "(38, 2048, 2048)\n"
     ]
    },
    {
     "name": "stderr",
     "output_type": "stream",
     "text": [
      "\r",
      " 73%|██████████████████████████████████████████████████████████████████████████████████████████████████████████████████████████████████████████████▌                                                     | 8/11 [00:09<00:03,  1.16s/it]"
     ]
    },
    {
     "name": "stdout",
     "output_type": "stream",
     "text": [
      "r1_pos7_ch0.tif in the folder\n",
      "r1_pos7_ch0.tif\n",
      "r1_pos7_ch0.tif will be stitched\n",
      "r1_pos7_ch0.tif (38, 2048, 2048)\n",
      "(38, 2048, 2048)\n"
     ]
    },
    {
     "name": "stderr",
     "output_type": "stream",
     "text": [
      "\r",
      " 82%|████████████████████████████████████████████████████████████████████████████████████████████████████████████████████████████████████████████████████████████████▎                                   | 9/11 [00:18<00:04,  2.36s/it]"
     ]
    },
    {
     "name": "stdout",
     "output_type": "stream",
     "text": [
      "r1_pos8_ch0.tif in the folder\n",
      "r1_pos8_ch0.tif\n",
      "r1_pos8_ch0.tif will be stitched\n"
     ]
    },
    {
     "name": "stderr",
     "output_type": "stream",
     "text": [
      "100%|███████████████████████████████████████████████████████████████████████████████████████████████████████████████████████████████████████████████████████████████████████████████████████████████████| 11/11 [00:26<00:00,  2.42s/it]"
     ]
    },
    {
     "name": "stdout",
     "output_type": "stream",
     "text": [
      "r1_pos8_ch0.tif (38, 2048, 2048)\n",
      "(38, 2048, 2048)\n",
      "r1_pos9_ch0.tif in the folder\n"
     ]
    },
    {
     "name": "stderr",
     "output_type": "stream",
     "text": [
      "\n"
     ]
    }
   ],
   "source": [
    "image_shape=[38, 2048, 2048]\n",
    "nb_tiles_x=3\n",
    "nb_tiles_y=1\n",
    "for image_name in dict_stitch_img:\n",
    "    dict_stitch = dict_stitch_img[image_name]\n",
    "    final_masks = stich_from_dico_img(dict_stitch,\n",
    "                      path_mask = \"/media/tom/Transcend/autofish_test_stiching/r1\",\n",
    "                        regex = \"*_ch0*tif*\", ## regular expression for the images to stitch\n",
    "                        image_shape=image_shape,\n",
    "                            nb_tiles_x=nb_tiles_x,\n",
    "                            nb_tiles_y=nb_tiles_y,)\n",
    "    \n",
    "    np.save(Path(folder_of_rounds) / Path(\"/media/tom/Transcend/autofish_test_stiching/stitching_r1\") / image_name,\n",
    "            final_masks)\n"
   ]
  },
  {
   "cell_type": "code",
   "execution_count": 22,
   "metadata": {},
   "outputs": [
    {
     "data": {
      "text/plain": [
       "<matplotlib.image.AxesImage at 0x7f10640c9ca0>"
      ]
     },
     "execution_count": 22,
     "metadata": {},
     "output_type": "execute_result"
    },
    {
     "data": {
      "image/png": "[encoded data removed]",
      "text/plain": [
       "<Figure size 640x480 with 1 Axes>"
      ]
     },
     "metadata": {},
     "output_type": "display_data"
    }
   ],
   "source": [
    "from matplotlib import pyplot as plt\n",
    "from matplotlib import pyplot as plt\n",
    "from skimage.exposure import rescale_intensity\n",
    "\n",
    "\n",
    "input_img = np.amax(final_masks, 0)\n",
    "pa_ch1, pb_ch1 = np.percentile(input_img, (1, 99))\n",
    "input_img = rescale_intensity(input_img, in_range=(pa_ch1, pb_ch1), out_range=np.uint8)\n",
    "\n",
    "plt.imshow(input_img)\n"
   ]
  },
  {
   "cell_type": "code",
   "execution_count": null,
   "metadata": {},
   "outputs": [],
   "source": []
  },
  {
   "cell_type": "code",
   "execution_count": null,
   "metadata": {},
   "outputs": [],
   "source": []
  }
 ],
 "metadata": {
  "kernelspec": {
   "display_name": "bigfish38_samm",
   "language": "python",
   "name": "bigfish38_samm"
  },
  "language_info": {
   "codemirror_mode": {
    "name": "ipython",
    "version": 3
   },
   "file_extension": ".py",
   "mimetype": "text/x-python",
   "name": "python",
   "nbconvert_exporter": "python",
   "pygments_lexer": "ipython3",
   "version": "3.8.8"
  }
 },
 "nbformat": 4,
 "nbformat_minor": 5
}
