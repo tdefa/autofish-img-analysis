{
 "cells": [
  {
   "cell_type": "markdown",
   "id": "ab66db0a",
   "metadata": {},
   "source": [
    "# Spots assignement\n",
    "\n",
    "Optionaly if a cell or nucleus segmentation was applied to the data. Spots of the different round can  be assigned to a cell/nucleus. \n",
    "\n",
    "In hence in a final next step the output of Autofish can be format in a anndata compatible with the anndata/scverse environement \n",
    "\n",
    "\n",
    "https://spatialdata.scverse.org/\n",
    "\n",
    "\n"
   ]
  },
  {
   "cell_type": "code",
   "execution_count": 2,
   "id": "3fe89bcc",
   "metadata": {},
   "outputs": [
    {
     "name": "stdout",
     "output_type": "stream",
     "text": [
      "/home/tom/Bureau/phd/stich_seg_detect\n"
     ]
    }
   ],
   "source": [
    "module_path = '/home/tom/Bureau/phd/stich_seg_detect'\n",
    "%cd $module_path\n",
    "from registration import spots_assignement\n",
    "from pathlib import Path\n",
    "import numpy as np"
   ]
  },
  {
   "cell_type": "code",
   "execution_count": 3,
   "id": "2ea06058",
   "metadata": {},
   "outputs": [],
   "source": [
    "import importlib\n",
    "import  registration\n",
    "importlib.reload(registration)\n",
    "from registration import spots_assignement"
   ]
  },
  {
   "cell_type": "code",
   "execution_count": 4,
   "id": "ad4d20a7",
   "metadata": {},
   "outputs": [],
   "source": [
    "\n",
    "folder_of_rounds = \"/media/tom/Transcend/autofish/2023-07-04_AutoFISH-SABER/\"\n",
    "dict_spots_registered_df = np.load(Path(folder_of_rounds) / \"dict_spots_registered_df_r1.npy\",\n",
    "                                   allow_pickle = True).item()\n",
    "path_to_masks =Path(folder_of_rounds) / \"segmentation_mask\"\n",
    "######### if you stitched your image load the stiched mask\n",
    "#path_to_masks =Path(folder_of_rounds) / \"segmentation_mask_stitch\"\n",
    "files_mask_extension = \"*.tif*\""
   ]
  },
  {
   "cell_type": "code",
   "execution_count": 5,
   "id": "af2d7d95",
   "metadata": {},
   "outputs": [
    {
     "name": "stderr",
     "output_type": "stream",
     "text": [
      "\r",
      "  0%|          | 0/3 [00:00<?, ?it/s]"
     ]
    },
    {
     "name": "stdout",
     "output_type": "stream",
     "text": [
      "/media/tom/Transcend/autofish/2023-07-04_AutoFISH-SABER/segmentation_mask/r1_pos0_ch0.tif.tif\n"
     ]
    },
    {
     "name": "stderr",
     "output_type": "stream",
     "text": [
      "\r",
      " 33%|███▎      | 1/3 [00:19<00:38, 19.45s/it]"
     ]
    },
    {
     "name": "stdout",
     "output_type": "stream",
     "text": [
      "/media/tom/Transcend/autofish/2023-07-04_AutoFISH-SABER/segmentation_mask/r1_pos1_ch0.tif.tif\n"
     ]
    },
    {
     "name": "stderr",
     "output_type": "stream",
     "text": [
      "\r",
      " 67%|██████▋   | 2/3 [00:33<00:16, 16.32s/it]"
     ]
    },
    {
     "name": "stdout",
     "output_type": "stream",
     "text": [
      "/media/tom/Transcend/autofish/2023-07-04_AutoFISH-SABER/segmentation_mask/r1_pos2_ch0.tif.tif\n"
     ]
    },
    {
     "name": "stderr",
     "output_type": "stream",
     "text": [
      "100%|██████████| 3/3 [01:03<00:00, 21.27s/it]\n"
     ]
    }
   ],
   "source": [
    "dict_spots_registered_df = spots_assignement(dict_spots_registered_df,\n",
    "path_to_masks = path_to_masks,\n",
    "files_mask_extension = \"*.tif*\" ,\n",
    "in_place = False,)"
   ]
  },
  {
   "cell_type": "code",
   "execution_count": 7,
   "id": "b4912b55",
   "metadata": {},
   "outputs": [
    {
     "data": {
      "text/plain": [
       "dict_keys(['pos0', 'pos1', 'pos2'])"
      ]
     },
     "execution_count": 7,
     "metadata": {},
     "output_type": "execute_result"
    }
   ],
   "source": [
    "dict_spots_registered_df.keys()"
   ]
  },
  {
   "cell_type": "code",
   "execution_count": 8,
   "id": "0742ebcf",
   "metadata": {},
   "outputs": [],
   "source": [
    "\n",
    "np.save(Path(folder_of_rounds) / \"dict_spots_registered_df_r1_with_cell.npy\",\n",
    "                                   dict_spots_registered_df)"
   ]
  },
  {
   "cell_type": "code",
   "execution_count": null,
   "id": "89699aaa",
   "metadata": {},
   "outputs": [],
   "source": []
  }
 ],
 "metadata": {
  "kernelspec": {
   "display_name": "bigfish38_samm",
   "language": "python",
   "name": "bigfish38_samm"
  },
  "language_info": {
   "codemirror_mode": {
    "name": "ipython",
    "version": 3
   },
   "file_extension": ".py",
   "mimetype": "text/x-python",
   "name": "python",
   "nbconvert_exporter": "python",
   "pygments_lexer": "ipython3",
   "version": "3.8.8"
  }
 },
 "nbformat": 4,
 "nbformat_minor": 5
}
