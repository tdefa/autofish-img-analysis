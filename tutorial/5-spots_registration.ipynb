{
 "cells": [
  {
   "cell_type": "markdown",
   "id": "4b77d269",
   "metadata": {},
   "source": [
    "# Spot registration\n",
    "\n",
    "Now that we have the spots coordiantes for each round, we need to align them to the same round to be able to analyse the different round all together.\n",
    "\n",
    "We use the fonction **spots_registration** to perform this task."
   ]
  },
  {
   "cell_type": "code",
   "execution_count": 3,
   "id": "241f8bd4",
   "metadata": {},
   "outputs": [],
   "source": [
    "from pathlib import Path\n",
    "import numpy as np\n",
    "\n",
    "from autofish_analysis.registration import spots_registration\n"
   ]
  },
  {
   "cell_type": "code",
   "execution_count": 4,
   "id": "fb0babff",
   "metadata": {},
   "outputs": [],
   "source": [
    "## Path to the folder containing all the rounds\n",
    "folder_of_rounds = \"/media/tom/Transcend/autofish_test_stichingv1/\"\n",
    "\n",
    "### Load the previously computed dict translation and dict spots\n",
    "dict_spots = np.load(Path(folder_of_rounds) / \"dict_spots.npy\",\n",
    "                           allow_pickle=True).item()\n",
    "dict_translation = np.load \\\n",
    "    (Path(folder_of_rounds) / \"dict_translation_ref_r1.npy\",\n",
    "     allow_pickle=True).item()\n",
    "\n",
    "fixed_round_name=\"r1\" # reference round, All round  will be reference to this input\n",
    "scale_xy=0.103 #xy pixel size in um\n",
    "scale_z=0.270 #z pixel size i um"
   ]
  },
  {
   "cell_type": "code",
   "execution_count": 4,
   "id": "cbc8eb72",
   "metadata": {
    "scrolled": true
   },
   "outputs": [
    {
     "name": "stderr",
     "output_type": "stream",
     "text": [
      "  0%|                                                                                                                                                                                                                                                                                                                                                                                                                                                             | 0/2 [00:00<?, ?it/s]\n",
      "100%|█████████████████████████████████████████████████████████████████████████████████████████████████████████████████████████████████████████████████████████████████████████████████████████████████████████████████████████████████████████████████████████████████████████████████████████████████████████████████████████████████████████████████████████████████████████████████████████████████████████████████████████████████████████████████| 11/11 [00:00<00:00, 8741.44it/s]\u001b[A\n",
      "\n",
      "100%|█████████████████████████████████████████████████████████████████████████████████████████████████████████████████████████████████████████████████████████████████████████████████████████████████████████████████████████████████████████████████████████████████████████████████████████████████████████████████████████████████████████████████████████████████████████████████████████████████████████████████████████████████████████████████| 11/11 [00:00<00:00, 8794.77it/s]\u001b[A\n",
      "100%|████████████████████████████████████████████████████████████████████████████████████████████████████████████████████████████████████████████████████████████████████████████████████████████████████████████████████████████████████████████████████████████████████████████████████████████████████████████████████████████████████████████████████████████████████████████████████████████████████████████████████████████████████████████████████| 2/2 [00:00<00:00, 248.57it/s]\n"
     ]
    }
   ],
   "source": [
    "dict_spots_registered_df, dict_spots_registered, missing_data = spots_registration(\n",
    "                            dict_spots = dict_spots,\n",
    "                           dict_translation = dict_translation,\n",
    "                           fixed_round_name=fixed_round_name,\n",
    "                           threshold_merge_limit=0.330,\n",
    "                           scale_xy=0.103,\n",
    "                           scale_z=0.270,\n",
    "                           )\n",
    "np.save(Path(folder_of_rounds) / f'dict_spots_registered_df_{fixed_round_name}', \n",
    "        dict_spots_registered_df)\n",
    "np.save(Path(folder_of_rounds) / f'dict_spots_registered_{fixed_round_name}', \n",
    "        dict_spots_registered)"
   ]
  },
  {
   "cell_type": "markdown",
   "id": "8e8ba003",
   "metadata": {},
   "source": [
    "**spots_registration** returns a dictionary of dataframe. One dataframe for each position.\n",
    "The dataframes contain the aligned spot coordinates with the fixed round\n",
    "\n",
    "It returns also a dictionnary with the same information presented as\n",
    "\n",
    "dict_spots_registered[round][position] = registered spots array\n"
   ]
  },
  {
   "cell_type": "code",
   "execution_count": 6,
   "id": "5116cdf1",
   "metadata": {},
   "outputs": [
    {
     "data": {
      "text/html": [
       "<div>\n",
       "<style scoped>\n",
       "    .dataframe tbody tr th:only-of-type {\n",
       "        vertical-align: middle;\n",
       "    }\n",
       "\n",
       "    .dataframe tbody tr th {\n",
       "        vertical-align: top;\n",
       "    }\n",
       "\n",
       "    .dataframe thead th {\n",
       "        text-align: right;\n",
       "    }\n",
       "</style>\n",
       "<table border=\"1\" class=\"dataframe\">\n",
       "  <thead>\n",
       "    <tr style=\"text-align: right;\">\n",
       "      <th></th>\n",
       "      <th>x</th>\n",
       "      <th>y</th>\n",
       "      <th>z</th>\n",
       "      <th>round</th>\n",
       "    </tr>\n",
       "  </thead>\n",
       "  <tbody>\n",
       "    <tr>\n",
       "      <th>0</th>\n",
       "      <td>476.000000</td>\n",
       "      <td>28.000000</td>\n",
       "      <td>8.0</td>\n",
       "      <td>r1</td>\n",
       "    </tr>\n",
       "    <tr>\n",
       "      <th>1</th>\n",
       "      <td>1539.000000</td>\n",
       "      <td>76.000000</td>\n",
       "      <td>8.0</td>\n",
       "      <td>r1</td>\n",
       "    </tr>\n",
       "    <tr>\n",
       "      <th>2</th>\n",
       "      <td>1346.000000</td>\n",
       "      <td>88.000000</td>\n",
       "      <td>8.0</td>\n",
       "      <td>r1</td>\n",
       "    </tr>\n",
       "    <tr>\n",
       "      <th>3</th>\n",
       "      <td>497.000000</td>\n",
       "      <td>103.000000</td>\n",
       "      <td>8.0</td>\n",
       "      <td>r1</td>\n",
       "    </tr>\n",
       "    <tr>\n",
       "      <th>4</th>\n",
       "      <td>457.000000</td>\n",
       "      <td>109.000000</td>\n",
       "      <td>8.0</td>\n",
       "      <td>r1</td>\n",
       "    </tr>\n",
       "    <tr>\n",
       "      <th>...</th>\n",
       "      <td>...</td>\n",
       "      <td>...</td>\n",
       "      <td>...</td>\n",
       "      <td>...</td>\n",
       "    </tr>\n",
       "    <tr>\n",
       "      <th>6864</th>\n",
       "      <td>1597.833607</td>\n",
       "      <td>579.618102</td>\n",
       "      <td>37.0</td>\n",
       "      <td>r3</td>\n",
       "    </tr>\n",
       "    <tr>\n",
       "      <th>6865</th>\n",
       "      <td>1103.833607</td>\n",
       "      <td>1462.618102</td>\n",
       "      <td>37.0</td>\n",
       "      <td>r3</td>\n",
       "    </tr>\n",
       "    <tr>\n",
       "      <th>6866</th>\n",
       "      <td>1074.833607</td>\n",
       "      <td>1496.618102</td>\n",
       "      <td>37.0</td>\n",
       "      <td>r3</td>\n",
       "    </tr>\n",
       "    <tr>\n",
       "      <th>6867</th>\n",
       "      <td>158.833607</td>\n",
       "      <td>1642.618102</td>\n",
       "      <td>37.0</td>\n",
       "      <td>r3</td>\n",
       "    </tr>\n",
       "    <tr>\n",
       "      <th>6868</th>\n",
       "      <td>780.833607</td>\n",
       "      <td>1659.618102</td>\n",
       "      <td>37.0</td>\n",
       "      <td>r3</td>\n",
       "    </tr>\n",
       "  </tbody>\n",
       "</table>\n",
       "<p>6869 rows × 4 columns</p>\n",
       "</div>"
      ],
      "text/plain": [
       "                x            y     z round\n",
       "0      476.000000    28.000000   8.0    r1\n",
       "1     1539.000000    76.000000   8.0    r1\n",
       "2     1346.000000    88.000000   8.0    r1\n",
       "3      497.000000   103.000000   8.0    r1\n",
       "4      457.000000   109.000000   8.0    r1\n",
       "...           ...          ...   ...   ...\n",
       "6864  1597.833607   579.618102  37.0    r3\n",
       "6865  1103.833607  1462.618102  37.0    r3\n",
       "6866  1074.833607  1496.618102  37.0    r3\n",
       "6867   158.833607  1642.618102  37.0    r3\n",
       "6868   780.833607  1659.618102  37.0    r3\n",
       "\n",
       "[6869 rows x 4 columns]"
      ]
     },
     "execution_count": 6,
     "metadata": {},
     "output_type": "execute_result"
    }
   ],
   "source": [
    "dict_spots_registered_df = np.load(Path(folder_of_rounds) / f'dict_spots_registered_df_{fixed_round_name}.npy', \n",
    "        allow_pickle = True).item()\n",
    "dict_spots_registered_df['pos0']"
   ]
  },
  {
   "cell_type": "code",
   "execution_count": null,
   "id": "d8e08884",
   "metadata": {},
   "outputs": [],
   "source": []
  }
 ],
 "metadata": {
  "kernelspec": {
   "display_name": "bigfish38_samm",
   "language": "python",
   "name": "bigfish38_samm"
  },
  "language_info": {
   "codemirror_mode": {
    "name": "ipython",
    "version": 3
   },
   "file_extension": ".py",
   "mimetype": "text/x-python",
   "name": "python",
   "nbconvert_exporter": "python",
   "pygments_lexer": "ipython3",
   "version": "3.8.8"
  }
 },
 "nbformat": 4,
 "nbformat_minor": 5
}
