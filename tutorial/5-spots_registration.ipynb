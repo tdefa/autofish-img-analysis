{
 "cells": [
  {
   "cell_type": "markdown",
   "metadata": {},
   "source": [
    "# Spot registration\n",
    "\n",
    "Now that we have the spots coordiantes for each round, we need to align them to the same round to be able to analyse the different round together.\n",
    "\n",
    "Use the fonction **spots_registration** to perform this task.\\ \n",
    "\n",
    "The image registration rely on the ITK Library : https://simpleitk.org/\n"
   ]
  },
  {
   "cell_type": "code",
   "execution_count": 1,
   "metadata": {},
   "outputs": [
    {
     "name": "stdout",
     "output_type": "stream",
     "text": [
      "/home/tom/Bureau/phd/autofish_pckg/autofish\n"
     ]
    }
   ],
   "source": [
    "module_path = '/home/tom/Bureau/phd/autofish_pckg/autofish'\n",
    "%cd $module_path\n",
    "from segmentation import segment_nuclei\n",
    "from cellpose import models\n",
    "from pathlib import Path\n",
    "import numpy as np\n",
    "\n",
    "import importlib\n",
    "import  registration\n",
    "importlib.reload(registration)\n",
    "from registration import spots_registration"
   ]
  },
  {
   "cell_type": "code",
   "execution_count": 2,
   "metadata": {},
   "outputs": [],
   "source": [
    "\n",
    "folder_of_rounds = \"/media/tom/Transcend/autofish/2023-07-04_AutoFISH-SABER/\"\n",
    "\n",
    "\n",
    "\n",
    "### Load the previously computed dict translation and dict spots\n",
    "dict_spots = np.load(Path(folder_of_rounds) / \"dict_spots.npy\",\n",
    "                           allow_pickle=True).item()\n",
    "dict_translation = np.load \\\n",
    "    (Path(folder_of_rounds) / \"dict_translation_ref_r1.npy\",\n",
    "     allow_pickle=True).item()\n",
    "\n",
    "\n",
    "fixed_round_name=\"r2\" # reference round, All round  will be reference to this input\n",
    "scale_xy=0.103 #xy pixel size in um\n",
    "scale_z=0.270 #z pixel size i um\n",
    "\n",
    "\n"
   ]
  },
  {
   "cell_type": "code",
   "execution_count": 3,
   "metadata": {
    "scrolled": true
   },
   "outputs": [
    {
     "name": "stderr",
     "output_type": "stream",
     "text": [
      "  0%|          | 0/11 [00:00<?, ?it/s]\n",
      "100%|██████████| 3/3 [00:00<00:00, 449.89it/s]\n",
      "\n",
      "100%|██████████| 3/3 [00:00<00:00, 4735.76it/s]\n",
      "\n",
      "100%|██████████| 3/3 [00:00<00:00, 5029.14it/s]\n",
      "\n",
      "100%|██████████| 3/3 [00:00<00:00, 6557.02it/s]\n",
      "\n",
      "100%|██████████| 3/3 [00:00<00:00, 4013.69it/s]\n",
      "\n",
      "100%|██████████| 3/3 [00:00<00:00, 2912.71it/s]\n",
      "\n",
      "100%|██████████| 3/3 [00:00<00:00, 3943.25it/s]\n",
      "\n",
      "100%|██████████| 3/3 [00:00<00:00, 2030.48it/s]\n",
      "\n",
      "100%|██████████| 3/3 [00:00<00:00, 3859.79it/s]\n",
      "\n",
      "100%|██████████| 3/3 [00:00<00:00, 4522.97it/s]\n",
      "\n",
      "100%|██████████| 3/3 [00:00<00:00, 3824.59it/s]\n",
      "100%|██████████| 11/11 [00:00<00:00, 278.68it/s]\n"
     ]
    }
   ],
   "source": [
    "dict_spots_registered_df, dict_spots_registered, missing_data = spots_registration(\n",
    "                            dict_spots = dict_spots,\n",
    "                           dict_translation = dict_translation,\n",
    "                           fixed_round_name=fixed_round_name,\n",
    "                           threshold_merge_limit=0.330,\n",
    "                           scale_xy=0.103,\n",
    "                           scale_z=0.270,\n",
    "                           )"
   ]
  },
  {
   "cell_type": "markdown",
   "metadata": {},
   "source": [
    "**spots_registration** return a dictionary of dataframe. One dataframe for each position containg the aligned spots\n",
    "coordinate with the fixed round\\\n",
    "\n",
    "It returns also a dictionnary with the same information presented as\n",
    "\n",
    "dict_spots_registered[round][position] = registered spots array\n"
   ]
  },
  {
   "cell_type": "code",
   "execution_count": 9,
   "metadata": {},
   "outputs": [
    {
     "data": {
      "text/html": [
       "<div>\n",
       "<style scoped>\n",
       "    .dataframe tbody tr th:only-of-type {\n",
       "        vertical-align: middle;\n",
       "    }\n",
       "\n",
       "    .dataframe tbody tr th {\n",
       "        vertical-align: top;\n",
       "    }\n",
       "\n",
       "    .dataframe thead th {\n",
       "        text-align: right;\n",
       "    }\n",
       "</style>\n",
       "<table border=\"1\" class=\"dataframe\">\n",
       "  <thead>\n",
       "    <tr style=\"text-align: right;\">\n",
       "      <th></th>\n",
       "      <th>x</th>\n",
       "      <th>y</th>\n",
       "      <th>z</th>\n",
       "      <th>round</th>\n",
       "    </tr>\n",
       "  </thead>\n",
       "  <tbody>\n",
       "    <tr>\n",
       "      <th>0</th>\n",
       "      <td>41.524666</td>\n",
       "      <td>-4.366409</td>\n",
       "      <td>0.0</td>\n",
       "      <td>r0</td>\n",
       "    </tr>\n",
       "    <tr>\n",
       "      <th>1</th>\n",
       "      <td>85.524666</td>\n",
       "      <td>-4.366409</td>\n",
       "      <td>0.0</td>\n",
       "      <td>r0</td>\n",
       "    </tr>\n",
       "    <tr>\n",
       "      <th>2</th>\n",
       "      <td>127.524666</td>\n",
       "      <td>-4.366409</td>\n",
       "      <td>0.0</td>\n",
       "      <td>r0</td>\n",
       "    </tr>\n",
       "    <tr>\n",
       "      <th>3</th>\n",
       "      <td>185.524666</td>\n",
       "      <td>-4.366409</td>\n",
       "      <td>0.0</td>\n",
       "      <td>r0</td>\n",
       "    </tr>\n",
       "    <tr>\n",
       "      <th>4</th>\n",
       "      <td>220.524666</td>\n",
       "      <td>-4.366409</td>\n",
       "      <td>0.0</td>\n",
       "      <td>r0</td>\n",
       "    </tr>\n",
       "    <tr>\n",
       "      <th>...</th>\n",
       "      <td>...</td>\n",
       "      <td>...</td>\n",
       "      <td>...</td>\n",
       "      <td>...</td>\n",
       "    </tr>\n",
       "    <tr>\n",
       "      <th>127140</th>\n",
       "      <td>1615.070429</td>\n",
       "      <td>1591.722399</td>\n",
       "      <td>31.0</td>\n",
       "      <td>r9</td>\n",
       "    </tr>\n",
       "    <tr>\n",
       "      <th>127141</th>\n",
       "      <td>1581.070429</td>\n",
       "      <td>1614.722399</td>\n",
       "      <td>31.0</td>\n",
       "      <td>r9</td>\n",
       "    </tr>\n",
       "    <tr>\n",
       "      <th>127142</th>\n",
       "      <td>1526.070429</td>\n",
       "      <td>1629.722399</td>\n",
       "      <td>31.0</td>\n",
       "      <td>r9</td>\n",
       "    </tr>\n",
       "    <tr>\n",
       "      <th>127143</th>\n",
       "      <td>1525.070429</td>\n",
       "      <td>1639.722399</td>\n",
       "      <td>31.0</td>\n",
       "      <td>r9</td>\n",
       "    </tr>\n",
       "    <tr>\n",
       "      <th>127144</th>\n",
       "      <td>1537.070429</td>\n",
       "      <td>1648.722399</td>\n",
       "      <td>31.0</td>\n",
       "      <td>r9</td>\n",
       "    </tr>\n",
       "  </tbody>\n",
       "</table>\n",
       "<p>127145 rows × 4 columns</p>\n",
       "</div>"
      ],
      "text/plain": [
       "                  x            y     z round\n",
       "0         41.524666    -4.366409   0.0    r0\n",
       "1         85.524666    -4.366409   0.0    r0\n",
       "2        127.524666    -4.366409   0.0    r0\n",
       "3        185.524666    -4.366409   0.0    r0\n",
       "4        220.524666    -4.366409   0.0    r0\n",
       "...             ...          ...   ...   ...\n",
       "127140  1615.070429  1591.722399  31.0    r9\n",
       "127141  1581.070429  1614.722399  31.0    r9\n",
       "127142  1526.070429  1629.722399  31.0    r9\n",
       "127143  1525.070429  1639.722399  31.0    r9\n",
       "127144  1537.070429  1648.722399  31.0    r9\n",
       "\n",
       "[127145 rows x 4 columns]"
      ]
     },
     "execution_count": 9,
     "metadata": {},
     "output_type": "execute_result"
    }
   ],
   "source": [
    "dict_spots_registered_df['pos0']"
   ]
  },
  {
   "cell_type": "code",
   "execution_count": 6,
   "metadata": {},
   "outputs": [],
   "source": [
    "np.save(Path(folder_of_rounds) / f'dict_spots_registered_df_{fixed_round_name}', \n",
    "        dict_spots_registered_df)"
   ]
  },
  {
   "cell_type": "code",
   "execution_count": 7,
   "metadata": {},
   "outputs": [],
   "source": [
    "np.save(Path(folder_of_rounds) / 'dict_spots_registered_{fixed_round_name}, \n",
    "        dict_spots_registered)"
   ]
  },
  {
   "cell_type": "code",
   "execution_count": null,
   "metadata": {},
   "outputs": [],
   "source": []
  },
  {
   "cell_type": "code",
   "execution_count": 10,
   "metadata": {},
   "outputs": [
    {
     "data": {
      "text/plain": [
       "1"
      ]
     },
     "execution_count": 10,
     "metadata": {},
     "output_type": "execute_result"
    }
   ],
   "source": [
    "1"
   ]
  },
  {
   "cell_type": "code",
   "execution_count": null,
   "metadata": {},
   "outputs": [],
   "source": []
  }
 ],
 "metadata": {
  "kernelspec": {
   "display_name": "bigfish38_samm",
   "language": "python",
   "name": "bigfish38_samm"
  },
  "language_info": {
   "codemirror_mode": {
    "name": "ipython",
    "version": 3
   },
   "file_extension": ".py",
   "mimetype": "text/x-python",
   "name": "python",
   "nbconvert_exporter": "python",
   "pygments_lexer": "ipython3",
   "version": "3.8.8"
  }
 },
 "nbformat": 4,
 "nbformat_minor": 5
}
