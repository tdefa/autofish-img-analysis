{
 "cells": [
  {
   "cell_type": "markdown",
   "id": "33339ff6",
   "metadata": {},
   "source": [
    "# Compatibility with scverse\n",
    "\n",
    "If cell segmentation was performed, it is possible to generate a cell by gene matrix. We use the anndata format to be compatible with the [scverse](https://spatialdata.scverse.org/en/latest/) envrironemment \n",
    "\n",
    "The cell segmentation of each cell is saved as GeoJSON\n",
    "https://shapely.readthedocs.io/en/stable/reference/shapely.to_geojson.html\n",
    "\n"
   ]
  },
  {
   "cell_type": "code",
   "execution_count": 21,
   "id": "1272b775",
   "metadata": {},
   "outputs": [],
   "source": [
    "from pathlib import Path\n",
    "import numpy as np\n",
    "import anndata as ad"
   ]
  },
  {
   "cell_type": "code",
   "execution_count": 22,
   "id": "b7968e07",
   "metadata": {},
   "outputs": [],
   "source": [
    "import importlib\n",
    "import  autofish_analysis.utils.post_processing_anndata\n",
    "importlib.reload( autofish_analysis.utils.post_processing_anndata)\n",
    "from  autofish_analysis.utils.post_processing_anndata import get_anndata"
   ]
  },
  {
   "cell_type": "code",
   "execution_count": 23,
   "id": "36d502e5",
   "metadata": {},
   "outputs": [
    {
     "data": {
      "text/html": [
       "<div>\n",
       "<style scoped>\n",
       "    .dataframe tbody tr th:only-of-type {\n",
       "        vertical-align: middle;\n",
       "    }\n",
       "\n",
       "    .dataframe tbody tr th {\n",
       "        vertical-align: top;\n",
       "    }\n",
       "\n",
       "    .dataframe thead th {\n",
       "        text-align: right;\n",
       "    }\n",
       "</style>\n",
       "<table border=\"1\" class=\"dataframe\">\n",
       "  <thead>\n",
       "    <tr style=\"text-align: right;\">\n",
       "      <th></th>\n",
       "      <th>x</th>\n",
       "      <th>y</th>\n",
       "      <th>z</th>\n",
       "      <th>round_name</th>\n",
       "      <th>gene</th>\n",
       "      <th>cell_assignment</th>\n",
       "      <th>image_position</th>\n",
       "    </tr>\n",
       "  </thead>\n",
       "  <tbody>\n",
       "    <tr>\n",
       "      <th>0</th>\n",
       "      <td>1720.000000</td>\n",
       "      <td>1122.000000</td>\n",
       "      <td>6.0</td>\n",
       "      <td>r1</td>\n",
       "      <td>gene1</td>\n",
       "      <td>133</td>\n",
       "      <td>pos2</td>\n",
       "    </tr>\n",
       "    <tr>\n",
       "      <th>1</th>\n",
       "      <td>304.000000</td>\n",
       "      <td>7.000000</td>\n",
       "      <td>8.0</td>\n",
       "      <td>r1</td>\n",
       "      <td>gene1</td>\n",
       "      <td>133</td>\n",
       "      <td>pos2</td>\n",
       "    </tr>\n",
       "    <tr>\n",
       "      <th>2</th>\n",
       "      <td>714.000000</td>\n",
       "      <td>10.000000</td>\n",
       "      <td>8.0</td>\n",
       "      <td>r1</td>\n",
       "      <td>gene1</td>\n",
       "      <td>137</td>\n",
       "      <td>pos2</td>\n",
       "    </tr>\n",
       "    <tr>\n",
       "      <th>3</th>\n",
       "      <td>792.000000</td>\n",
       "      <td>15.000000</td>\n",
       "      <td>8.0</td>\n",
       "      <td>r1</td>\n",
       "      <td>gene1</td>\n",
       "      <td>137</td>\n",
       "      <td>pos2</td>\n",
       "    </tr>\n",
       "    <tr>\n",
       "      <th>4</th>\n",
       "      <td>2047.000000</td>\n",
       "      <td>17.000000</td>\n",
       "      <td>8.0</td>\n",
       "      <td>r1</td>\n",
       "      <td>gene1</td>\n",
       "      <td>38</td>\n",
       "      <td>pos2</td>\n",
       "    </tr>\n",
       "    <tr>\n",
       "      <th>...</th>\n",
       "      <td>...</td>\n",
       "      <td>...</td>\n",
       "      <td>...</td>\n",
       "      <td>...</td>\n",
       "      <td>...</td>\n",
       "      <td>...</td>\n",
       "      <td>...</td>\n",
       "    </tr>\n",
       "    <tr>\n",
       "      <th>22032</th>\n",
       "      <td>4589.833607</td>\n",
       "      <td>262.618102</td>\n",
       "      <td>37.0</td>\n",
       "      <td>r3</td>\n",
       "      <td>gene2</td>\n",
       "      <td>35</td>\n",
       "      <td>pos0</td>\n",
       "    </tr>\n",
       "    <tr>\n",
       "      <th>22033</th>\n",
       "      <td>5305.833607</td>\n",
       "      <td>713.618102</td>\n",
       "      <td>37.0</td>\n",
       "      <td>r3</td>\n",
       "      <td>gene2</td>\n",
       "      <td>37</td>\n",
       "      <td>pos0</td>\n",
       "    </tr>\n",
       "    <tr>\n",
       "      <th>22034</th>\n",
       "      <td>4811.833607</td>\n",
       "      <td>1596.618102</td>\n",
       "      <td>37.0</td>\n",
       "      <td>r3</td>\n",
       "      <td>gene2</td>\n",
       "      <td>16</td>\n",
       "      <td>pos0</td>\n",
       "    </tr>\n",
       "    <tr>\n",
       "      <th>22035</th>\n",
       "      <td>4782.833607</td>\n",
       "      <td>1630.618102</td>\n",
       "      <td>37.0</td>\n",
       "      <td>r3</td>\n",
       "      <td>gene2</td>\n",
       "      <td>16</td>\n",
       "      <td>pos0</td>\n",
       "    </tr>\n",
       "    <tr>\n",
       "      <th>22036</th>\n",
       "      <td>4488.833607</td>\n",
       "      <td>1793.618102</td>\n",
       "      <td>37.0</td>\n",
       "      <td>r3</td>\n",
       "      <td>gene2</td>\n",
       "      <td>19</td>\n",
       "      <td>pos0</td>\n",
       "    </tr>\n",
       "  </tbody>\n",
       "</table>\n",
       "<p>22037 rows × 7 columns</p>\n",
       "</div>"
      ],
      "text/plain": [
       "                 x            y     z round_name   gene  cell_assignment  \\\n",
       "0      1720.000000  1122.000000   6.0         r1  gene1              133   \n",
       "1       304.000000     7.000000   8.0         r1  gene1              133   \n",
       "2       714.000000    10.000000   8.0         r1  gene1              137   \n",
       "3       792.000000    15.000000   8.0         r1  gene1              137   \n",
       "4      2047.000000    17.000000   8.0         r1  gene1               38   \n",
       "...            ...          ...   ...        ...    ...              ...   \n",
       "22032  4589.833607   262.618102  37.0         r3  gene2               35   \n",
       "22033  5305.833607   713.618102  37.0         r3  gene2               37   \n",
       "22034  4811.833607  1596.618102  37.0         r3  gene2               16   \n",
       "22035  4782.833607  1630.618102  37.0         r3  gene2               16   \n",
       "22036  4488.833607  1793.618102  37.0         r3  gene2               19   \n",
       "\n",
       "      image_position  \n",
       "0               pos2  \n",
       "1               pos2  \n",
       "2               pos2  \n",
       "3               pos2  \n",
       "4               pos2  \n",
       "...              ...  \n",
       "22032           pos0  \n",
       "22033           pos0  \n",
       "22034           pos0  \n",
       "22035           pos0  \n",
       "22036           pos0  \n",
       "\n",
       "[22037 rows x 7 columns]"
      ]
     },
     "execution_count": 23,
     "metadata": {},
     "output_type": "execute_result"
    }
   ],
   "source": [
    "\n",
    "folder_of_rounds = \"/media/tom/Transcend/autofish_test_stiching/\"\n",
    "\n",
    "\n",
    "## define the correspondance between round and RNA species\n",
    "dict_round_gene={\n",
    "        'r1': \"gene1\",\n",
    "        'r3': \"gene2\",\n",
    "        }\n",
    "\n",
    "# Load the previously stitched point cloud \n",
    "dico_spots_registered_df = np.load(Path(folder_of_rounds) /   \"dico_spots_registered_stitch_df.npy\",\n",
    "                                   allow_pickle=True).item()\n",
    "\n",
    "\n",
    "\n",
    "cell_column_name = \"cell_assignment\"\n",
    "round_column_name = \"round_name\"\n",
    "\n",
    "\n",
    "add_mask_polygone_cell =True\n",
    "\n",
    "dico_spots_registered_df['img0']\n",
    "\n"
   ]
  },
  {
   "cell_type": "code",
   "execution_count": 24,
   "id": "937696bd",
   "metadata": {},
   "outputs": [
    {
     "data": {
      "application/vnd.jupyter.widget-view+json": {
       "model_id": "e51c41228db442f4af734026d5ad6cdd",
       "version_major": 2,
       "version_minor": 0
      },
      "text/plain": [
       "  0%|          | 0/2 [00:00<?, ?it/s]"
      ]
     },
     "metadata": {},
     "output_type": "display_data"
    },
    {
     "name": "stdout",
     "output_type": "stream",
     "text": [
      "img img0\n"
     ]
    },
    {
     "data": {
      "application/vnd.jupyter.widget-view+json": {
       "model_id": "056fde042dcc4f53aa0f37b6583da22d",
       "version_major": 2,
       "version_minor": 0
      },
      "text/plain": [
       "  0%|          | 0/42 [00:00<?, ?it/s]"
      ]
     },
     "metadata": {},
     "output_type": "display_data"
    },
    {
     "name": "stdout",
     "output_type": "stream",
     "text": [
      "img img1\n"
     ]
    },
    {
     "data": {
      "application/vnd.jupyter.widget-view+json": {
       "model_id": "ef2ca3ed75f8434fa170fecd1d1ef437",
       "version_major": 2,
       "version_minor": 0
      },
      "text/plain": [
       "  0%|          | 0/42 [00:00<?, ?it/s]"
      ]
     },
     "metadata": {},
     "output_type": "display_data"
    },
    {
     "name": "stderr",
     "output_type": "stream",
     "text": [
      "/home/tom/anaconda3/lib/python3.8/site-packages/anndata/_core/anndata.py:121: ImplicitModificationWarning: Transforming to str index.\n",
      "  warnings.warn(\"Transforming to str index.\", ImplicitModificationWarning)\n"
     ]
    }
   ],
   "source": [
    "anndata = get_anndata(dico_gene = dict_round_gene,\n",
    "                dico_spots_registered_df = dico_spots_registered_df,\n",
    "                cell_column_name =cell_column_name,\n",
    "                add_mask_polygone_cell = add_mask_polygone_cell,\n",
    "                path_to_mask_cell = folder_of_rounds + \"/segmentation_mask_stitch\",\n",
    ")"
   ]
  },
  {
   "cell_type": "code",
   "execution_count": 25,
   "id": "9e34b2bf",
   "metadata": {},
   "outputs": [
    {
     "data": {
      "text/plain": [
       "AnnData object with n_obs × n_vars = 244 × 2\n",
       "    obs: 'batch', 'position', 'cell_id_mask', 'cell_polygons'\n",
       "    uns: 'points'"
      ]
     },
     "execution_count": 25,
     "metadata": {},
     "output_type": "execute_result"
    }
   ],
   "source": [
    "anndata"
   ]
  },
  {
   "cell_type": "code",
   "execution_count": 26,
   "id": "833e27bd",
   "metadata": {},
   "outputs": [],
   "source": [
    "anndata.write_h5ad(folder_of_rounds + f\"/anndata.h5ad\")"
   ]
  }
 ],
 "metadata": {
  "kernelspec": {
   "display_name": "bigfish38_samm",
   "language": "python",
   "name": "bigfish38_samm"
  },
  "language_info": {
   "codemirror_mode": {
    "name": "ipython",
    "version": 3
   },
   "file_extension": ".py",
   "mimetype": "text/x-python",
   "name": "python",
   "nbconvert_exporter": "python",
   "pygments_lexer": "ipython3",
   "version": "3.8.8"
  }
 },
 "nbformat": 4,
 "nbformat_minor": 5
}
