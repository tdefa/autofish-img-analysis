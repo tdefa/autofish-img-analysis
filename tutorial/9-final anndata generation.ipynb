{
 "cells": [
  {
   "cell_type": "code",
   "execution_count": null,
   "id": "c56ebe5a",
   "metadata": {},
   "outputs": [],
   "source": []
  },
  {
   "cell_type": "code",
   "execution_count": 7,
   "id": "93b171f2",
   "metadata": {},
   "outputs": [
    {
     "name": "stdout",
     "output_type": "stream",
     "text": [
      "Collecting pandas==1.4.0\n",
      "  Using cached pandas-1.4.0-cp38-cp38-manylinux_2_17_x86_64.manylinux2014_x86_64.whl (11.7 MB)\n",
      "Requirement already satisfied: python-dateutil>=2.8.1 in /home/tom/anaconda3/envs/bigfish38_samm/lib/python3.8/site-packages (from pandas==1.4.0) (2.8.2)\n",
      "Requirement already satisfied: numpy>=1.18.5 in /home/tom/anaconda3/envs/bigfish38_samm/lib/python3.8/site-packages (from pandas==1.4.0) (1.22.4)\n",
      "Requirement already satisfied: pytz>=2020.1 in /home/tom/anaconda3/envs/bigfish38_samm/lib/python3.8/site-packages (from pandas==1.4.0) (2021.3)\n",
      "Requirement already satisfied: six>=1.5 in /home/tom/anaconda3/envs/bigfish38_samm/lib/python3.8/site-packages (from python-dateutil>=2.8.1->pandas==1.4.0) (1.16.0)\n",
      "Installing collected packages: pandas\n",
      "  Attempting uninstall: pandas\n",
      "    Found existing installation: pandas 1.2.5\n",
      "    Uninstalling pandas-1.2.5:\n",
      "      Successfully uninstalled pandas-1.2.5\n",
      "\u001b[31mERROR: pip's dependency resolver does not currently take into account all the packages that are installed. This behaviour is the source of the following dependency conflicts.\n",
      "bento-tools 1.0.1 requires pandas<=1.2.5, but you have pandas 1.4.0 which is incompatible.\u001b[0m\n",
      "Successfully installed pandas-1.4.0\n"
     ]
    }
   ],
   "source": [
    "!pip install pandas==1.4.0"
   ]
  },
  {
   "cell_type": "code",
   "execution_count": 1,
   "id": "f755039e",
   "metadata": {},
   "outputs": [
    {
     "name": "stdout",
     "output_type": "stream",
     "text": [
      "/home/tom/Bureau/phd/stich_seg_detect\n"
     ]
    }
   ],
   "source": [
    "module_path = '/home/tom/Bureau/phd/stich_seg_detect'\n",
    "%cd $module_path\n",
    "\n",
    "from pathlib import Path\n",
    "import numpy as np"
   ]
  },
  {
   "cell_type": "code",
   "execution_count": 11,
   "id": "5c6b74b2",
   "metadata": {},
   "outputs": [],
   "source": [
    "import importlib\n",
    "import  utils.post_processing_anndata\n",
    "importlib.reload( utils.post_processing_anndata)\n",
    "from  utils.post_processing_anndata import get_anndata"
   ]
  },
  {
   "cell_type": "code",
   "execution_count": 12,
   "id": "5bd5f29d",
   "metadata": {},
   "outputs": [],
   "source": [
    "\n",
    "\n",
    "### Load the reviously computed dico translation and dico spots\n",
    "\n",
    "dico_round_gene = {\"r1\": \"gene1\", \n",
    "             \"r2\": \"gene2\",\n",
    "             \"r3\": \"gene3\",\n",
    "              \"r5\": \"gene5\"}\n",
    "\n",
    "dico_spots_registered_df = np.load(\"/media/tom/Transcend/autofish_test/18jully_dico_spots_registered_df_r1.npy\",\n",
    "\n",
    "                                   allow_pickle=True).item()\n",
    "cell_column_name = \"cell_assignment\"\n"
   ]
  },
  {
   "cell_type": "code",
   "execution_count": 13,
   "id": "92d2364a",
   "metadata": {},
   "outputs": [
    {
     "name": "stderr",
     "output_type": "stream",
     "text": [
      "100%|██████████| 3/3 [00:00<00:00, 23.83it/s]\n",
      "/home/tom/anaconda3/envs/bigfish38_samm/lib/python3.8/site-packages/anndata/_core/anndata.py:120: ImplicitModificationWarning: Transforming to str index.\n",
      "  warnings.warn(\"Transforming to str index.\", ImplicitModificationWarning)\n"
     ]
    }
   ],
   "source": [
    "anndata = get_anndata(dico_round_gene,\n",
    "                dico_spots_registered_df,\n",
    "                cell_column_name = \"cell_assignment\",)"
   ]
  },
  {
   "cell_type": "code",
   "execution_count": 14,
   "id": "189134fe",
   "metadata": {},
   "outputs": [
    {
     "name": "stderr",
     "output_type": "stream",
     "text": [
      "/home/tom/anaconda3/envs/bigfish38_samm/lib/python3.8/site-packages/anndata/_core/anndata.py:1228: FutureWarning: The `inplace` parameter in pandas.Categorical.reorder_categories is deprecated and will be removed in a future version. Reordering categories will always return a new Categorical object.\n",
      "  c.reorder_categories(natsorted(c.categories), inplace=True)\n",
      "... storing 'position' as categorical\n"
     ]
    }
   ],
   "source": [
    "anndata.write_h5ad(f\"/media/tom/Transcend/autofish_test/18jully_anndata.h5ad\")"
   ]
  },
  {
   "cell_type": "code",
   "execution_count": null,
   "id": "6c842ccf",
   "metadata": {},
   "outputs": [],
   "source": []
  }
 ],
 "metadata": {
  "kernelspec": {
   "display_name": "bigfish38_samm",
   "language": "python",
   "name": "bigfish38_samm"
  },
  "language_info": {
   "codemirror_mode": {
    "name": "ipython",
    "version": 3
   },
   "file_extension": ".py",
   "mimetype": "text/x-python",
   "name": "python",
   "nbconvert_exporter": "python",
   "pygments_lexer": "ipython3",
   "version": "3.8.8"
  }
 },
 "nbformat": 4,
 "nbformat_minor": 5
}
