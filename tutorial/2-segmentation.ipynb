{
 "cells": [
  {
   "cell_type": "code",
   "execution_count": 1,
   "id": "dabca0d5",
   "metadata": {},
   "outputs": [],
   "source": [
    "import sys\n",
    "# caution: path[0] is reserved for script path (or '' in REPL)\n",
    "sys.path.insert(1, '/home/tom/Bureau/phd/autofish_pckg/autofish')"
   ]
  },
  {
   "cell_type": "code",
   "execution_count": 4,
   "id": "7dd9edae",
   "metadata": {},
   "outputs": [
    {
     "ename": "ModuleNotFoundError",
     "evalue": "No module named 'anndata'",
     "output_type": "error",
     "traceback": [
      "\u001b[0;31m---------------------------------------------------------------------------\u001b[0m",
      "\u001b[0;31mModuleNotFoundError\u001b[0m                       Traceback (most recent call last)",
      "\u001b[0;32m<ipython-input-4-e912962f79bf>\u001b[0m in \u001b[0;36m<module>\u001b[0;34m\u001b[0m\n\u001b[0;32m----> 1\u001b[0;31m \u001b[0;32mimport\u001b[0m \u001b[0manndata\u001b[0m\u001b[0;34m\u001b[0m\u001b[0;34m\u001b[0m\u001b[0m\n\u001b[0m",
      "\u001b[0;31mModuleNotFoundError\u001b[0m: No module named 'anndata'"
     ]
    }
   ],
   "source": [
    "import anndata"
   ]
  },
  {
   "cell_type": "markdown",
   "id": "a6ef76da",
   "metadata": {},
   "source": [
    "# Segmentation\n",
    "\n",
    "Optionally, we can perform segmentation on DAPI or an other staining \n",
    "As round will be registrered in the next steps, segmentation needs to be apply one only one round.\n",
    "\n",
    "Use use a wraping function applying Cellpose on all the position of a round\n",
    "\n",
    "\n",
    "Chose a reference round to apply segmentation. This round will be also the reference when performing registration."
   ]
  },
  {
   "cell_type": "code",
   "execution_count": null,
   "id": "62221508",
   "metadata": {},
   "outputs": [],
   "source": []
  },
  {
   "cell_type": "code",
   "execution_count": 5,
   "id": "85a3226e",
   "metadata": {},
   "outputs": [
    {
     "name": "stdout",
     "output_type": "stream",
     "text": [
      "/media/tom/Transcend/autofish_test_stiching\n"
     ]
    }
   ],
   "source": [
    "module_path = \"/media/tom/Transcend/autofish_test_stiching\"\n",
    "%cd $module_path\n",
    "from autofish.segmentation import segment_nuclei\n",
    "from cellpose import models\n",
    "from pathlib import Path\n"
   ]
  },
  {
   "cell_type": "code",
   "execution_count": 6,
   "id": "5c9e8303",
   "metadata": {},
   "outputs": [
    {
     "data": {
      "text/plain": [
       "<module 'autofish.segmentation' from '/home/tom/Bureau/phd/autofish_pckg/autofish/segmentation.py'>"
      ]
     },
     "execution_count": 6,
     "metadata": {},
     "output_type": "execute_result"
    }
   ],
   "source": [
    "import importlib\n",
    "from autofish import  segmentation\n",
    "importlib.reload( segmentation)"
   ]
  },
  {
   "cell_type": "code",
   "execution_count": 5,
   "id": "1b9b575a",
   "metadata": {},
   "outputs": [],
   "source": [
    "path_to_mask = \"/media/tom/Transcend/autofish_test/r2/segmentation_mask\"\n",
    "path_to_staining = \"/media/tom/Transcend/autofish_test/r2/\"\n",
    "model_type = \"cyto\" ## chose between nuclei and cyto\n",
    "regex_staining = 'ch0*ti'\n",
    "gpu=True"
   ]
  },
  {
   "cell_type": "code",
   "execution_count": 6,
   "id": "52486d5a",
   "metadata": {},
   "outputs": [
    {
     "name": "stdout",
     "output_type": "stream",
     "text": [
      "segmentation\n",
      "2023-07-20 10:56:56,983 [INFO] ** TORCH CUDA version installed and working. **\n",
      "2023-07-20 10:56:56,983 [INFO] >>>> using GPU\n",
      "[PosixPath('/media/tom/Transcend/autofish_test/r2/r2_pos0_ch0.tif'), PosixPath('/media/tom/Transcend/autofish_test/r2/r2_pos1_ch0.tif'), PosixPath('/media/tom/Transcend/autofish_test/r2/r2_pos2_ch0.tif')]\n",
      "dico_param{'diameter': 230, 'flow_threshold': 0.6, 'mask_threshold': 0, 'do_3D': False, 'mip': False, 'projected_focused': False, 'stitch_threshold': 0.3, 'erase_solitary': True, 'erase_small_nuclei': 300, 'model_type': 'cyto', 'gpu': True}\n"
     ]
    },
    {
     "name": "stderr",
     "output_type": "stream",
     "text": [
      "\r",
      "  0%|          | 0/3 [00:00<?, ?it/s]"
     ]
    },
    {
     "name": "stdout",
     "output_type": "stream",
     "text": [
      "/media/tom/Transcend/autofish_test/r2/r2_pos0_ch0.tif\n",
      "(32, 2048, 2048)\n",
      "image dapi shape after reshape (32, 1, 2048, 2048)\n",
      "2023-07-20 10:57:00,015 [INFO] ~~~ FINDING MASKS ~~~\n",
      "2023-07-20 10:57:00,016 [INFO] \n",
      "2023-07-20 10:57:00,017 [INFO] 0%|          | 0/32 [00:00<?, ?it/s]\n",
      "2023-07-20 10:57:00,017 [INFO] \u001b[A\n",
      "2023-07-20 10:57:02,280 [INFO] \n",
      "2023-07-20 10:57:02,281 [INFO] 3%|3         | 1/32 [00:02<01:10,  2.26s/it]\n",
      "2023-07-20 10:57:02,282 [INFO] \u001b[A\n",
      "2023-07-20 10:57:04,493 [INFO] \n",
      "2023-07-20 10:57:04,494 [INFO] 6%|6         | 2/32 [00:04<01:07,  2.23s/it]\n",
      "2023-07-20 10:57:04,494 [INFO] \u001b[A\n",
      "2023-07-20 10:57:06,734 [INFO] \n",
      "2023-07-20 10:57:06,735 [INFO] 9%|9         | 3/32 [00:06<01:04,  2.24s/it]\n",
      "2023-07-20 10:57:06,735 [INFO] \u001b[A\n",
      "2023-07-20 10:57:08,952 [INFO] \n",
      "2023-07-20 10:57:08,953 [INFO] 12%|#2        | 4/32 [00:08<01:02,  2.23s/it]\n",
      "2023-07-20 10:57:08,953 [INFO] \u001b[A\n",
      "2023-07-20 10:57:11,188 [INFO] \n",
      "2023-07-20 10:57:11,189 [INFO] 16%|#5        | 5/32 [00:11<01:00,  2.23s/it]\n",
      "2023-07-20 10:57:11,189 [INFO] \u001b[A\n",
      "2023-07-20 10:57:13,430 [INFO] \n",
      "2023-07-20 10:57:13,430 [INFO] 19%|#8        | 6/32 [00:13<00:58,  2.24s/it]\n",
      "2023-07-20 10:57:13,431 [INFO] \u001b[A\n",
      "2023-07-20 10:57:15,672 [INFO] \n",
      "2023-07-20 10:57:15,673 [INFO] 22%|##1       | 7/32 [00:15<00:55,  2.24s/it]\n",
      "2023-07-20 10:57:15,673 [INFO] \u001b[A\n",
      "2023-07-20 10:57:17,917 [INFO] \n",
      "2023-07-20 10:57:17,918 [INFO] 25%|##5       | 8/32 [00:17<00:53,  2.24s/it]\n",
      "2023-07-20 10:57:17,918 [INFO] \u001b[A\n",
      "2023-07-20 10:57:20,193 [INFO] \n",
      "2023-07-20 10:57:20,194 [INFO] 28%|##8       | 9/32 [00:20<00:51,  2.25s/it]\n",
      "2023-07-20 10:57:20,195 [INFO] \u001b[A\n",
      "2023-07-20 10:57:22,503 [INFO] \n",
      "2023-07-20 10:57:22,504 [INFO] 31%|###1      | 10/32 [00:22<00:49,  2.27s/it]\n",
      "2023-07-20 10:57:22,504 [INFO] \u001b[A\n",
      "2023-07-20 10:57:24,756 [INFO] \n",
      "2023-07-20 10:57:24,756 [INFO] 34%|###4      | 11/32 [00:24<00:47,  2.26s/it]\n",
      "2023-07-20 10:57:24,757 [INFO] \u001b[A\n",
      "2023-07-20 10:57:27,002 [INFO] \n",
      "2023-07-20 10:57:27,002 [INFO] 38%|###7      | 12/32 [00:26<00:45,  2.26s/it]\n",
      "2023-07-20 10:57:27,002 [INFO] \u001b[A\n",
      "2023-07-20 10:57:29,226 [INFO] \n",
      "2023-07-20 10:57:29,227 [INFO] 41%|####      | 13/32 [00:29<00:42,  2.25s/it]\n",
      "2023-07-20 10:57:29,227 [INFO] \u001b[A\n",
      "2023-07-20 10:57:31,433 [INFO] \n",
      "2023-07-20 10:57:31,434 [INFO] 44%|####3     | 14/32 [00:31<00:40,  2.24s/it]\n",
      "2023-07-20 10:57:31,434 [INFO] \u001b[A\n",
      "2023-07-20 10:57:33,612 [INFO] \n",
      "2023-07-20 10:57:33,613 [INFO] 47%|####6     | 15/32 [00:33<00:37,  2.22s/it]\n",
      "2023-07-20 10:57:33,614 [INFO] \u001b[A\n",
      "2023-07-20 10:57:35,766 [INFO] \n",
      "2023-07-20 10:57:35,766 [INFO] 50%|#####     | 16/32 [00:35<00:35,  2.20s/it]\n",
      "2023-07-20 10:57:35,767 [INFO] \u001b[A\n",
      "2023-07-20 10:57:37,908 [INFO] \n",
      "2023-07-20 10:57:37,909 [INFO] 53%|#####3    | 17/32 [00:37<00:32,  2.18s/it]\n",
      "2023-07-20 10:57:37,909 [INFO] \u001b[A\n",
      "2023-07-20 10:57:40,030 [INFO] \n",
      "2023-07-20 10:57:40,030 [INFO] 56%|#####6    | 18/32 [00:40<00:30,  2.16s/it]\n",
      "2023-07-20 10:57:40,031 [INFO] \u001b[A\n",
      "2023-07-20 10:57:42,138 [INFO] \n",
      "2023-07-20 10:57:42,138 [INFO] 59%|#####9    | 19/32 [00:42<00:27,  2.15s/it]\n",
      "2023-07-20 10:57:42,139 [INFO] \u001b[A\n",
      "2023-07-20 10:57:44,210 [INFO] \n",
      "2023-07-20 10:57:44,210 [INFO] 62%|######2   | 20/32 [00:44<00:25,  2.12s/it]\n",
      "2023-07-20 10:57:44,211 [INFO] \u001b[A\n",
      "2023-07-20 10:57:46,255 [INFO] \n",
      "2023-07-20 10:57:46,256 [INFO] 66%|######5   | 21/32 [00:46<00:23,  2.10s/it]\n",
      "2023-07-20 10:57:46,256 [INFO] \u001b[A\n",
      "2023-07-20 10:57:48,291 [INFO] \n",
      "2023-07-20 10:57:48,292 [INFO] 69%|######8   | 22/32 [00:48<00:20,  2.08s/it]\n",
      "2023-07-20 10:57:48,293 [INFO] \u001b[A\n",
      "2023-07-20 10:57:50,309 [INFO] \n",
      "2023-07-20 10:57:50,310 [INFO] 72%|#######1  | 23/32 [00:50<00:18,  2.06s/it]\n",
      "2023-07-20 10:57:50,310 [INFO] \u001b[A\n",
      "2023-07-20 10:57:52,353 [INFO] \n",
      "2023-07-20 10:57:52,354 [INFO] 75%|#######5  | 24/32 [00:52<00:16,  2.06s/it]\n",
      "2023-07-20 10:57:52,355 [INFO] \u001b[A\n",
      "2023-07-20 10:57:54,574 [INFO] \n",
      "2023-07-20 10:57:54,575 [INFO] 78%|#######8  | 25/32 [00:54<00:14,  2.11s/it]\n",
      "2023-07-20 10:57:54,576 [INFO] \u001b[A\n",
      "2023-07-20 10:57:56,864 [INFO] \n",
      "2023-07-20 10:57:56,865 [INFO] 81%|########1 | 26/32 [00:56<00:12,  2.16s/it]\n",
      "2023-07-20 10:57:56,866 [INFO] \u001b[A\n",
      "2023-07-20 10:57:59,105 [INFO] \n",
      "2023-07-20 10:57:59,106 [INFO] 84%|########4 | 27/32 [00:59<00:10,  2.19s/it]\n",
      "2023-07-20 10:57:59,107 [INFO] \u001b[A\n",
      "2023-07-20 10:58:01,232 [INFO] \n",
      "2023-07-20 10:58:01,233 [INFO] 88%|########7 | 28/32 [01:01<00:08,  2.17s/it]\n",
      "2023-07-20 10:58:01,233 [INFO] \u001b[A\n",
      "2023-07-20 10:58:03,288 [INFO] \n",
      "2023-07-20 10:58:03,289 [INFO] 91%|######### | 29/32 [01:03<00:06,  2.13s/it]\n",
      "2023-07-20 10:58:03,289 [INFO] \u001b[A\n",
      "2023-07-20 10:58:05,310 [INFO] \n",
      "2023-07-20 10:58:05,310 [INFO] 94%|#########3| 30/32 [01:05<00:04,  2.10s/it]\n",
      "2023-07-20 10:58:05,311 [INFO] \u001b[A\n",
      "2023-07-20 10:58:07,330 [INFO] \n",
      "2023-07-20 10:58:07,331 [INFO] 97%|#########6| 31/32 [01:07<00:02,  2.08s/it]\n",
      "2023-07-20 10:58:07,331 [INFO] \u001b[A\n",
      "2023-07-20 10:58:09,359 [INFO] \n",
      "2023-07-20 10:58:09,360 [INFO] 100%|##########| 32/32 [01:09<00:00,  2.06s/it]\n",
      "2023-07-20 10:58:09,360 [INFO] \u001b[A\n",
      "2023-07-20 10:58:09,361 [INFO] 100%|##########| 32/32 [01:09<00:00,  2.17s/it]\n",
      "2023-07-20 10:58:09,361 [INFO] >>>> TOTAL TIME 69.35 sec\n",
      "erase_small_nuclei threshold 300\n"
     ]
    },
    {
     "name": "stderr",
     "output_type": "stream",
     "text": [
      "\n",
      "  0%|          | 0/41 [00:00<?, ?it/s]\u001b[A\n",
      "  2%|▏         | 1/41 [00:00<00:17,  2.23it/s]\u001b[A"
     ]
    },
    {
     "name": "stdout",
     "output_type": "stream",
     "text": [
      "1364242\n"
     ]
    },
    {
     "name": "stderr",
     "output_type": "stream",
     "text": [
      "\n",
      "  5%|▍         | 2/41 [00:00<00:15,  2.57it/s]\u001b[A"
     ]
    },
    {
     "name": "stdout",
     "output_type": "stream",
     "text": [
      "1821947\n"
     ]
    },
    {
     "name": "stderr",
     "output_type": "stream",
     "text": [
      "\n",
      "  7%|▋         | 3/41 [00:01<00:14,  2.60it/s]\u001b[A"
     ]
    },
    {
     "name": "stdout",
     "output_type": "stream",
     "text": [
      "1875371\n"
     ]
    },
    {
     "name": "stderr",
     "output_type": "stream",
     "text": [
      "\n",
      " 10%|▉         | 4/41 [00:01<00:14,  2.59it/s]\u001b[A"
     ]
    },
    {
     "name": "stdout",
     "output_type": "stream",
     "text": [
      "3783638\n"
     ]
    },
    {
     "name": "stderr",
     "output_type": "stream",
     "text": [
      "\n",
      " 12%|█▏        | 5/41 [00:01<00:13,  2.63it/s]\u001b[A"
     ]
    },
    {
     "name": "stdout",
     "output_type": "stream",
     "text": [
      "1104068\n"
     ]
    },
    {
     "name": "stderr",
     "output_type": "stream",
     "text": [
      "\n",
      " 15%|█▍        | 6/41 [00:02<00:12,  2.70it/s]\u001b[A"
     ]
    },
    {
     "name": "stdout",
     "output_type": "stream",
     "text": [
      "2498772\n"
     ]
    },
    {
     "name": "stderr",
     "output_type": "stream",
     "text": [
      "\n",
      " 17%|█▋        | 7/41 [00:02<00:12,  2.78it/s]\u001b[A"
     ]
    },
    {
     "name": "stdout",
     "output_type": "stream",
     "text": [
      "2299208\n"
     ]
    },
    {
     "name": "stderr",
     "output_type": "stream",
     "text": [
      "\n",
      " 20%|█▉        | 8/41 [00:02<00:11,  2.76it/s]\u001b[A"
     ]
    },
    {
     "name": "stdout",
     "output_type": "stream",
     "text": [
      "4004816\n"
     ]
    },
    {
     "name": "stderr",
     "output_type": "stream",
     "text": [
      "\n",
      " 22%|██▏       | 9/41 [00:03<00:11,  2.76it/s]\u001b[A"
     ]
    },
    {
     "name": "stdout",
     "output_type": "stream",
     "text": [
      "2778510\n"
     ]
    },
    {
     "name": "stderr",
     "output_type": "stream",
     "text": [
      "\n",
      " 24%|██▍       | 10/41 [00:03<00:10,  2.85it/s]\u001b[A"
     ]
    },
    {
     "name": "stdout",
     "output_type": "stream",
     "text": [
      "744863\n"
     ]
    },
    {
     "name": "stderr",
     "output_type": "stream",
     "text": [
      "\n",
      " 27%|██▋       | 11/41 [00:03<00:10,  2.93it/s]\u001b[A"
     ]
    },
    {
     "name": "stdout",
     "output_type": "stream",
     "text": [
      "904262\n"
     ]
    },
    {
     "name": "stderr",
     "output_type": "stream",
     "text": [
      "\n",
      " 29%|██▉       | 12/41 [00:04<00:09,  2.98it/s]\u001b[A"
     ]
    },
    {
     "name": "stdout",
     "output_type": "stream",
     "text": [
      "3724768\n"
     ]
    },
    {
     "name": "stderr",
     "output_type": "stream",
     "text": [
      "\n",
      " 32%|███▏      | 13/41 [00:04<00:09,  3.02it/s]\u001b[A"
     ]
    },
    {
     "name": "stdout",
     "output_type": "stream",
     "text": [
      "253375\n"
     ]
    },
    {
     "name": "stderr",
     "output_type": "stream",
     "text": [
      "\n",
      " 34%|███▍      | 14/41 [00:04<00:08,  3.06it/s]\u001b[A"
     ]
    },
    {
     "name": "stdout",
     "output_type": "stream",
     "text": [
      "5153942\n"
     ]
    },
    {
     "name": "stderr",
     "output_type": "stream",
     "text": [
      "\n",
      " 37%|███▋      | 15/41 [00:05<00:08,  3.08it/s]\u001b[A"
     ]
    },
    {
     "name": "stdout",
     "output_type": "stream",
     "text": [
      "3219727\n"
     ]
    },
    {
     "name": "stderr",
     "output_type": "stream",
     "text": [
      "\n",
      " 39%|███▉      | 16/41 [00:05<00:08,  3.10it/s]\u001b[A"
     ]
    },
    {
     "name": "stdout",
     "output_type": "stream",
     "text": [
      "1196473\n"
     ]
    },
    {
     "name": "stderr",
     "output_type": "stream",
     "text": [
      "\n",
      " 41%|████▏     | 17/41 [00:05<00:07,  3.12it/s]\u001b[A"
     ]
    },
    {
     "name": "stdout",
     "output_type": "stream",
     "text": [
      "1482717\n"
     ]
    },
    {
     "name": "stderr",
     "output_type": "stream",
     "text": [
      "\n",
      " 44%|████▍     | 18/41 [00:06<00:07,  3.13it/s]\u001b[A"
     ]
    },
    {
     "name": "stdout",
     "output_type": "stream",
     "text": [
      "1799094\n"
     ]
    },
    {
     "name": "stderr",
     "output_type": "stream",
     "text": [
      "\n",
      " 46%|████▋     | 19/41 [00:06<00:07,  3.13it/s]\u001b[A"
     ]
    },
    {
     "name": "stdout",
     "output_type": "stream",
     "text": [
      "4552670\n"
     ]
    },
    {
     "name": "stderr",
     "output_type": "stream",
     "text": [
      "\n",
      " 49%|████▉     | 20/41 [00:06<00:06,  3.14it/s]\u001b[A"
     ]
    },
    {
     "name": "stdout",
     "output_type": "stream",
     "text": [
      "2641793\n"
     ]
    },
    {
     "name": "stderr",
     "output_type": "stream",
     "text": [
      "\n",
      " 51%|█████     | 21/41 [00:07<00:06,  3.14it/s]\u001b[A"
     ]
    },
    {
     "name": "stdout",
     "output_type": "stream",
     "text": [
      "4244383\n"
     ]
    },
    {
     "name": "stderr",
     "output_type": "stream",
     "text": [
      "\n",
      " 54%|█████▎    | 22/41 [00:07<00:06,  3.14it/s]\u001b[A"
     ]
    },
    {
     "name": "stdout",
     "output_type": "stream",
     "text": [
      "1592273\n"
     ]
    },
    {
     "name": "stderr",
     "output_type": "stream",
     "text": [
      "\n",
      " 56%|█████▌    | 23/41 [00:07<00:05,  3.15it/s]\u001b[A"
     ]
    },
    {
     "name": "stdout",
     "output_type": "stream",
     "text": [
      "968522\n"
     ]
    },
    {
     "name": "stderr",
     "output_type": "stream",
     "text": [
      "\n",
      " 59%|█████▊    | 24/41 [00:08<00:05,  3.15it/s]\u001b[A"
     ]
    },
    {
     "name": "stdout",
     "output_type": "stream",
     "text": [
      "1562495\n"
     ]
    },
    {
     "name": "stderr",
     "output_type": "stream",
     "text": [
      "\n",
      " 61%|██████    | 25/41 [00:08<00:05,  3.15it/s]\u001b[A"
     ]
    },
    {
     "name": "stdout",
     "output_type": "stream",
     "text": [
      "1484993\n"
     ]
    },
    {
     "name": "stderr",
     "output_type": "stream",
     "text": [
      "\n",
      " 63%|██████▎   | 26/41 [00:08<00:04,  3.15it/s]\u001b[A"
     ]
    },
    {
     "name": "stdout",
     "output_type": "stream",
     "text": [
      "1676947\n"
     ]
    },
    {
     "name": "stderr",
     "output_type": "stream",
     "text": [
      "\n",
      " 66%|██████▌   | 27/41 [00:09<00:04,  3.15it/s]\u001b[A"
     ]
    },
    {
     "name": "stdout",
     "output_type": "stream",
     "text": [
      "298219\n"
     ]
    },
    {
     "name": "stderr",
     "output_type": "stream",
     "text": [
      "\n",
      " 68%|██████▊   | 28/41 [00:09<00:04,  3.15it/s]\u001b[A"
     ]
    },
    {
     "name": "stdout",
     "output_type": "stream",
     "text": [
      "1555751\n"
     ]
    },
    {
     "name": "stderr",
     "output_type": "stream",
     "text": [
      "\n",
      " 71%|███████   | 29/41 [00:09<00:03,  3.15it/s]\u001b[A"
     ]
    },
    {
     "name": "stdout",
     "output_type": "stream",
     "text": [
      "1953334\n"
     ]
    },
    {
     "name": "stderr",
     "output_type": "stream",
     "text": [
      "\n",
      " 73%|███████▎  | 30/41 [00:10<00:03,  3.15it/s]\u001b[A"
     ]
    },
    {
     "name": "stdout",
     "output_type": "stream",
     "text": [
      "368856\n"
     ]
    },
    {
     "name": "stderr",
     "output_type": "stream",
     "text": [
      "\n",
      " 76%|███████▌  | 31/41 [00:10<00:03,  3.15it/s]\u001b[A"
     ]
    },
    {
     "name": "stdout",
     "output_type": "stream",
     "text": [
      "1483356\n"
     ]
    },
    {
     "name": "stderr",
     "output_type": "stream",
     "text": [
      "\n",
      " 78%|███████▊  | 32/41 [00:10<00:02,  3.15it/s]\u001b[A"
     ]
    },
    {
     "name": "stdout",
     "output_type": "stream",
     "text": [
      "174934\n"
     ]
    },
    {
     "name": "stderr",
     "output_type": "stream",
     "text": [
      "\n",
      " 80%|████████  | 33/41 [00:10<00:02,  3.13it/s]\u001b[A"
     ]
    },
    {
     "name": "stdout",
     "output_type": "stream",
     "text": [
      "211454\n"
     ]
    },
    {
     "name": "stderr",
     "output_type": "stream",
     "text": [
      "\n",
      " 83%|████████▎ | 34/41 [00:11<00:02,  3.12it/s]\u001b[A"
     ]
    },
    {
     "name": "stdout",
     "output_type": "stream",
     "text": [
      "977817\n"
     ]
    },
    {
     "name": "stderr",
     "output_type": "stream",
     "text": [
      "\n",
      " 85%|████████▌ | 35/41 [00:11<00:01,  3.11it/s]\u001b[A"
     ]
    },
    {
     "name": "stdout",
     "output_type": "stream",
     "text": [
      "167657\n"
     ]
    },
    {
     "name": "stderr",
     "output_type": "stream",
     "text": [
      "\n",
      " 88%|████████▊ | 36/41 [00:11<00:01,  3.09it/s]\u001b[A"
     ]
    },
    {
     "name": "stdout",
     "output_type": "stream",
     "text": [
      "828388\n"
     ]
    },
    {
     "name": "stderr",
     "output_type": "stream",
     "text": [
      "\n",
      " 90%|█████████ | 37/41 [00:12<00:01,  3.04it/s]\u001b[A"
     ]
    },
    {
     "name": "stdout",
     "output_type": "stream",
     "text": [
      "146288\n"
     ]
    },
    {
     "name": "stderr",
     "output_type": "stream",
     "text": [
      "\n",
      " 93%|█████████▎| 38/41 [00:12<00:00,  3.02it/s]\u001b[A"
     ]
    },
    {
     "name": "stdout",
     "output_type": "stream",
     "text": [
      "86008\n"
     ]
    },
    {
     "name": "stderr",
     "output_type": "stream",
     "text": [
      "\n",
      " 95%|█████████▌| 39/41 [00:12<00:00,  2.99it/s]\u001b[A"
     ]
    },
    {
     "name": "stdout",
     "output_type": "stream",
     "text": [
      "42350\n"
     ]
    },
    {
     "name": "stderr",
     "output_type": "stream",
     "text": [
      "\n",
      " 98%|█████████▊| 40/41 [00:13<00:00,  2.94it/s]\u001b[A"
     ]
    },
    {
     "name": "stdout",
     "output_type": "stream",
     "text": [
      "218480\n"
     ]
    },
    {
     "name": "stderr",
     "output_type": "stream",
     "text": [
      "\n",
      "100%|██████████| 41/41 [00:13<00:00,  2.99it/s]\u001b[A"
     ]
    },
    {
     "name": "stdout",
     "output_type": "stream",
     "text": [
      "255808\n"
     ]
    },
    {
     "name": "stderr",
     "output_type": "stream",
     "text": [
      "\n",
      " 33%|███▎      | 1/3 [01:49<03:39, 109.59s/it]"
     ]
    },
    {
     "name": "stdout",
     "output_type": "stream",
     "text": [
      "/media/tom/Transcend/autofish_test/r2/r2_pos1_ch0.tif\n",
      "(32, 2048, 2048)\n",
      "image dapi shape after reshape (32, 1, 2048, 2048)\n",
      "2023-07-20 10:59:00,674 [INFO] ~~~ FINDING MASKS ~~~\n",
      "2023-07-20 10:59:00,674 [INFO] \n",
      "2023-07-20 10:59:00,675 [INFO] 0%|          | 0/32 [00:00<?, ?it/s]\n",
      "2023-07-20 10:59:00,675 [INFO] \u001b[A\n",
      "2023-07-20 10:59:02,919 [INFO] \n",
      "2023-07-20 10:59:02,920 [INFO] 3%|3         | 1/32 [00:02<01:09,  2.24s/it]\n",
      "2023-07-20 10:59:02,921 [INFO] \u001b[A\n",
      "2023-07-20 10:59:05,125 [INFO] \n",
      "2023-07-20 10:59:05,126 [INFO] 6%|6         | 2/32 [00:04<01:06,  2.22s/it]\n",
      "2023-07-20 10:59:05,126 [INFO] \u001b[A\n",
      "2023-07-20 10:59:07,327 [INFO] \n",
      "2023-07-20 10:59:07,327 [INFO] 9%|9         | 3/32 [00:06<01:04,  2.21s/it]\n",
      "2023-07-20 10:59:07,327 [INFO] \u001b[A\n",
      "2023-07-20 10:59:09,541 [INFO] \n",
      "2023-07-20 10:59:09,542 [INFO] 12%|#2        | 4/32 [00:08<01:01,  2.21s/it]\n",
      "2023-07-20 10:59:09,542 [INFO] \u001b[A\n",
      "2023-07-20 10:59:11,744 [INFO] \n",
      "2023-07-20 10:59:11,744 [INFO] 16%|#5        | 5/32 [00:11<00:59,  2.21s/it]\n",
      "2023-07-20 10:59:11,745 [INFO] \u001b[A\n",
      "2023-07-20 10:59:13,951 [INFO] \n",
      "2023-07-20 10:59:13,952 [INFO] 19%|#8        | 6/32 [00:13<00:57,  2.21s/it]\n",
      "2023-07-20 10:59:13,952 [INFO] \u001b[A\n",
      "2023-07-20 10:59:16,161 [INFO] \n",
      "2023-07-20 10:59:16,161 [INFO] 22%|##1       | 7/32 [00:15<00:55,  2.21s/it]\n",
      "2023-07-20 10:59:16,162 [INFO] \u001b[A\n",
      "2023-07-20 10:59:18,503 [INFO] \n",
      "2023-07-20 10:59:18,504 [INFO] 25%|##5       | 8/32 [00:17<00:54,  2.25s/it]\n",
      "2023-07-20 10:59:18,504 [INFO] \u001b[A\n",
      "2023-07-20 10:59:20,704 [INFO] \n",
      "2023-07-20 10:59:20,705 [INFO] 28%|##8       | 9/32 [00:20<00:51,  2.24s/it]\n",
      "2023-07-20 10:59:20,705 [INFO] \u001b[A\n",
      "2023-07-20 10:59:22,900 [INFO] \n",
      "2023-07-20 10:59:22,901 [INFO] 31%|###1      | 10/32 [00:22<00:48,  2.22s/it]\n",
      "2023-07-20 10:59:22,901 [INFO] \u001b[A\n",
      "2023-07-20 10:59:25,221 [INFO] \n",
      "2023-07-20 10:59:25,222 [INFO] 34%|###4      | 11/32 [00:24<00:47,  2.25s/it]\n",
      "2023-07-20 10:59:25,222 [INFO] \u001b[A\n",
      "2023-07-20 10:59:27,514 [INFO] \n",
      "2023-07-20 10:59:27,515 [INFO] 38%|###7      | 12/32 [00:26<00:45,  2.27s/it]\n",
      "2023-07-20 10:59:27,515 [INFO] \u001b[A\n",
      "2023-07-20 10:59:29,748 [INFO] \n",
      "2023-07-20 10:59:29,749 [INFO] 41%|####      | 13/32 [00:29<00:42,  2.26s/it]\n",
      "2023-07-20 10:59:29,749 [INFO] \u001b[A\n",
      "2023-07-20 10:59:31,998 [INFO] \n",
      "2023-07-20 10:59:31,998 [INFO] 44%|####3     | 14/32 [00:31<00:40,  2.25s/it]\n",
      "2023-07-20 10:59:31,999 [INFO] \u001b[A\n",
      "2023-07-20 10:59:34,188 [INFO] \n",
      "2023-07-20 10:59:34,188 [INFO] 47%|####6     | 15/32 [00:33<00:37,  2.23s/it]\n",
      "2023-07-20 10:59:34,189 [INFO] \u001b[A\n",
      "2023-07-20 10:59:37,005 [INFO] \n",
      "2023-07-20 10:59:37,018 [INFO] 50%|#####     | 16/32 [00:36<00:38,  2.41s/it]\n",
      "2023-07-20 10:59:37,022 [INFO] \u001b[A\n",
      "2023-07-20 10:59:39,608 [INFO] \n",
      "2023-07-20 10:59:39,609 [INFO] 53%|#####3    | 17/32 [00:38<00:37,  2.47s/it]\n",
      "2023-07-20 10:59:39,610 [INFO] \u001b[A\n",
      "2023-07-20 10:59:41,695 [INFO] \n",
      "2023-07-20 10:59:41,695 [INFO] 56%|#####6    | 18/32 [00:41<00:32,  2.35s/it]\n",
      "2023-07-20 10:59:41,696 [INFO] \u001b[A\n",
      "2023-07-20 10:59:43,741 [INFO] \n",
      "2023-07-20 10:59:43,742 [INFO] 59%|#####9    | 19/32 [00:43<00:29,  2.26s/it]\n",
      "2023-07-20 10:59:43,742 [INFO] \u001b[A\n",
      "2023-07-20 10:59:45,760 [INFO] \n",
      "2023-07-20 10:59:45,760 [INFO] 62%|######2   | 20/32 [00:45<00:26,  2.19s/it]\n",
      "2023-07-20 10:59:45,761 [INFO] \u001b[A\n",
      "2023-07-20 10:59:47,759 [INFO] \n",
      "2023-07-20 10:59:47,760 [INFO] 66%|######5   | 21/32 [00:47<00:23,  2.13s/it]\n",
      "2023-07-20 10:59:47,760 [INFO] \u001b[A\n",
      "2023-07-20 10:59:49,729 [INFO] \n",
      "2023-07-20 10:59:49,730 [INFO] 69%|######8   | 22/32 [00:49<00:20,  2.08s/it]\n",
      "2023-07-20 10:59:49,730 [INFO] \u001b[A\n",
      "2023-07-20 10:59:51,678 [INFO] \n",
      "2023-07-20 10:59:51,679 [INFO] 72%|#######1  | 23/32 [00:51<00:18,  2.04s/it]\n",
      "2023-07-20 10:59:51,679 [INFO] \u001b[A\n",
      "2023-07-20 10:59:53,641 [INFO] \n",
      "2023-07-20 10:59:53,642 [INFO] 75%|#######5  | 24/32 [00:52<00:16,  2.02s/it]\n",
      "2023-07-20 10:59:53,642 [INFO] \u001b[A\n",
      "2023-07-20 10:59:55,622 [INFO] \n",
      "2023-07-20 10:59:55,622 [INFO] 78%|#######8  | 25/32 [00:54<00:14,  2.01s/it]\n",
      "2023-07-20 10:59:55,623 [INFO] \u001b[A\n",
      "2023-07-20 10:59:57,592 [INFO] \n",
      "2023-07-20 10:59:57,593 [INFO] 81%|########1 | 26/32 [00:56<00:11,  2.00s/it]\n",
      "2023-07-20 10:59:57,594 [INFO] \u001b[A\n",
      "2023-07-20 10:59:59,585 [INFO] \n",
      "2023-07-20 10:59:59,586 [INFO] 84%|########4 | 27/32 [00:58<00:09,  2.00s/it]\n",
      "2023-07-20 10:59:59,586 [INFO] \u001b[A\n",
      "2023-07-20 11:00:01,557 [INFO] \n",
      "2023-07-20 11:00:01,557 [INFO] 88%|########7 | 28/32 [01:00<00:07,  1.99s/it]\n",
      "2023-07-20 11:00:01,558 [INFO] \u001b[A\n",
      "2023-07-20 11:00:03,507 [INFO] \n",
      "2023-07-20 11:00:03,507 [INFO] 91%|######### | 29/32 [01:02<00:05,  1.98s/it]\n",
      "2023-07-20 11:00:03,508 [INFO] \u001b[A\n",
      "2023-07-20 11:00:05,462 [INFO] \n",
      "2023-07-20 11:00:05,463 [INFO] 94%|#########3| 30/32 [01:04<00:03,  1.97s/it]\n",
      "2023-07-20 11:00:05,463 [INFO] \u001b[A\n",
      "2023-07-20 11:00:07,414 [INFO] \n",
      "2023-07-20 11:00:07,414 [INFO] 97%|#########6| 31/32 [01:06<00:01,  1.96s/it]\n",
      "2023-07-20 11:00:07,415 [INFO] \u001b[A\n",
      "2023-07-20 11:00:09,371 [INFO] \n",
      "2023-07-20 11:00:09,372 [INFO] 100%|##########| 32/32 [01:08<00:00,  1.96s/it]\n",
      "2023-07-20 11:00:09,372 [INFO] \u001b[A\n",
      "2023-07-20 11:00:09,373 [INFO] 100%|##########| 32/32 [01:08<00:00,  2.15s/it]\n",
      "2023-07-20 11:00:09,373 [INFO] >>>> TOTAL TIME 68.70 sec\n",
      "erase_small_nuclei threshold 300\n"
     ]
    },
    {
     "name": "stderr",
     "output_type": "stream",
     "text": [
      "\n",
      "  0%|          | 0/33 [00:00<?, ?it/s]\u001b[A\n",
      "  3%|▎         | 1/33 [00:00<00:21,  1.49it/s]\u001b[A"
     ]
    },
    {
     "name": "stdout",
     "output_type": "stream",
     "text": [
      "1062756\n"
     ]
    },
    {
     "name": "stderr",
     "output_type": "stream",
     "text": [
      "\n",
      "  6%|▌         | 2/33 [00:01<00:15,  2.02it/s]\u001b[A"
     ]
    },
    {
     "name": "stdout",
     "output_type": "stream",
     "text": [
      "1150182\n"
     ]
    },
    {
     "name": "stderr",
     "output_type": "stream",
     "text": [
      "\n",
      "  9%|▉         | 3/33 [00:01<00:13,  2.29it/s]\u001b[A"
     ]
    },
    {
     "name": "stdout",
     "output_type": "stream",
     "text": [
      "2128651\n"
     ]
    },
    {
     "name": "stderr",
     "output_type": "stream",
     "text": [
      "\n",
      " 12%|█▏        | 4/33 [00:01<00:11,  2.46it/s]\u001b[A"
     ]
    },
    {
     "name": "stdout",
     "output_type": "stream",
     "text": [
      "1460407\n"
     ]
    },
    {
     "name": "stderr",
     "output_type": "stream",
     "text": [
      "\n",
      " 15%|█▌        | 5/33 [00:02<00:10,  2.59it/s]\u001b[A"
     ]
    },
    {
     "name": "stdout",
     "output_type": "stream",
     "text": [
      "3435951\n"
     ]
    },
    {
     "name": "stderr",
     "output_type": "stream",
     "text": [
      "\n",
      " 18%|█▊        | 6/33 [00:02<00:10,  2.65it/s]\u001b[A"
     ]
    },
    {
     "name": "stdout",
     "output_type": "stream",
     "text": [
      "4494452\n"
     ]
    },
    {
     "name": "stderr",
     "output_type": "stream",
     "text": [
      "\n",
      " 21%|██        | 7/33 [00:02<00:09,  2.67it/s]\u001b[A"
     ]
    },
    {
     "name": "stdout",
     "output_type": "stream",
     "text": [
      "3499637\n"
     ]
    },
    {
     "name": "stderr",
     "output_type": "stream",
     "text": [
      "\n",
      " 24%|██▍       | 8/33 [00:03<00:09,  2.72it/s]\u001b[A"
     ]
    },
    {
     "name": "stdout",
     "output_type": "stream",
     "text": [
      "2973579\n"
     ]
    },
    {
     "name": "stderr",
     "output_type": "stream",
     "text": [
      "\n",
      " 27%|██▋       | 9/33 [00:03<00:08,  2.77it/s]\u001b[A"
     ]
    },
    {
     "name": "stdout",
     "output_type": "stream",
     "text": [
      "2481458\n"
     ]
    },
    {
     "name": "stderr",
     "output_type": "stream",
     "text": [
      "\n",
      " 30%|███       | 10/33 [00:03<00:08,  2.83it/s]\u001b[A"
     ]
    },
    {
     "name": "stdout",
     "output_type": "stream",
     "text": [
      "3231077\n"
     ]
    },
    {
     "name": "stderr",
     "output_type": "stream",
     "text": [
      "\n",
      " 33%|███▎      | 11/33 [00:04<00:07,  2.89it/s]\u001b[A"
     ]
    },
    {
     "name": "stdout",
     "output_type": "stream",
     "text": [
      "1204496\n"
     ]
    },
    {
     "name": "stderr",
     "output_type": "stream",
     "text": [
      "\n",
      " 36%|███▋      | 12/33 [00:04<00:07,  2.93it/s]\u001b[A"
     ]
    },
    {
     "name": "stdout",
     "output_type": "stream",
     "text": [
      "4097112\n"
     ]
    },
    {
     "name": "stderr",
     "output_type": "stream",
     "text": [
      "\n",
      " 39%|███▉      | 13/33 [00:04<00:06,  2.98it/s]\u001b[A"
     ]
    },
    {
     "name": "stdout",
     "output_type": "stream",
     "text": [
      "3888770\n"
     ]
    },
    {
     "name": "stderr",
     "output_type": "stream",
     "text": [
      "\n",
      " 42%|████▏     | 14/33 [00:05<00:06,  3.01it/s]\u001b[A"
     ]
    },
    {
     "name": "stdout",
     "output_type": "stream",
     "text": [
      "1129047\n"
     ]
    },
    {
     "name": "stderr",
     "output_type": "stream",
     "text": [
      "\n",
      " 45%|████▌     | 15/33 [00:05<00:05,  3.02it/s]\u001b[A"
     ]
    },
    {
     "name": "stdout",
     "output_type": "stream",
     "text": [
      "2162979\n"
     ]
    },
    {
     "name": "stderr",
     "output_type": "stream",
     "text": [
      "\n",
      " 48%|████▊     | 16/33 [00:05<00:05,  3.04it/s]\u001b[A"
     ]
    },
    {
     "name": "stdout",
     "output_type": "stream",
     "text": [
      "1566272\n"
     ]
    },
    {
     "name": "stderr",
     "output_type": "stream",
     "text": [
      "\n",
      " 52%|█████▏    | 17/33 [00:06<00:05,  3.03it/s]\u001b[A"
     ]
    },
    {
     "name": "stdout",
     "output_type": "stream",
     "text": [
      "2492520\n"
     ]
    },
    {
     "name": "stderr",
     "output_type": "stream",
     "text": [
      "\n",
      " 55%|█████▍    | 18/33 [00:06<00:05,  2.72it/s]\u001b[A"
     ]
    },
    {
     "name": "stdout",
     "output_type": "stream",
     "text": [
      "1892273\n"
     ]
    },
    {
     "name": "stderr",
     "output_type": "stream",
     "text": [
      "\n",
      " 58%|█████▊    | 19/33 [00:07<00:05,  2.69it/s]\u001b[A"
     ]
    },
    {
     "name": "stdout",
     "output_type": "stream",
     "text": [
      "1666095\n"
     ]
    },
    {
     "name": "stderr",
     "output_type": "stream",
     "text": [
      "\n",
      " 61%|██████    | 20/33 [00:07<00:04,  2.70it/s]\u001b[A"
     ]
    },
    {
     "name": "stdout",
     "output_type": "stream",
     "text": [
      "3983461\n"
     ]
    },
    {
     "name": "stderr",
     "output_type": "stream",
     "text": [
      "\n",
      " 64%|██████▎   | 21/33 [00:07<00:04,  2.74it/s]\u001b[A"
     ]
    },
    {
     "name": "stdout",
     "output_type": "stream",
     "text": [
      "3948656\n"
     ]
    },
    {
     "name": "stderr",
     "output_type": "stream",
     "text": [
      "\n",
      " 67%|██████▋   | 22/33 [00:08<00:03,  2.80it/s]\u001b[A"
     ]
    },
    {
     "name": "stdout",
     "output_type": "stream",
     "text": [
      "2486676\n"
     ]
    },
    {
     "name": "stderr",
     "output_type": "stream",
     "text": [
      "\n",
      " 70%|██████▉   | 23/33 [00:08<00:03,  2.86it/s]\u001b[A"
     ]
    },
    {
     "name": "stdout",
     "output_type": "stream",
     "text": [
      "42342\n"
     ]
    },
    {
     "name": "stderr",
     "output_type": "stream",
     "text": [
      "\n",
      " 73%|███████▎  | 24/33 [00:08<00:03,  2.91it/s]\u001b[A"
     ]
    },
    {
     "name": "stdout",
     "output_type": "stream",
     "text": [
      "1581119\n"
     ]
    },
    {
     "name": "stderr",
     "output_type": "stream",
     "text": [
      "\n",
      " 76%|███████▌  | 25/33 [00:09<00:02,  2.96it/s]\u001b[A"
     ]
    },
    {
     "name": "stdout",
     "output_type": "stream",
     "text": [
      "1648168\n"
     ]
    },
    {
     "name": "stderr",
     "output_type": "stream",
     "text": [
      "\n",
      " 79%|███████▉  | 26/33 [00:09<00:02,  2.98it/s]\u001b[A"
     ]
    },
    {
     "name": "stdout",
     "output_type": "stream",
     "text": [
      "897554\n"
     ]
    },
    {
     "name": "stderr",
     "output_type": "stream",
     "text": [
      "\n",
      " 82%|████████▏ | 27/33 [00:09<00:02,  3.00it/s]\u001b[A"
     ]
    },
    {
     "name": "stdout",
     "output_type": "stream",
     "text": [
      "336092\n"
     ]
    },
    {
     "name": "stderr",
     "output_type": "stream",
     "text": [
      "\n",
      " 85%|████████▍ | 28/33 [00:10<00:01,  3.02it/s]\u001b[A"
     ]
    },
    {
     "name": "stdout",
     "output_type": "stream",
     "text": [
      "171179\n"
     ]
    },
    {
     "name": "stderr",
     "output_type": "stream",
     "text": [
      "\n",
      " 88%|████████▊ | 29/33 [00:10<00:01,  3.03it/s]\u001b[A"
     ]
    },
    {
     "name": "stdout",
     "output_type": "stream",
     "text": [
      "26528\n"
     ]
    },
    {
     "name": "stderr",
     "output_type": "stream",
     "text": [
      "\n",
      " 91%|█████████ | 30/33 [00:10<00:00,  3.02it/s]\u001b[A"
     ]
    },
    {
     "name": "stdout",
     "output_type": "stream",
     "text": [
      "197235\n"
     ]
    },
    {
     "name": "stderr",
     "output_type": "stream",
     "text": [
      "\n",
      " 94%|█████████▍| 31/33 [00:11<00:00,  3.02it/s]\u001b[A"
     ]
    },
    {
     "name": "stdout",
     "output_type": "stream",
     "text": [
      "21837\n"
     ]
    },
    {
     "name": "stderr",
     "output_type": "stream",
     "text": [
      "\n",
      " 97%|█████████▋| 32/33 [00:11<00:00,  3.02it/s]\u001b[A"
     ]
    },
    {
     "name": "stdout",
     "output_type": "stream",
     "text": [
      "160857\n"
     ]
    },
    {
     "name": "stderr",
     "output_type": "stream",
     "text": [
      "\n",
      "100%|██████████| 33/33 [00:11<00:00,  2.82it/s]\u001b[A"
     ]
    },
    {
     "name": "stdout",
     "output_type": "stream",
     "text": [
      "5121\n"
     ]
    },
    {
     "name": "stderr",
     "output_type": "stream",
     "text": [
      "\n",
      " 67%|██████▋   | 2/3 [03:51<01:56, 116.61s/it]"
     ]
    },
    {
     "name": "stdout",
     "output_type": "stream",
     "text": [
      "/media/tom/Transcend/autofish_test/r2/r2_pos2_ch0.tif\n",
      "(32, 2048, 2048)\n",
      "image dapi shape after reshape (32, 1, 2048, 2048)\n",
      "2023-07-20 11:01:00,926 [INFO] ~~~ FINDING MASKS ~~~\n",
      "2023-07-20 11:01:00,928 [INFO] \n",
      "2023-07-20 11:01:00,961 [INFO] 0%|          | 0/32 [00:00<?, ?it/s]\n",
      "2023-07-20 11:01:00,963 [INFO] \u001b[A\n",
      "2023-07-20 11:01:03,358 [INFO] \n",
      "2023-07-20 11:01:03,366 [INFO] 3%|3         | 1/32 [00:02<01:14,  2.39s/it]\n",
      "2023-07-20 11:01:03,368 [INFO] \u001b[A\n",
      "2023-07-20 11:01:05,621 [INFO] \n",
      "2023-07-20 11:01:05,621 [INFO] 6%|6         | 2/32 [00:04<01:09,  2.32s/it]\n",
      "2023-07-20 11:01:05,622 [INFO] \u001b[A\n",
      "2023-07-20 11:01:07,880 [INFO] \n",
      "2023-07-20 11:01:07,881 [INFO] 9%|9         | 3/32 [00:06<01:06,  2.29s/it]\n",
      "2023-07-20 11:01:07,881 [INFO] \u001b[A\n",
      "2023-07-20 11:01:10,129 [INFO] \n",
      "2023-07-20 11:01:10,130 [INFO] 12%|#2        | 4/32 [00:09<01:03,  2.27s/it]\n",
      "2023-07-20 11:01:10,163 [INFO] \u001b[A\n",
      "2023-07-20 11:01:12,427 [INFO] \n",
      "2023-07-20 11:01:12,427 [INFO] 16%|#5        | 5/32 [00:11<01:01,  2.28s/it]\n",
      "2023-07-20 11:01:12,428 [INFO] \u001b[A\n",
      "2023-07-20 11:01:14,691 [INFO] \n",
      "2023-07-20 11:01:14,691 [INFO] 19%|#8        | 6/32 [00:13<00:59,  2.28s/it]\n",
      "2023-07-20 11:01:14,692 [INFO] \u001b[A\n",
      "2023-07-20 11:01:16,971 [INFO] \n",
      "2023-07-20 11:01:16,971 [INFO] 22%|##1       | 7/32 [00:16<00:56,  2.28s/it]\n",
      "2023-07-20 11:01:16,972 [INFO] \u001b[A\n",
      "2023-07-20 11:01:19,257 [INFO] \n",
      "2023-07-20 11:01:19,258 [INFO] 25%|##5       | 8/32 [00:18<00:54,  2.28s/it]\n",
      "2023-07-20 11:01:19,258 [INFO] \u001b[A\n",
      "2023-07-20 11:01:21,540 [INFO] \n",
      "2023-07-20 11:01:21,541 [INFO] 28%|##8       | 9/32 [00:20<00:52,  2.28s/it]\n",
      "2023-07-20 11:01:21,542 [INFO] \u001b[A\n",
      "2023-07-20 11:01:23,822 [INFO] \n",
      "2023-07-20 11:01:23,823 [INFO] 31%|###1      | 10/32 [00:22<00:50,  2.28s/it]\n",
      "2023-07-20 11:01:23,824 [INFO] \u001b[A\n",
      "2023-07-20 11:01:26,083 [INFO] \n",
      "2023-07-20 11:01:26,083 [INFO] 34%|###4      | 11/32 [00:25<00:47,  2.28s/it]\n",
      "2023-07-20 11:01:26,084 [INFO] \u001b[A\n",
      "2023-07-20 11:01:28,323 [INFO] \n",
      "2023-07-20 11:01:28,323 [INFO] 38%|###7      | 12/32 [00:27<00:45,  2.26s/it]\n",
      "2023-07-20 11:01:28,323 [INFO] \u001b[A\n",
      "2023-07-20 11:01:30,543 [INFO] \n",
      "2023-07-20 11:01:30,544 [INFO] 41%|####      | 13/32 [00:29<00:42,  2.25s/it]\n",
      "2023-07-20 11:01:30,544 [INFO] \u001b[A\n",
      "2023-07-20 11:01:32,756 [INFO] \n",
      "2023-07-20 11:01:32,757 [INFO] 44%|####3     | 14/32 [00:31<00:40,  2.24s/it]\n",
      "2023-07-20 11:01:32,757 [INFO] \u001b[A\n",
      "2023-07-20 11:01:34,957 [INFO] \n",
      "2023-07-20 11:01:34,958 [INFO] 47%|####6     | 15/32 [00:33<00:37,  2.23s/it]\n",
      "2023-07-20 11:01:34,958 [INFO] \u001b[A\n",
      "2023-07-20 11:01:37,099 [INFO] \n",
      "2023-07-20 11:01:37,100 [INFO] 50%|#####     | 16/32 [00:36<00:35,  2.20s/it]\n",
      "2023-07-20 11:01:37,100 [INFO] \u001b[A\n",
      "2023-07-20 11:01:39,238 [INFO] \n",
      "2023-07-20 11:01:39,238 [INFO] 53%|#####3    | 17/32 [00:38<00:32,  2.18s/it]\n",
      "2023-07-20 11:01:39,239 [INFO] \u001b[A\n",
      "2023-07-20 11:01:41,627 [INFO] \n",
      "2023-07-20 11:01:41,628 [INFO] 56%|#####6    | 18/32 [00:40<00:31,  2.24s/it]\n",
      "2023-07-20 11:01:41,628 [INFO] \u001b[A\n",
      "2023-07-20 11:01:43,939 [INFO] \n",
      "2023-07-20 11:01:43,939 [INFO] 59%|#####9    | 19/32 [00:42<00:29,  2.26s/it]\n",
      "2023-07-20 11:01:43,940 [INFO] \u001b[A\n",
      "2023-07-20 11:01:46,128 [INFO] \n",
      "2023-07-20 11:01:46,129 [INFO] 62%|######2   | 20/32 [00:45<00:26,  2.24s/it]\n",
      "2023-07-20 11:01:46,129 [INFO] \u001b[A\n",
      "2023-07-20 11:01:48,184 [INFO] \n",
      "2023-07-20 11:01:48,184 [INFO] 66%|######5   | 21/32 [00:47<00:24,  2.19s/it]\n",
      "2023-07-20 11:01:48,185 [INFO] \u001b[A\n",
      "2023-07-20 11:01:50,216 [INFO] \n",
      "2023-07-20 11:01:50,216 [INFO] 69%|######8   | 22/32 [00:49<00:21,  2.14s/it]\n",
      "2023-07-20 11:01:50,217 [INFO] \u001b[A\n",
      "2023-07-20 11:01:52,253 [INFO] \n",
      "2023-07-20 11:01:52,254 [INFO] 72%|#######1  | 23/32 [00:51<00:18,  2.11s/it]\n",
      "2023-07-20 11:01:52,254 [INFO] \u001b[A\n",
      "2023-07-20 11:01:54,307 [INFO] \n",
      "2023-07-20 11:01:54,308 [INFO] 75%|#######5  | 24/32 [00:53<00:16,  2.09s/it]\n",
      "2023-07-20 11:01:54,308 [INFO] \u001b[A\n",
      "2023-07-20 11:01:56,364 [INFO] \n",
      "2023-07-20 11:01:56,365 [INFO] 78%|#######8  | 25/32 [00:55<00:14,  2.08s/it]\n",
      "2023-07-20 11:01:56,365 [INFO] \u001b[A\n",
      "2023-07-20 11:01:58,420 [INFO] \n",
      "2023-07-20 11:01:58,420 [INFO] 81%|########1 | 26/32 [00:57<00:12,  2.07s/it]\n",
      "2023-07-20 11:01:58,421 [INFO] \u001b[A\n",
      "2023-07-20 11:02:00,476 [INFO] \n",
      "2023-07-20 11:02:00,476 [INFO] 84%|########4 | 27/32 [00:59<00:10,  2.07s/it]\n",
      "2023-07-20 11:02:00,477 [INFO] \u001b[A\n",
      "2023-07-20 11:02:03,215 [INFO] \n",
      "2023-07-20 11:02:03,216 [INFO] 88%|########7 | 28/32 [01:02<00:09,  2.27s/it]\n",
      "2023-07-20 11:02:03,217 [INFO] \u001b[A\n",
      "2023-07-20 11:02:05,607 [INFO] \n",
      "2023-07-20 11:02:05,608 [INFO] 91%|######### | 29/32 [01:04<00:06,  2.31s/it]\n",
      "2023-07-20 11:02:05,608 [INFO] \u001b[A\n",
      "2023-07-20 11:02:07,871 [INFO] \n",
      "2023-07-20 11:02:07,872 [INFO] 94%|#########3| 30/32 [01:06<00:04,  2.29s/it]\n",
      "2023-07-20 11:02:07,873 [INFO] \u001b[A\n",
      "2023-07-20 11:02:10,074 [INFO] \n",
      "2023-07-20 11:02:10,075 [INFO] 97%|#########6| 31/32 [01:09<00:02,  2.27s/it]\n",
      "2023-07-20 11:02:10,075 [INFO] \u001b[A\n",
      "2023-07-20 11:02:12,441 [INFO] \n",
      "2023-07-20 11:02:12,442 [INFO] 100%|##########| 32/32 [01:11<00:00,  2.30s/it]\n",
      "2023-07-20 11:02:12,443 [INFO] \u001b[A\n",
      "2023-07-20 11:02:12,444 [INFO] 100%|##########| 32/32 [01:11<00:00,  2.23s/it]\n",
      "2023-07-20 11:02:12,445 [INFO] >>>> TOTAL TIME 71.52 sec\n",
      "erase_small_nuclei threshold 300\n"
     ]
    },
    {
     "name": "stderr",
     "output_type": "stream",
     "text": [
      "\n",
      "  0%|          | 0/40 [00:00<?, ?it/s]\u001b[A\n",
      "  2%|▎         | 1/40 [00:00<00:31,  1.24it/s]\u001b[A"
     ]
    },
    {
     "name": "stdout",
     "output_type": "stream",
     "text": [
      "467978\n"
     ]
    },
    {
     "name": "stderr",
     "output_type": "stream",
     "text": [
      "\n",
      "  5%|▌         | 2/40 [00:01<00:22,  1.66it/s]\u001b[A"
     ]
    },
    {
     "name": "stdout",
     "output_type": "stream",
     "text": [
      "597048\n"
     ]
    },
    {
     "name": "stderr",
     "output_type": "stream",
     "text": [
      "\n",
      "  8%|▊         | 3/40 [00:01<00:20,  1.83it/s]\u001b[A"
     ]
    },
    {
     "name": "stdout",
     "output_type": "stream",
     "text": [
      "2568221\n"
     ]
    },
    {
     "name": "stderr",
     "output_type": "stream",
     "text": [
      "\n",
      " 10%|█         | 4/40 [00:02<00:18,  1.98it/s]\u001b[A"
     ]
    },
    {
     "name": "stdout",
     "output_type": "stream",
     "text": [
      "2209148\n"
     ]
    },
    {
     "name": "stderr",
     "output_type": "stream",
     "text": [
      "\n",
      " 12%|█▎        | 5/40 [00:02<00:17,  2.06it/s]\u001b[A"
     ]
    },
    {
     "name": "stdout",
     "output_type": "stream",
     "text": [
      "1790057\n"
     ]
    },
    {
     "name": "stderr",
     "output_type": "stream",
     "text": [
      "\n",
      " 15%|█▌        | 6/40 [00:03<00:16,  2.10it/s]\u001b[A"
     ]
    },
    {
     "name": "stdout",
     "output_type": "stream",
     "text": [
      "2291193\n"
     ]
    },
    {
     "name": "stderr",
     "output_type": "stream",
     "text": [
      "\n",
      " 18%|█▊        | 7/40 [00:03<00:15,  2.13it/s]\u001b[A"
     ]
    },
    {
     "name": "stdout",
     "output_type": "stream",
     "text": [
      "4412701\n"
     ]
    },
    {
     "name": "stderr",
     "output_type": "stream",
     "text": [
      "\n",
      " 20%|██        | 8/40 [00:03<00:14,  2.19it/s]\u001b[A"
     ]
    },
    {
     "name": "stdout",
     "output_type": "stream",
     "text": [
      "1560294\n"
     ]
    },
    {
     "name": "stderr",
     "output_type": "stream",
     "text": [
      "\n",
      " 22%|██▎       | 9/40 [00:04<00:13,  2.24it/s]\u001b[A"
     ]
    },
    {
     "name": "stdout",
     "output_type": "stream",
     "text": [
      "3194270\n"
     ]
    },
    {
     "name": "stderr",
     "output_type": "stream",
     "text": [
      "\n",
      " 25%|██▌       | 10/40 [00:04<00:13,  2.29it/s]\u001b[A"
     ]
    },
    {
     "name": "stdout",
     "output_type": "stream",
     "text": [
      "2750560\n"
     ]
    },
    {
     "name": "stderr",
     "output_type": "stream",
     "text": [
      "\n",
      " 28%|██▊       | 11/40 [00:05<00:12,  2.29it/s]\u001b[A"
     ]
    },
    {
     "name": "stdout",
     "output_type": "stream",
     "text": [
      "941072\n"
     ]
    },
    {
     "name": "stderr",
     "output_type": "stream",
     "text": [
      "\n",
      " 30%|███       | 12/40 [00:05<00:12,  2.30it/s]\u001b[A"
     ]
    },
    {
     "name": "stdout",
     "output_type": "stream",
     "text": [
      "3045739\n"
     ]
    },
    {
     "name": "stderr",
     "output_type": "stream",
     "text": [
      "\n",
      " 32%|███▎      | 13/40 [00:06<00:11,  2.31it/s]\u001b[A"
     ]
    },
    {
     "name": "stdout",
     "output_type": "stream",
     "text": [
      "2276926\n"
     ]
    },
    {
     "name": "stderr",
     "output_type": "stream",
     "text": [
      "\n",
      " 35%|███▌      | 14/40 [00:06<00:11,  2.34it/s]\u001b[A"
     ]
    },
    {
     "name": "stdout",
     "output_type": "stream",
     "text": [
      "1189099\n"
     ]
    },
    {
     "name": "stderr",
     "output_type": "stream",
     "text": [
      "\n",
      " 38%|███▊      | 15/40 [00:06<00:10,  2.37it/s]\u001b[A"
     ]
    },
    {
     "name": "stdout",
     "output_type": "stream",
     "text": [
      "3642760\n"
     ]
    },
    {
     "name": "stderr",
     "output_type": "stream",
     "text": [
      "\n",
      " 40%|████      | 16/40 [00:07<00:10,  2.37it/s]\u001b[A"
     ]
    },
    {
     "name": "stdout",
     "output_type": "stream",
     "text": [
      "3007036\n"
     ]
    },
    {
     "name": "stderr",
     "output_type": "stream",
     "text": [
      "\n",
      " 42%|████▎     | 17/40 [00:07<00:09,  2.36it/s]\u001b[A"
     ]
    },
    {
     "name": "stdout",
     "output_type": "stream",
     "text": [
      "667809\n"
     ]
    },
    {
     "name": "stderr",
     "output_type": "stream",
     "text": [
      "\n",
      " 45%|████▌     | 18/40 [00:08<00:09,  2.38it/s]\u001b[A"
     ]
    },
    {
     "name": "stdout",
     "output_type": "stream",
     "text": [
      "1278140\n"
     ]
    },
    {
     "name": "stderr",
     "output_type": "stream",
     "text": [
      "\n",
      " 48%|████▊     | 19/40 [00:08<00:08,  2.40it/s]\u001b[A"
     ]
    },
    {
     "name": "stdout",
     "output_type": "stream",
     "text": [
      "2662517\n"
     ]
    },
    {
     "name": "stderr",
     "output_type": "stream",
     "text": [
      "\n",
      " 50%|█████     | 20/40 [00:09<00:08,  2.42it/s]\u001b[A"
     ]
    },
    {
     "name": "stdout",
     "output_type": "stream",
     "text": [
      "1949221\n"
     ]
    },
    {
     "name": "stderr",
     "output_type": "stream",
     "text": [
      "\n",
      " 52%|█████▎    | 21/40 [00:09<00:07,  2.41it/s]\u001b[A"
     ]
    },
    {
     "name": "stdout",
     "output_type": "stream",
     "text": [
      "1820873\n"
     ]
    },
    {
     "name": "stderr",
     "output_type": "stream",
     "text": [
      "\n",
      " 55%|█████▌    | 22/40 [00:09<00:07,  2.41it/s]\u001b[A"
     ]
    },
    {
     "name": "stdout",
     "output_type": "stream",
     "text": [
      "747910\n"
     ]
    },
    {
     "name": "stderr",
     "output_type": "stream",
     "text": [
      "\n",
      " 57%|█████▊    | 23/40 [00:10<00:07,  2.42it/s]\u001b[A"
     ]
    },
    {
     "name": "stdout",
     "output_type": "stream",
     "text": [
      "3019359\n"
     ]
    },
    {
     "name": "stderr",
     "output_type": "stream",
     "text": [
      "\n",
      " 60%|██████    | 24/40 [00:10<00:06,  2.43it/s]\u001b[A"
     ]
    },
    {
     "name": "stdout",
     "output_type": "stream",
     "text": [
      "2519685\n"
     ]
    },
    {
     "name": "stderr",
     "output_type": "stream",
     "text": [
      "\n",
      " 62%|██████▎   | 25/40 [00:11<00:06,  2.45it/s]\u001b[A"
     ]
    },
    {
     "name": "stdout",
     "output_type": "stream",
     "text": [
      "1011062\n"
     ]
    },
    {
     "name": "stderr",
     "output_type": "stream",
     "text": [
      "\n",
      " 65%|██████▌   | 26/40 [00:11<00:05,  2.46it/s]\u001b[A"
     ]
    },
    {
     "name": "stdout",
     "output_type": "stream",
     "text": [
      "984651\n"
     ]
    },
    {
     "name": "stderr",
     "output_type": "stream",
     "text": [
      "\n",
      " 68%|██████▊   | 27/40 [00:11<00:05,  2.46it/s]\u001b[A"
     ]
    },
    {
     "name": "stdout",
     "output_type": "stream",
     "text": [
      "735976\n"
     ]
    },
    {
     "name": "stderr",
     "output_type": "stream",
     "text": [
      "\n",
      " 70%|███████   | 28/40 [00:12<00:04,  2.47it/s]\u001b[A"
     ]
    },
    {
     "name": "stdout",
     "output_type": "stream",
     "text": [
      "1193329\n"
     ]
    },
    {
     "name": "stderr",
     "output_type": "stream",
     "text": [
      "\n",
      " 72%|███████▎  | 29/40 [00:12<00:04,  2.47it/s]\u001b[A"
     ]
    },
    {
     "name": "stdout",
     "output_type": "stream",
     "text": [
      "457966\n"
     ]
    },
    {
     "name": "stderr",
     "output_type": "stream",
     "text": [
      "\n",
      " 75%|███████▌  | 30/40 [00:13<00:04,  2.47it/s]\u001b[A"
     ]
    },
    {
     "name": "stdout",
     "output_type": "stream",
     "text": [
      "3659784\n"
     ]
    },
    {
     "name": "stderr",
     "output_type": "stream",
     "text": [
      "\n",
      " 78%|███████▊  | 31/40 [00:13<00:03,  2.43it/s]\u001b[A"
     ]
    },
    {
     "name": "stdout",
     "output_type": "stream",
     "text": [
      "2427978\n"
     ]
    },
    {
     "name": "stderr",
     "output_type": "stream",
     "text": [
      "\n",
      " 80%|████████  | 32/40 [00:13<00:03,  2.41it/s]\u001b[A"
     ]
    },
    {
     "name": "stdout",
     "output_type": "stream",
     "text": [
      "1723456\n"
     ]
    },
    {
     "name": "stderr",
     "output_type": "stream",
     "text": [
      "\n",
      " 82%|████████▎ | 33/40 [00:14<00:02,  2.40it/s]\u001b[A"
     ]
    },
    {
     "name": "stdout",
     "output_type": "stream",
     "text": [
      "184799\n"
     ]
    },
    {
     "name": "stderr",
     "output_type": "stream",
     "text": [
      "\n",
      " 85%|████████▌ | 34/40 [00:14<00:02,  2.40it/s]\u001b[A"
     ]
    },
    {
     "name": "stdout",
     "output_type": "stream",
     "text": [
      "363422\n"
     ]
    },
    {
     "name": "stderr",
     "output_type": "stream",
     "text": [
      "\n",
      " 88%|████████▊ | 35/40 [00:15<00:02,  2.42it/s]\u001b[A"
     ]
    },
    {
     "name": "stdout",
     "output_type": "stream",
     "text": [
      "388306\n"
     ]
    },
    {
     "name": "stderr",
     "output_type": "stream",
     "text": [
      "\n",
      " 90%|█████████ | 36/40 [00:15<00:01,  2.43it/s]\u001b[A"
     ]
    },
    {
     "name": "stdout",
     "output_type": "stream",
     "text": [
      "2414990\n"
     ]
    },
    {
     "name": "stderr",
     "output_type": "stream",
     "text": [
      "\n",
      " 92%|█████████▎| 37/40 [00:15<00:01,  2.44it/s]\u001b[A"
     ]
    },
    {
     "name": "stdout",
     "output_type": "stream",
     "text": [
      "50393\n"
     ]
    },
    {
     "name": "stderr",
     "output_type": "stream",
     "text": [
      "\n",
      " 95%|█████████▌| 38/40 [00:16<00:00,  2.45it/s]\u001b[A"
     ]
    },
    {
     "name": "stdout",
     "output_type": "stream",
     "text": [
      "1873206\n"
     ]
    },
    {
     "name": "stderr",
     "output_type": "stream",
     "text": [
      "\n",
      " 98%|█████████▊| 39/40 [00:16<00:00,  2.46it/s]\u001b[A"
     ]
    },
    {
     "name": "stdout",
     "output_type": "stream",
     "text": [
      "331606\n"
     ]
    },
    {
     "name": "stderr",
     "output_type": "stream",
     "text": [
      "\n",
      "100%|██████████| 40/40 [00:17<00:00,  2.32it/s]\u001b[A"
     ]
    },
    {
     "name": "stdout",
     "output_type": "stream",
     "text": [
      "27424\n"
     ]
    },
    {
     "name": "stderr",
     "output_type": "stream",
     "text": [
      "\n",
      "100%|██████████| 3/3 [06:05<00:00, 121.90s/it]\n"
     ]
    }
   ],
   "source": [
    "\n",
    "print(\"segmentation\")\n",
    "\n",
    "dico_param = {}\n",
    "dico_param[\"diameter\"] = 230\n",
    "dico_param[\"flow_threshold\"] = 0.6\n",
    "dico_param[\"mask_threshold\"] = 0\n",
    "dico_param[\"do_3D\"] = False\n",
    "dico_param[\"mip\"] = False\n",
    "dico_param[\"projected_focused\"] = False\n",
    "dico_param[\"stitch_threshold\"] = 0.3\n",
    "dico_param[\"erase_solitary\"] = True\n",
    "dico_param[\"erase_small_nuclei\"] = 300\n",
    "dico_param[\"model_type\"] = \"cyto\"\n",
    "dico_param[\"gpu\"] = True\n",
    "\n",
    "segment_nuclei(path_to_staining=path_to_staining,\n",
    "               regex_staining=regex_staining,\n",
    "               path_to_mask=path_to_mask,\n",
    "               dico_param=dico_param,\n",
    "               save=True,\n",
    "               )"
   ]
  },
  {
   "cell_type": "code",
   "execution_count": 5,
   "id": "59db4dd3",
   "metadata": {},
   "outputs": [
    {
     "name": "stdout",
     "output_type": "stream",
     "text": [
      "/media/tom/Transcend/autofish/2023-07-04_AutoFISH-SABER/segmentation_mask\n",
      "\u001b[01;34m.\u001b[00m\n",
      "├── \u001b[01;32mdico_param.npy\u001b[00m\n",
      "├── \u001b[01;32mr1_pos0_ch0.tif.tif\u001b[00m\n",
      "├── \u001b[01;32mr1_pos1_ch0.tif.tif\u001b[00m\n",
      "└── \u001b[01;32mr1_pos2_ch0.tif.tif\u001b[00m\n",
      "\n",
      "0 directories, 4 files\n"
     ]
    }
   ],
   "source": [
    "%cd $path_to_mask \n",
    "!tree"
   ]
  },
  {
   "cell_type": "code",
   "execution_count": null,
   "id": "27b254e0",
   "metadata": {},
   "outputs": [],
   "source": []
  }
 ],
 "metadata": {
  "kernelspec": {
   "display_name": "bigfish38_samm",
   "language": "python",
   "name": "bigfish38_samm"
  },
  "language_info": {
   "codemirror_mode": {
    "name": "ipython",
    "version": 3
   },
   "file_extension": ".py",
   "mimetype": "text/x-python",
   "name": "python",
   "nbconvert_exporter": "python",
   "pygments_lexer": "ipython3",
   "version": "3.8.8"
  }
 },
 "nbformat": 4,
 "nbformat_minor": 5
}
