{
 "cells": [
  {
   "cell_type": "markdown",
   "metadata": {},
   "source": [
    "# Segmentation\n",
    "\n",
    "Optionally, we can perform segmentation of cells or nuclei segmentation \\\n",
    "Chose a reference round to apply segmentation. Then all the detected spots will be register to this reference round in the following step.\n",
    "\n",
    "\n",
    "Use the function **folder_segmentation** to apply [Cellpose](https://cellpose.readthedocs.io/en/latest/settings.html) on all the position of a round and save the segmentation mask with the autoFISH naming convention.\n"
   ]
  },
  {
   "cell_type": "code",
   "execution_count": 1,
   "metadata": {},
   "outputs": [],
   "source": [
    "from autofish_analysis.segmentation import folder_segmentation\n",
    "from cellpose import models\n",
    "from pathlib import Path"
   ]
  },
  {
   "cell_type": "code",
   "execution_count": 2,
   "metadata": {},
   "outputs": [],
   "source": [
    "\n",
    "#Path to the folder where you want segmentation mask to be saved\n",
    "path_to_mask = \"/media/tom/Transcend/autofish_test_stiching/segmentation_mask\"\n",
    "\n",
    "## path to the reference round containing the staining for segmentation\n",
    "path_to_staining = \"/media/tom/Transcend/autofish_test/r1/\" \n",
    "\n",
    "## chose between nuclei and cyto\n",
    "model_type = \"cyto\" \n",
    "\n",
    "\n",
    "#regular expression to choose the channel containing the staining you want to segment\n",
    "regex_staining = '*ch0*' \n",
    "\n",
    "## True if you have a GPU\n",
    "gpu=True"
   ]
  },
  {
   "cell_type": "code",
   "execution_count": null,
   "metadata": {},
   "outputs": [
    {
     "name": "stdout",
     "output_type": "stream",
     "text": [
      "segmentation\n",
      "[PosixPath('/media/tom/Transcend/autofish_test/r1/r1_pos0_ch0.tif'), PosixPath('/media/tom/Transcend/autofish_test/r1/r1_pos1_ch0.tif'), PosixPath('/media/tom/Transcend/autofish_test/r1/r1_pos2_ch0.tif')]\n",
      "dico_param{'diameter': 230, 'flow_threshold': 0.6, 'mask_threshold': 0, 'do_3D': False, 'mip': False, 'projected_focused': False, 'stitch_threshold': 0.3, 'erase_solitary': True, 'erase_small_nuclei': 300, 'model_type': 'cyto', 'gpu': True}\n"
     ]
    },
    {
     "name": "stderr",
     "output_type": "stream",
     "text": [
      "\r",
      "  0%|                                                                                                                                                                                                             | 0/3 [00:00<?, ?it/s]"
     ]
    },
    {
     "name": "stdout",
     "output_type": "stream",
     "text": [
      "/media/tom/Transcend/autofish_test/r1/r1_pos0_ch0.tif\n",
      "(32, 2048, 2048)\n",
      "image dapi shape after reshape (32, 1, 2048, 2048)\n"
     ]
    }
   ],
   "source": [
    "\n",
    "print(\"segmentation\")\n",
    "\n",
    "### dico_param contain the cellpose parameter https://cellpose.readthedocs.io/en/latest/settings.html\n",
    "dico_param = {}\n",
    "dico_param[\"diameter\"] = 230\n",
    "dico_param[\"flow_threshold\"] = 0.6\n",
    "dico_param[\"mask_threshold\"] = 0\n",
    "dico_param[\"do_3D\"] = False\n",
    "dico_param[\"mip\"] = False\n",
    "dico_param[\"projected_focused\"] = False\n",
    "dico_param[\"stitch_threshold\"] = 0.3\n",
    "dico_param[\"erase_solitary\"] = True\n",
    "dico_param[\"erase_small_nuclei\"] = 300\n",
    "dico_param[\"model_type\"] = \"cyto\"\n",
    "dico_param[\"gpu\"] = True\n",
    "\n",
    "folder_segmentation(path_to_staining=path_to_staining,\n",
    "               regex_staining=regex_staining,\n",
    "               path_to_mask=path_to_mask,\n",
    "               dico_param=dico_param,\n",
    "               )"
   ]
  },
  {
   "cell_type": "code",
   "execution_count": null,
   "metadata": {},
   "outputs": [],
   "source": [
    "%cd $path_to_mask \n",
    "!tree"
   ]
  }
 ],
 "metadata": {
  "kernelspec": {
   "display_name": "autofish_analysis",
   "language": "python",
   "name": "autofish_analysis"
  },
  "language_info": {
   "codemirror_mode": {
    "name": "ipython",
    "version": 3
   },
   "file_extension": ".py",
   "mimetype": "text/x-python",
   "name": "python",
   "nbconvert_exporter": "python",
   "pygments_lexer": "ipython3",
   "version": "3.8.8"
  }
 },
 "nbformat": 4,
 "nbformat_minor": 5
}
