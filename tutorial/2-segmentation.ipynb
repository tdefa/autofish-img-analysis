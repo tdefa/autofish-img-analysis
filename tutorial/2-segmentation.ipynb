{
 "cells": [
  {
   "cell_type": "markdown",
   "id": "9a5d4a3f",
   "metadata": {},
   "source": [
    "# Segmentation\n",
    "\n",
    "Optionally, we can perform segmentation cell or nuclei segmentation \\\n",
    "Chose a reference round to apply segmentation. Then all the detected spots will be register to this refenrence round in the following step.\n",
    "\n",
    "\n",
    "Use use th function **folder_segmentation** to apply Cellpose on all the position of a round and save the segmentation mask with our naming convention.\n",
    "\n",
    "\n"
   ]
  },
  {
   "cell_type": "code",
   "execution_count": 3,
   "id": "db325460",
   "metadata": {},
   "outputs": [],
   "source": [
    "from autofish_analysis.segmentation import folder_segmentation\n",
    "from cellpose import models\n",
    "from pathlib import Path"
   ]
  },
  {
   "cell_type": "code",
   "execution_count": 5,
   "id": "a38a26e5",
   "metadata": {},
   "outputs": [
    {
     "ename": "AttributeError",
     "evalue": "module 'cellpose' has no attribute '__version__'",
     "output_type": "error",
     "traceback": [
      "\u001b[0;31m---------------------------------------------------------------------------\u001b[0m",
      "\u001b[0;31mAttributeError\u001b[0m                            Traceback (most recent call last)",
      "Cell \u001b[0;32mIn[5], line 2\u001b[0m\n\u001b[1;32m      1\u001b[0m \u001b[38;5;28;01mimport\u001b[39;00m \u001b[38;5;21;01mcellpose\u001b[39;00m\n\u001b[0;32m----> 2\u001b[0m \u001b[43mcellpose\u001b[49m\u001b[38;5;241;43m.\u001b[39;49m\u001b[43m__version__\u001b[49m\n",
      "\u001b[0;31mAttributeError\u001b[0m: module 'cellpose' has no attribute '__version__'"
     ]
    }
   ],
   "source": [
    "import cellpose\n",
    "cellpose.__version__"
   ]
  },
  {
   "cell_type": "code",
   "execution_count": 1,
   "id": "509772f7",
   "metadata": {},
   "outputs": [],
   "source": [
    "\n",
    "#Path to the folder where you want segmentation mask to be saved\n",
    "path_to_mask = \"/media/tom/Transcend/autofish_test_stiching/segmentation_mask\"\n",
    "\n",
    "## path to the refenrence round containing the staining for segmentation\n",
    "path_to_staining = \"/media/tom/Transcend/autofish_test/r1/\" \n",
    "\n",
    "## chose between nuclei and cyto\n",
    "model_type = \"cyto\" \n",
    "\n",
    "\n",
    "#regular expression to choose the channel containing the staining you wnat to segment\n",
    "regex_staining = '*ch0*' \n",
    "\n",
    "## True if you have a GPU\n",
    "gpu=True"
   ]
  },
  {
   "cell_type": "code",
   "execution_count": null,
   "id": "448740da",
   "metadata": {},
   "outputs": [
    {
     "name": "stdout",
     "output_type": "stream",
     "text": [
      "segmentation\n",
      "[PosixPath('/media/tom/Transcend/autofish_test/r2/r2_pos0_ch0.tif'), PosixPath('/media/tom/Transcend/autofish_test/r2/r2_pos1_ch0.tif'), PosixPath('/media/tom/Transcend/autofish_test/r2/r2_pos2_ch0.tif')]\n",
      "dico_param{'diameter': 230, 'flow_threshold': 0.6, 'mask_threshold': 0, 'do_3D': False, 'mip': False, 'projected_focused': False, 'stitch_threshold': 0.3, 'erase_solitary': True, 'erase_small_nuclei': 300, 'model_type': 'cyto', 'gpu': True}\n"
     ]
    },
    {
     "name": "stderr",
     "output_type": "stream",
     "text": [
      "\r",
      "  0%|                                                                                                                                                                                                                                                                                             | 0/3 [00:00<?, ?it/s]"
     ]
    },
    {
     "name": "stdout",
     "output_type": "stream",
     "text": [
      "/media/tom/Transcend/autofish_test/r2/r2_pos0_ch0.tif\n",
      "(32, 2048, 2048)\n",
      "image dapi shape after reshape (32, 1, 2048, 2048)\n"
     ]
    }
   ],
   "source": [
    "\n",
    "print(\"segmentation\")\n",
    "\n",
    "### dico_param contain the cellpose parameter https://cellpose.readthedocs.io/en/latest/settings.html\n",
    "dico_param = {}\n",
    "dico_param[\"diameter\"] = 230\n",
    "dico_param[\"flow_threshold\"] = 0.6\n",
    "dico_param[\"mask_threshold\"] = 0\n",
    "dico_param[\"do_3D\"] = False\n",
    "dico_param[\"mip\"] = False\n",
    "dico_param[\"projected_focused\"] = False\n",
    "dico_param[\"stitch_threshold\"] = 0.3\n",
    "dico_param[\"erase_solitary\"] = True\n",
    "dico_param[\"erase_small_nuclei\"] = 300\n",
    "dico_param[\"model_type\"] = \"cyto\"\n",
    "dico_param[\"gpu\"] = True\n",
    "\n",
    "folder_segmentation(path_to_staining=path_to_staining,\n",
    "               regex_staining=regex_staining,\n",
    "               path_to_mask=path_to_mask,\n",
    "               dico_param=dico_param,\n",
    "               )"
   ]
  },
  {
   "cell_type": "code",
   "execution_count": 3,
   "id": "32c4f60f",
   "metadata": {},
   "outputs": [
    {
     "name": "stdout",
     "output_type": "stream",
     "text": [
      "/media/tom/Transcend/autofish_test_stiching/segmentation_mask\n",
      "\u001b[01;34m.\u001b[00m\n",
      "├── \u001b[01;32mdico_param.npy\u001b[00m\n",
      "├── \u001b[01;32mr1_pos0_ch0.tif.tif\u001b[00m\n",
      "└── \u001b[01;32mr1_pos1_ch0.tif.tif\u001b[00m\n",
      "\n",
      "0 directories, 3 files\n"
     ]
    }
   ],
   "source": [
    "%cd $path_to_mask \n",
    "!tree"
   ]
  },
  {
   "cell_type": "code",
   "execution_count": null,
   "id": "6590d5d7",
   "metadata": {},
   "outputs": [],
   "source": []
  }
 ],
 "metadata": {
  "kernelspec": {
   "display_name": "bigfish38_samm",
   "language": "python",
   "name": "bigfish38_samm"
  },
  "language_info": {
   "codemirror_mode": {
    "name": "ipython",
    "version": 3
   },
   "file_extension": ".py",
   "mimetype": "text/x-python",
   "name": "python",
   "nbconvert_exporter": "python",
   "pygments_lexer": "ipython3",
   "version": "3.8.8"
  }
 },
 "nbformat": 4,
 "nbformat_minor": 5
}
