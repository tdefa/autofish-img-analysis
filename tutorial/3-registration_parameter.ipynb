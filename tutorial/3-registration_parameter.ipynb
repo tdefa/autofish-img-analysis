{
 "cells": [
  {
   "cell_type": "markdown",
   "metadata": {},
   "source": [
    "# registration with background signal\n",
    "\n",
    "Images from different round might be translated of few µm.\n",
    "\n",
    "We compute the translation vector between rounds using the background signal.\n",
    "This image registration rely on the ITK Library : https://simpleitk.org/\n",
    "\n"
   ]
  },
  {
   "cell_type": "markdown",
   "metadata": {},
   "source": [
    "The function **folder_translation** compute for all the images in ***folder_of_rounds***\n",
    " the translation to be alligned with ***fixed_round_name***.\\\n",
    " The rotation angle thetha is computed but ignore in pratice as negligible\\\n",
    " folder_translation returns a dictionary such as\n",
    " \n",
    " **dict_translation[positon][fixed_round_name][target_round] = {'thetha': _, 'x_translation': _ ,'y_translation': _}**\n",
    "\n",
    "Where thetha is the rotation between round. The rotation is negligible in pratice but we still compute it as additional checking"
   ]
  },
  {
   "cell_type": "code",
   "execution_count": 2,
   "metadata": {},
   "outputs": [],
   "source": [
    "import numpy as np\n",
    "from pathlib import Path\n",
    "import importlib\n",
    "from autofish_analysis.registration import folder_translation, spots_registration"
   ]
  },
  {
   "cell_type": "code",
   "execution_count": 3,
   "metadata": {},
   "outputs": [],
   "source": [
    "##################\n",
    "#Parameters\n",
    "#####################\n",
    "\n",
    "folder_of_rounds = \"/media/tom/Transcend/autofish_test_stiching/\"\n",
    "fixed_round_name = \"r1\" #all images will be registered with this round\n",
    "chanel_regex = \"*ch0*\"\n",
    "folder_regex = \"[^r]*\"\n",
    "\n",
    "registration_repeat=5\n",
    "position_naming =True\n",
    "sigma_gaussian_filter = 0.75 "
   ]
  },
  {
   "cell_type": "code",
   "execution_count": 4,
   "metadata": {},
   "outputs": [
    {
     "name": "stderr",
     "output_type": "stream",
     "text": [
      "\r",
      "  0%|                                                                                                                                                                                                                                                                                                                                                                                                                                                            | 0/11 [00:00<?, ?it/s]"
     ]
    },
    {
     "name": "stdout",
     "output_type": "stream",
     "text": [
      "\n",
      "r1_pos0_ch0.tif\n",
      "r3\n",
      "(-0.0022807617826957373, -0.6718586793805155, 3.064116053657369)\n",
      "Final metric value: -1.4740863338502452\n",
      "Optimizer's stopping condition, GradientDescentOptimizerv4Template: Convergence checker passed at iteration 15.\n",
      "(-0.0015514409994268606, -3.740744504536488, 3.327549633994528)\n",
      "Final metric value: -1.5069530196595182\n",
      "Optimizer's stopping condition, GradientDescentOptimizerv4Template: Convergence checker passed at iteration 13.\n",
      "(-0.001936787746516705, -0.7790013927424124, 2.8570000088529106)\n",
      "Final metric value: -1.5001184381010664\n",
      "Optimizer's stopping condition, GradientDescentOptimizerv4Template: Convergence checker passed at iteration 16.\n",
      "(-0.0020852653748722615, -1.0239925843167679, 2.833657814569571)\n",
      "Final metric value: -1.5158322228873098\n",
      "Optimizer's stopping condition, GradientDescentOptimizerv4Template: Convergence checker passed at iteration 17.\n"
     ]
    },
    {
     "name": "stderr",
     "output_type": "stream",
     "text": [
      "\r",
      "  9%|███████████████████████████████████████▋                                                                                                                                                                                                                                                                                                                                                                                                            | 1/11 [00:25<04:19, 25.95s/it]"
     ]
    },
    {
     "name": "stdout",
     "output_type": "stream",
     "text": [
      "(-0.0021679427618246047, -0.8336070902120961, 2.381898241232337)\n",
      "Final metric value: -1.5329149764076604\n",
      "Optimizer's stopping condition, GradientDescentOptimizerv4Template: Convergence checker passed at iteration 16.\n",
      "\n",
      "r1_pos10_ch0.tif\n",
      "r3\n",
      "(-0.0009768703865671272, 4.1332996662863275, -0.464307524134445)\n",
      "Final metric value: -1.5351544112523137\n",
      "Optimizer's stopping condition, GradientDescentOptimizerv4Template: Convergence checker passed at iteration 16.\n",
      "(-0.0012833485030405336, 6.171567482005512, 3.715768078093889)\n",
      "Final metric value: -1.4979543341325563\n",
      "Optimizer's stopping condition, GradientDescentOptimizerv4Template: Convergence checker passed at iteration 9.\n",
      "(-0.0011762455488805853, 9.692972197091537, 9.164012033499617)\n",
      "Final metric value: -1.38152026817493\n",
      "Optimizer's stopping condition, GradientDescentOptimizerv4Template: Convergence checker passed at iteration 9.\n",
      "(-0.0006865989140331083, 3.974928912015331, 0.4536965119380571)\n",
      "Final metric value: -1.5651031009970697\n",
      "Optimizer's stopping condition, GradientDescentOptimizerv4Template: Convergence checker passed at iteration 25.\n"
     ]
    },
    {
     "name": "stderr",
     "output_type": "stream",
     "text": [
      "\r",
      " 18%|███████████████████████████████████████████████████████████████████████████████▎                                                                                                                                                                                                                                                                                                                                                                    | 2/11 [00:46<03:23, 22.61s/it]"
     ]
    },
    {
     "name": "stdout",
     "output_type": "stream",
     "text": [
      "(-0.0011202894216676771, 4.923209913606265, 1.0482598220881578)\n",
      "Final metric value: -1.5601365971009893\n",
      "Optimizer's stopping condition, GradientDescentOptimizerv4Template: Convergence checker passed at iteration 11.\n",
      "\n",
      "r1_pos1_ch0.tif\n",
      "r3\n",
      "(0.0009840502196540944, -0.3352293097429821, 4.548725045274362)\n",
      "Final metric value: -1.1864628141746298\n",
      "Optimizer's stopping condition, GradientDescentOptimizerv4Template: Convergence checker passed at iteration 32.\n",
      "(0.0007920128419465855, -0.09948944799286036, 4.2713597309234)\n",
      "Final metric value: -1.194912269758415\n",
      "Optimizer's stopping condition, GradientDescentOptimizerv4Template: Convergence checker passed at iteration 27.\n",
      "(0.0007435211966605393, 0.044334771992039154, 4.380033575290776)\n",
      "Final metric value: -1.1945746630237237\n",
      "Optimizer's stopping condition, GradientDescentOptimizerv4Template: Convergence checker passed at iteration 25.\n",
      "(0.0009857273786596861, 0.07628099648511688, 4.242983708366299)\n",
      "Final metric value: -1.1996497028805524\n",
      "Optimizer's stopping condition, GradientDescentOptimizerv4Template: Convergence checker passed at iteration 31.\n"
     ]
    },
    {
     "name": "stderr",
     "output_type": "stream",
     "text": [
      "\r",
      " 27%|██████████████████████████████████████████████████████████████████████████████████████████████████████████████████████▉                                                                                                                                                                                                                                                                                                                             | 3/11 [01:16<03:27, 25.91s/it]"
     ]
    },
    {
     "name": "stdout",
     "output_type": "stream",
     "text": [
      "(0.0011312838775974334, -0.8055300384509161, 4.429831299558037)\n",
      "Final metric value: -1.2019579367165216\n",
      "Optimizer's stopping condition, GradientDescentOptimizerv4Template: Convergence checker passed at iteration 12.\n",
      "\n",
      "r1_pos2_ch0.tif\n",
      "r3\n",
      "(0.0003779877882045499, -0.22223171539665543, 2.6169338931345054)\n",
      "Final metric value: -1.4077723302379344\n",
      "Optimizer's stopping condition, GradientDescentOptimizerv4Template: Convergence checker passed at iteration 17.\n",
      "(8.934274740901197e-05, 9.265053368868028, 10.343435346716626)\n",
      "Final metric value: -1.329265106241735\n",
      "Optimizer's stopping condition, GradientDescentOptimizerv4Template: Convergence checker passed at iteration 9.\n",
      "(0.0003536358746207762, -5.903607898881033, -0.8774437168475036)\n",
      "Final metric value: -1.3579234824177726\n",
      "Optimizer's stopping condition, GradientDescentOptimizerv4Template: Convergence checker passed at iteration 9.\n",
      "(0.000313825721651516, -3.531599704375541, -0.16643511073294182)\n",
      "Final metric value: -1.4014765203246142\n",
      "Optimizer's stopping condition, GradientDescentOptimizerv4Template: Convergence checker passed at iteration 9.\n"
     ]
    },
    {
     "name": "stderr",
     "output_type": "stream",
     "text": [
      "\r",
      " 36%|██████████████████████████████████████████████████████████████████████████████████████████████████████████████████████████████████████████████████████████████▌                                                                                                                                                                                                                                                                                     | 4/11 [01:34<02:40, 22.90s/it]"
     ]
    },
    {
     "name": "stdout",
     "output_type": "stream",
     "text": [
      "(0.001318141144989092, 0.3545587571971748, 3.12281726582696)\n",
      "Final metric value: -1.3958166853654153\n",
      "Optimizer's stopping condition, GradientDescentOptimizerv4Template: Convergence checker passed at iteration 23.\n",
      "\n",
      "r1_pos3_ch0.tif\n",
      "r3\n",
      "(5.9600737271709977e-05, -8.827780693747417, 0.7576830727814957)\n",
      "Final metric value: -1.0837064140907013\n",
      "Optimizer's stopping condition, GradientDescentOptimizerv4Template: Convergence checker passed at iteration 9.\n",
      "(-0.0005205648803728448, -0.7071244769358556, -0.39318417004380546)\n",
      "Final metric value: -1.1762435242411178\n",
      "Optimizer's stopping condition, GradientDescentOptimizerv4Template: Convergence checker passed at iteration 9.\n",
      "(-0.0014616162870722757, 18.460259519681728, 2.263667191380332)\n",
      "Final metric value: -0.9976800432558182\n",
      "Optimizer's stopping condition, GradientDescentOptimizerv4Template: Convergence checker passed at iteration 9.\n",
      "(0.0010406694893694036, -8.264554842935905, 5.480151054126074)\n",
      "Final metric value: -1.0935922959906306\n",
      "Optimizer's stopping condition, GradientDescentOptimizerv4Template: Convergence checker passed at iteration 9.\n"
     ]
    },
    {
     "name": "stderr",
     "output_type": "stream",
     "text": [
      "\r",
      " 45%|██████████████████████████████████████████████████████████████████████████████████████████████████████████████████████████████████████████████████████████████████████████████████████████████████████▏                                                                                                                                                                                                                                             | 5/11 [01:57<02:17, 22.94s/it]"
     ]
    },
    {
     "name": "stdout",
     "output_type": "stream",
     "text": [
      "(0.0013862958234484289, -22.157635276214993, 10.290029266112795)\n",
      "Final metric value: -0.8443413303865444\n",
      "Optimizer's stopping condition, GradientDescentOptimizerv4Template: Convergence checker passed at iteration 9.\n",
      "\n",
      "r1_pos4_ch0.tif\n",
      "r3\n",
      "(0.00018585099730033524, -10.212209644981069, -21.71286842094878)\n",
      "Final metric value: -0.8976585038956834\n",
      "Optimizer's stopping condition, GradientDescentOptimizerv4Template: Convergence checker passed at iteration 9.\n",
      "(-0.0010689017862685257, 2.565448137127555, 1.4850731154608836)\n",
      "Final metric value: -1.3068019491492018\n",
      "Optimizer's stopping condition, GradientDescentOptimizerv4Template: Convergence checker passed at iteration 14.\n",
      "(-0.0008887752020995245, 2.271441650748758, 1.4523140746710235)\n",
      "Final metric value: -1.3270681561527535\n",
      "Optimizer's stopping condition, GradientDescentOptimizerv4Template: Convergence checker passed at iteration 18.\n",
      "(-0.0010846131316068891, 0.7247451915829668, 0.07475569872333532)\n",
      "Final metric value: -1.3133412737661674\n",
      "Optimizer's stopping condition, GradientDescentOptimizerv4Template: Convergence checker passed at iteration 14.\n"
     ]
    },
    {
     "name": "stderr",
     "output_type": "stream",
     "text": [
      "\r",
      " 55%|█████████████████████████████████████████████████████████████████████████████████████████████████████████████████████████████████████████████████████████████████████████████████████████████████████████████████████████████████████████████▊                                                                                                                                                                                                      | 6/11 [02:25<02:02, 24.55s/it]"
     ]
    },
    {
     "name": "stdout",
     "output_type": "stream",
     "text": [
      "(-0.0009383601398921282, 2.4498021374274255, 1.4507238571482965)\n",
      "Final metric value: -1.3299701078249409\n",
      "Optimizer's stopping condition, GradientDescentOptimizerv4Template: Convergence checker passed at iteration 22.\n",
      "\n",
      "r1_pos5_ch0.tif\n",
      "r3\n",
      "(0.00012118165815424794, 1.8904050946099098, -0.6218486303975073)\n",
      "Final metric value: -1.4419147071624585\n",
      "Optimizer's stopping condition, GradientDescentOptimizerv4Template: Convergence checker passed at iteration 14.\n",
      "(-0.00010904844416857666, 5.47999829312654, 4.859919870108888)\n",
      "Final metric value: -1.347813834576832\n",
      "Optimizer's stopping condition, GradientDescentOptimizerv4Template: Convergence checker passed at iteration 9.\n",
      "(0.00022818165300147227, 8.25932332498466, 10.859125103377961)\n",
      "Final metric value: -1.2954859434346615\n",
      "Optimizer's stopping condition, GradientDescentOptimizerv4Template: Convergence checker passed at iteration 9.\n",
      "(-0.00021205207797994505, 17.400502437239197, 21.82871282424553)\n",
      "Final metric value: -1.0573023477757713\n",
      "Optimizer's stopping condition, GradientDescentOptimizerv4Template: Convergence checker passed at iteration 9.\n"
     ]
    },
    {
     "name": "stderr",
     "output_type": "stream",
     "text": [
      "\r",
      " 64%|█████████████████████████████████████████████████████████████████████████████████████████████████████████████████████████████████████████████████████████████████████████████████████████████████████████████████████████████████████████████████████████████████████████████████████▍                                                                                                                                                              | 7/11 [02:54<01:45, 26.30s/it]"
     ]
    },
    {
     "name": "stdout",
     "output_type": "stream",
     "text": [
      "(0.00014680134580062317, 1.9826979491413965, -4.007229283418862)\n",
      "Final metric value: -1.4352290400600984\n",
      "Optimizer's stopping condition, GradientDescentOptimizerv4Template: Convergence checker passed at iteration 9.\n",
      "\n",
      "r1_pos6_ch0.tif\n",
      "r3\n",
      "(0.00048457719606417307, 2.5799134756181608, -1.8120440977720238)\n",
      "Final metric value: -1.3705766394780527\n",
      "Optimizer's stopping condition, GradientDescentOptimizerv4Template: Convergence checker passed at iteration 11.\n",
      "(0.0010801796159726866, -13.484859327072726, 12.284141838321183)\n",
      "Final metric value: -1.0794444797935647\n",
      "Optimizer's stopping condition, GradientDescentOptimizerv4Template: Convergence checker passed at iteration 9.\n",
      "(0.0009571762689237174, -4.65617565477033, 5.434824295343299)\n",
      "Final metric value: -1.2720863899972976\n",
      "Optimizer's stopping condition, GradientDescentOptimizerv4Template: Convergence checker passed at iteration 9.\n",
      "(0.00019093285019014842, 8.762405653385075, -4.4766937611149125)\n",
      "Final metric value: -1.3646379119505296\n",
      "Optimizer's stopping condition, GradientDescentOptimizerv4Template: Convergence checker passed at iteration 9.\n"
     ]
    },
    {
     "name": "stderr",
     "output_type": "stream",
     "text": [
      "\r",
      " 73%|█████████████████████████████████████████████████████████████████████████████████████████████████████████████████████████████████████████████████████████████████████████████████████████████████████████████████████████████████████████████████████████████████████████████████████████████████████████████████████████████                                                                                                                       | 8/11 [03:29<01:27, 29.03s/it]"
     ]
    },
    {
     "name": "stdout",
     "output_type": "stream",
     "text": [
      "(0.0007013270020204045, 11.274263340775047, -6.17804500083892)\n",
      "Final metric value: -1.2698030985018864\n",
      "Optimizer's stopping condition, GradientDescentOptimizerv4Template: Convergence checker passed at iteration 9.\n",
      "\n",
      "r1_pos7_ch0.tif\n",
      "r3\n",
      "(-0.00014834808595124379, 4.9350530844223695, -1.4807101418519315)\n",
      "Final metric value: -1.2747536085186253\n",
      "Optimizer's stopping condition, GradientDescentOptimizerv4Template: Convergence checker passed at iteration 36.\n",
      "(7.904878543900663e-05, 4.165320946487928, -1.2303219656434676)\n",
      "Final metric value: -1.2645062526819868\n",
      "Optimizer's stopping condition, GradientDescentOptimizerv4Template: Convergence checker passed at iteration 12.\n",
      "(6.096775208889831e-05, 5.6728168368106715, -1.926735235455245)\n",
      "Final metric value: -1.2704784621829985\n",
      "Optimizer's stopping condition, GradientDescentOptimizerv4Template: Convergence checker passed at iteration 19.\n",
      "(-0.00034606307084169413, 4.955600611566973, -1.3450320979192547)\n",
      "Final metric value: -1.2839707807889202\n",
      "Optimizer's stopping condition, GradientDescentOptimizerv4Template: Convergence checker passed at iteration 16.\n"
     ]
    },
    {
     "name": "stderr",
     "output_type": "stream",
     "text": [
      "\r",
      " 82%|████████████████████████████████████████████████████████████████████████████████████████████████████████████████████████████████████████████████████████████████████████████████████████████████████████████████████████████████████████████████████████████████████████████████████████████████████████████████████████████████████████████████████████████████████▋                                                                               | 9/11 [03:53<00:54, 27.23s/it]"
     ]
    },
    {
     "name": "stdout",
     "output_type": "stream",
     "text": [
      "(-0.00022802530905362766, 4.9117307025602654, -1.4016096807353093)\n",
      "Final metric value: -1.280810006800452\n",
      "Optimizer's stopping condition, GradientDescentOptimizerv4Template: Convergence checker passed at iteration 16.\n",
      "\n",
      "r1_pos8_ch0.tif\n",
      "r3\n",
      "(0.0005051307976683672, 3.6374046350199687, -1.2584308876937005)\n",
      "Final metric value: -1.3792573283717733\n",
      "Optimizer's stopping condition, GradientDescentOptimizerv4Template: Convergence checker passed at iteration 13.\n",
      "(0.0012806465677908953, 3.0580165594639865, -1.9443268106186447)\n",
      "Final metric value: -1.3438857412243725\n",
      "Optimizer's stopping condition, GradientDescentOptimizerv4Template: Convergence checker passed at iteration 28.\n",
      "(0.0009974246739216416, 2.709483344638706, -1.5843117077959323)\n",
      "Final metric value: -1.3470106827513104\n",
      "Optimizer's stopping condition, GradientDescentOptimizerv4Template: Convergence checker passed at iteration 19.\n",
      "(0.000990410201980121, 3.0530113431392505, -1.508257594552976)\n",
      "Final metric value: -1.2910132727110057\n",
      "Optimizer's stopping condition, GradientDescentOptimizerv4Template: Convergence checker passed at iteration 12.\n"
     ]
    },
    {
     "name": "stderr",
     "output_type": "stream",
     "text": [
      "\r",
      " 91%|███████████████████████████████████████████████████████████████████████████████████████████████████████████████████████████████████████████████████████████████████████████████████████████████████████████████████████████████████████████████████████████████████████████████████████████████████████████████████████████████████████████████████████████████████████████████████████████████████████████▍                                       | 10/11 [04:17<00:26, 26.31s/it]"
     ]
    },
    {
     "name": "stdout",
     "output_type": "stream",
     "text": [
      "(0.0003480871352535206, 13.617264540671494, -3.4548418225963085)\n",
      "Final metric value: -1.2022722529395127\n",
      "Optimizer's stopping condition, GradientDescentOptimizerv4Template: Convergence checker passed at iteration 9.\n",
      "\n",
      "r1_pos9_ch0.tif\n",
      "r3\n",
      "(-0.0016016163502688174, 4.835327515851164, 2.0530979864061107)\n",
      "Final metric value: -1.3808874065262007\n",
      "Optimizer's stopping condition, GradientDescentOptimizerv4Template: Convergence checker passed at iteration 22.\n",
      "(-0.0015531448503560232, 4.6842218728462015, 2.499450541333249)\n",
      "Final metric value: -1.3866106637864282\n",
      "Optimizer's stopping condition, GradientDescentOptimizerv4Template: Convergence checker passed at iteration 18.\n",
      "(-0.0012811220849904368, 5.0578614733488045, 2.336971691397639)\n",
      "Final metric value: -1.3910090284424503\n",
      "Optimizer's stopping condition, GradientDescentOptimizerv4Template: Convergence checker passed at iteration 13.\n",
      "(-0.0015106521590014885, 4.757011851924368, 1.9009700327372023)\n",
      "Final metric value: -1.3762813907389437\n",
      "Optimizer's stopping condition, GradientDescentOptimizerv4Template: Convergence checker passed at iteration 23.\n"
     ]
    },
    {
     "name": "stderr",
     "output_type": "stream",
     "text": [
      "100%|███████████████████████████████████████████████████████████████████████████████████████████████████████████████████████████████████████████████████████████████████████████████████████████████████████████████████████████████████████████████████████████████████████████████████████████████████████████████████████████████████████████████████████████████████████████████████████████████████████████████████████████████████████████████████| 11/11 [04:54<00:00, 26.78s/it]"
     ]
    },
    {
     "name": "stdout",
     "output_type": "stream",
     "text": [
      "(-0.0015845121678303388, 4.974753955520985, 2.103182040589838)\n",
      "Final metric value: -1.3905713464153555\n",
      "Optimizer's stopping condition, GradientDescentOptimizerv4Template: Convergence checker passed at iteration 16.\n"
     ]
    },
    {
     "name": "stderr",
     "output_type": "stream",
     "text": [
      "\n"
     ]
    }
   ],
   "source": [
    "dict_translation = folder_translation(folder_of_rounds=folder_of_rounds,  # works ok\n",
    "                                      fixed_round_name=fixed_round_name,\n",
    "                                      folder_regex=folder_regex,\n",
    "                                      chanel_regex=chanel_regex,\n",
    "                                      registration_repeat=5,\n",
    "                                      position_naming =True,\n",
    "                                     sigma_gaussian_filter = sigma_gaussian_filter)\n",
    "\n",
    "np.save(f\"{folder_of_rounds}/dict_translation_ref_{fixed_round_name}.npy\", dict_translation)"
   ]
  },
  {
   "cell_type": "markdown",
   "metadata": {},
   "source": [
    "## plotting function to check registration\n",
    "\n",
    "It is possible to qualitatively check the registation with a napari interactive viewer\n"
   ]
  },
  {
   "cell_type": "code",
   "execution_count": 20,
   "metadata": {},
   "outputs": [
    {
     "name": "stdout",
     "output_type": "stream",
     "text": [
      "pos1 pos1\n"
     ]
    },
    {
     "ename": "ModuleNotFoundError",
     "evalue": "No module named 'napari'",
     "output_type": "error",
     "traceback": [
      "\u001b[0;31m---------------------------------------------------------------------------\u001b[0m",
      "\u001b[0;31mModuleNotFoundError\u001b[0m                       Traceback (most recent call last)",
      "Cell \u001b[0;32mIn[20], line 8\u001b[0m\n\u001b[1;32m      5\u001b[0m path_image1\u001b[38;5;241m=\u001b[39m folder_of_rounds \u001b[38;5;241m+\u001b[39m  \u001b[38;5;124m\"\u001b[39m\u001b[38;5;124mr1/r1_pos1_ch0.tif\u001b[39m\u001b[38;5;124m\"\u001b[39m\n\u001b[1;32m      6\u001b[0m path_image2\u001b[38;5;241m=\u001b[39m  folder_of_rounds \u001b[38;5;241m+\u001b[39m \u001b[38;5;124m\"\u001b[39m\u001b[38;5;124m/r2/r2_pos1_ch0.tif\u001b[39m\u001b[38;5;124m\"\u001b[39m\n\u001b[0;32m----> 8\u001b[0m \u001b[43mplot_registrered_image\u001b[49m\u001b[43m(\u001b[49m\n\u001b[1;32m      9\u001b[0m \u001b[43m    \u001b[49m\u001b[43mdict_translation\u001b[49m\u001b[43m,\u001b[49m\n\u001b[1;32m     10\u001b[0m \u001b[43m    \u001b[49m\u001b[43mpath_image1\u001b[49m\u001b[38;5;241;43m=\u001b[39;49m\u001b[43mpath_image1\u001b[49m\u001b[43m,\u001b[49m\n\u001b[1;32m     11\u001b[0m \u001b[43m    \u001b[49m\u001b[43mpath_image2\u001b[49m\u001b[38;5;241;43m=\u001b[39;49m\u001b[43mpath_image2\u001b[49m\u001b[43m,\u001b[49m\n\u001b[1;32m     12\u001b[0m \u001b[43m    \u001b[49m\u001b[43mplot_napari\u001b[49m\u001b[43m \u001b[49m\u001b[38;5;241;43m=\u001b[39;49m\u001b[43m \u001b[49m\u001b[38;5;28;43;01mTrue\u001b[39;49;00m\u001b[43m)\u001b[49m\n",
      "File \u001b[0;32m~/Bureau/phd/autofish_pckg/autofish_analysis/registration.py:366\u001b[0m, in \u001b[0;36mplot_registrered_image\u001b[0;34m(dico_translation, path_image1, path_image2, plot_napari)\u001b[0m\n\u001b[1;32m    364\u001b[0m \u001b[38;5;66;03m### plot shifted image and image 1\u001b[39;00m\n\u001b[1;32m    365\u001b[0m \u001b[38;5;28;01mif\u001b[39;00m plot_napari:\n\u001b[0;32m--> 366\u001b[0m     \u001b[38;5;28;01mimport\u001b[39;00m \u001b[38;5;21;01mnapari\u001b[39;00m\n\u001b[1;32m    367\u001b[0m     viewer \u001b[38;5;241m=\u001b[39m napari\u001b[38;5;241m.\u001b[39mview_image(image1, name\u001b[38;5;241m=\u001b[39m\u001b[38;5;124m\"\u001b[39m\u001b[38;5;124mimage1\u001b[39m\u001b[38;5;124m\"\u001b[39m)\n\u001b[1;32m    368\u001b[0m     viewer\u001b[38;5;241m.\u001b[39madd_image(image2, name\u001b[38;5;241m=\u001b[39m\u001b[38;5;124m\"\u001b[39m\u001b[38;5;124mimage2\u001b[39m\u001b[38;5;124m\"\u001b[39m)\n",
      "\u001b[0;31mModuleNotFoundError\u001b[0m: No module named 'napari'"
     ]
    }
   ],
   "source": [
    "\n",
    "\n",
    "from autofish_analysis.registration import plot_registrered_image\n",
    "\n",
    "\n",
    "### MODIFY the path to your \n",
    "path_image1= folder_of_rounds +  \"r1/r1_pos1_ch0.tif\"\n",
    "path_image2=  folder_of_rounds + \"r2/r2_pos1_ch0.tif\"\n",
    "\n",
    "plot_registrered_image(\n",
    "    dict_translation,\n",
    "    path_image1=path_image1,\n",
    "    path_image2=path_image2,\n",
    "    plot_napari = True)"
   ]
  },
  {
   "cell_type": "code",
   "execution_count": 19,
   "metadata": {},
   "outputs": [
    {
     "data": {
      "text/plain": [
       "'/media/tom/Transcend/autofish/2023-07-04_AutoFISH-SABER/r1/r1_pos1_ch0.tif'"
      ]
     },
     "execution_count": 19,
     "metadata": {},
     "output_type": "execute_result"
    }
   ],
   "source": [
    "str(Path(Path(folder_of_rounds) /  \"r1/r1_pos1_ch0.tif\"))"
   ]
  },
  {
   "cell_type": "code",
   "execution_count": 21,
   "metadata": {},
   "outputs": [
    {
     "data": {
      "text/plain": [
       "'/media/tom/Transcend/autofish/2023-07-04_AutoFISH-SABER/'"
      ]
     },
     "execution_count": 21,
     "metadata": {},
     "output_type": "execute_result"
    }
   ],
   "source": [
    "folder_of_rounds"
   ]
  },
  {
   "cell_type": "code",
   "execution_count": 22,
   "metadata": {},
   "outputs": [
    {
     "ename": "ModuleNotFoundError",
     "evalue": "No module named 'napari'",
     "output_type": "error",
     "traceback": [
      "\u001b[0;31m---------------------------------------------------------------------------\u001b[0m",
      "\u001b[0;31mModuleNotFoundError\u001b[0m                       Traceback (most recent call last)",
      "Cell \u001b[0;32mIn[22], line 1\u001b[0m\n\u001b[0;32m----> 1\u001b[0m \u001b[38;5;28;01mimport\u001b[39;00m \u001b[38;5;21;01mnapari\u001b[39;00m\n",
      "\u001b[0;31mModuleNotFoundError\u001b[0m: No module named 'napari'"
     ]
    }
   ],
   "source": [
    "import napari"
   ]
  },
  {
   "cell_type": "code",
   "execution_count": null,
   "metadata": {},
   "outputs": [],
   "source": []
  }
 ],
 "metadata": {
  "kernelspec": {
   "display_name": "bigfish38_samm",
   "language": "python",
   "name": "bigfish38_samm"
  },
  "language_info": {
   "codemirror_mode": {
    "name": "ipython",
    "version": 3
   },
   "file_extension": ".py",
   "mimetype": "text/x-python",
   "name": "python",
   "nbconvert_exporter": "python",
   "pygments_lexer": "ipython3",
   "version": "3.8.8"
  }
 },
 "nbformat": 4,
 "nbformat_minor": 5
}
