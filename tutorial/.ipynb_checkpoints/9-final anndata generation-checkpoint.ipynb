{
 "cells": [
  {
   "cell_type": "code",
   "execution_count": null,
   "id": "c56ebe5a",
   "metadata": {},
   "outputs": [],
   "source": []
  },
  {
   "cell_type": "code",
   "execution_count": null,
   "id": "cdbf7bc8",
   "metadata": {},
   "outputs": [],
   "source": []
  },
  {
   "cell_type": "code",
   "execution_count": null,
   "id": "6ed614a1",
   "metadata": {},
   "outputs": [],
   "source": [
    "module_path = '/home/tom/Bureau/phd/stich_seg_detect'\n",
    "%cd $module_path\n",
    "from segmentation import segment_nuclei\n",
    "from cellpose import models\n",
    "from pathlib import Path\n",
    "from stiching import spots_registration\n",
    "import numpy as np"
   ]
  },
  {
   "cell_type": "code",
   "execution_count": null,
   "id": "c55ee168",
   "metadata": {},
   "outputs": [],
   "source": []
  },
  {
   "cell_type": "code",
   "execution_count": null,
   "id": "e0206397",
   "metadata": {},
   "outputs": [],
   "source": [
    "\n",
    "\n",
    "### Load the reviously computed dico translation and dico spots\n",
    "dico_translation = np.load(f\"/media/tom/Transcend/autofish_test/dico_translation_ref_r1.npy\",\n",
    "                           allow_pickle=True).item()\n",
    "dico_spots = np.load \\\n",
    "    (f\"/media/tom/Transcend/autofish_test/dico_spots.npy\",\n",
    "     allow_pickle=True).item()\n",
    "\n",
    "\n",
    "ref_round=\"r1\" # reference round, All round  will be reference to this input\n",
    "scale_xy=0.103\n",
    "scale_z=0.270"
   ]
  },
  {
   "cell_type": "code",
   "execution_count": null,
   "id": "f0c8eb08",
   "metadata": {},
   "outputs": [],
   "source": []
  }
 ],
 "metadata": {
  "kernelspec": {
   "display_name": "bigfish38_samm",
   "language": "python",
   "name": "bigfish38_samm"
  },
  "language_info": {
   "codemirror_mode": {
    "name": "ipython",
    "version": 3
   },
   "file_extension": ".py",
   "mimetype": "text/x-python",
   "name": "python",
   "nbconvert_exporter": "python",
   "pygments_lexer": "ipython3",
   "version": "3.8.12"
  }
 },
 "nbformat": 4,
 "nbformat_minor": 5
}
