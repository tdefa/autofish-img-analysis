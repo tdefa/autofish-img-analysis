{
 "cells": [
  {
   "cell_type": "code",
   "execution_count": 1,
   "id": "1ff2605c",
   "metadata": {},
   "outputs": [],
   "source": [
    "import sys"
   ]
  },
  {
   "cell_type": "code",
   "execution_count": 2,
   "id": "c467a3b7",
   "metadata": {},
   "outputs": [],
   "source": [
    "sys.path += ['/snap/pycharm-professional/344/plugins/python/helpers/pydev',\n",
    " '/snap/pycharm-professional/344/plugins/python/helpers/third_party/thriftpy',\n",
    " '/snap/pycharm-professional/344/plugins/python/helpers/pydev',\n",
    " '/snap/pycharm-professional/344/plugins/python/helpers/pycharm_display',\n",
    " '/home/tom/anaconda3/envs/bigfish38_samm/lib/python38.zip',\n",
    " '/home/tom/anaconda3/envs/bigfish38_samm/lib/python3.8',\n",
    " '/home/tom/anaconda3/envs/bigfish38_samm/lib/python3.8/lib-dynload',\n",
    " '/home/tom/.local/lib/python3.8/site-packages',\n",
    " '/home/tom/anaconda3/envs/bigfish38_samm/lib/python3.8/site-packages',\n",
    " '/home/tom/Bureau/phd/simulation/sim-fish',\n",
    " '/home/tom/Bureau/phd/simulation/ssam-release',\n",
    " '/home/tom/pysmFISH',\n",
    " '/home/tom/anaconda3/envs/bigfish38_samm/lib/python3.8/site-packages/SimpleITK-2.0.0rc2.dev910+ga138e-py3.8-linux-x86_64.egg',\n",
    " '/home/tom/anaconda3/envs/bigfish38_samm/lib/python3.8/site-packages/autofish-0.1-py3.8.egg',\n",
    " '/snap/pycharm-professional/344/plugins/python/helpers/pycharm_matplotlib_backend',\n",
    " '/home/tom/anaconda3/envs/bigfish38_samm/lib/python3.8/site-packages/IPython/extensions',\n",
    " '/home/tom/Bureau/phd/autofish_pckg/autofish']"
   ]
  },
  {
   "cell_type": "code",
   "execution_count": 3,
   "id": "8b1ca46a",
   "metadata": {},
   "outputs": [
    {
     "name": "stdout",
     "output_type": "stream",
     "text": [
      "/home/tom/Bureau/phd/autofish_pckg/autofish\n"
     ]
    }
   ],
   "source": [
    "module_path = '/home/tom/Bureau/phd/autofish_pckg/autofish'\n",
    "%cd $module_path\n",
    "\n",
    "from pathlib import Path\n",
    "import numpy as np\n",
    "import anndata as ad"
   ]
  },
  {
   "cell_type": "code",
   "execution_count": 4,
   "id": "c4607a8a",
   "metadata": {},
   "outputs": [
    {
     "name": "stderr",
     "output_type": "stream",
     "text": [
      "/home/tom/anaconda3/envs/bigfish38_samm/lib/python3.8/site-packages/geopandas/_compat.py:111: UserWarning: The Shapely GEOS version (3.11.1-CAPI-1.17.1) is incompatible with the GEOS version PyGEOS was compiled with (3.10.1-CAPI-1.16.0). Conversions between both will be slow.\n",
      "  warnings.warn(\n"
     ]
    }
   ],
   "source": [
    "import importlib\n",
    "import  utils.post_processing_anndata\n",
    "importlib.reload( utils.post_processing_anndata)\n",
    "from  utils.post_processing_anndata import get_anndata"
   ]
  },
  {
   "cell_type": "code",
   "execution_count": 5,
   "id": "877e90b1",
   "metadata": {},
   "outputs": [],
   "source": [
    "folder_of_rounds = \"/media/tom/Transcend/autofish/2023-07-04_AutoFISH-SABER/\"\n",
    "\n",
    "\n",
    "### Load the reviously computed dico translation and dico spots\n",
    "\n",
    "dico_gene = {'r0': \"gene\", \"r1\": \"gene1\", \"r2\": \"gene2\", \"r3\": \"gene3\", \"r4\": \"gene4\",\n",
    "                 \"r5\": \"gene5\", \"r6\": \"gene6\", \"r7\": \"gene7\", \"r8\": \"gene8\",\n",
    "                    \"r9\": \"gene9\", \"r10\": \"gene10\", \"r11\": \"gene11\", \"r12\": \"gene12\"}\n",
    "\n",
    "dico_spots_registered_df = np.load(Path(folder_of_rounds) / \"dict_spots_registered_df_r1_with_cell.npy\",\n",
    "                                   allow_pickle=True).item()\n",
    "cell_column_name = \"cell_assignment\"\n"
   ]
  },
  {
   "cell_type": "code",
   "execution_count": 6,
   "id": "7381a6ef",
   "metadata": {},
   "outputs": [
    {
     "data": {
      "application/vnd.jupyter.widget-view+json": {
       "model_id": "94eafa3452964e97a139c9286f618cfd",
       "version_major": 2,
       "version_minor": 0
      },
      "text/plain": [
       "  0%|          | 0/3 [00:00<?, ?it/s]"
      ]
     },
     "metadata": {},
     "output_type": "display_data"
    },
    {
     "data": {
      "application/vnd.jupyter.widget-view+json": {
       "model_id": "4fa1d55f77a849f396ca81110ac5e640",
       "version_major": 2,
       "version_minor": 0
      },
      "text/plain": [
       "  0%|          | 0/32 [00:00<?, ?it/s]"
      ]
     },
     "metadata": {},
     "output_type": "display_data"
    },
    {
     "data": {
      "application/vnd.jupyter.widget-view+json": {
       "model_id": "d6dc791cd6a64132aef9c3b946d4f913",
       "version_major": 2,
       "version_minor": 0
      },
      "text/plain": [
       "  0%|          | 0/32 [00:00<?, ?it/s]"
      ]
     },
     "metadata": {},
     "output_type": "display_data"
    },
    {
     "data": {
      "application/vnd.jupyter.widget-view+json": {
       "model_id": "608a4190bf5d42ac8cdd9d49ca381676",
       "version_major": 2,
       "version_minor": 0
      },
      "text/plain": [
       "  0%|          | 0/32 [00:00<?, ?it/s]"
      ]
     },
     "metadata": {},
     "output_type": "display_data"
    },
    {
     "name": "stderr",
     "output_type": "stream",
     "text": [
      "/home/tom/anaconda3/envs/bigfish38_samm/lib/python3.8/site-packages/anndata/_core/anndata.py:120: ImplicitModificationWarning: Transforming to str index.\n",
      "  warnings.warn(\"Transforming to str index.\", ImplicitModificationWarning)\n"
     ]
    }
   ],
   "source": [
    "anndata = get_anndata(dico_gene = dico_gene,\n",
    "                dico_spots_registered_df = dico_spots_registered_df,\n",
    "                cell_column_name = \"cell_assignment\",\n",
    "                add_mask_polygone_cell = True,\n",
    "                path_to_mask_cell = \"/media/tom/Transcend/autofish/2023-07-04_AutoFISH-SABER/segmentation_mask\",\n",
    ")"
   ]
  },
  {
   "cell_type": "code",
   "execution_count": 8,
   "id": "03ddf4d4",
   "metadata": {},
   "outputs": [
    {
     "data": {
      "text/plain": [
       "AnnData object with n_obs × n_vars = 120 × 13\n",
       "    obs: 'batch', 'position', 'cell_id_mask', 'cell_polygons'\n",
       "    uns: 'points'"
      ]
     },
     "execution_count": 8,
     "metadata": {},
     "output_type": "execute_result"
    }
   ],
   "source": [
    "anndata"
   ]
  },
  {
   "cell_type": "code",
   "execution_count": 9,
   "id": "bed2028a",
   "metadata": {},
   "outputs": [
    {
     "name": "stderr",
     "output_type": "stream",
     "text": [
      "/home/tom/anaconda3/envs/bigfish38_samm/lib/python3.8/site-packages/anndata/_core/anndata.py:1228: FutureWarning: The `inplace` parameter in pandas.Categorical.reorder_categories is deprecated and will be removed in a future version. Reordering categories will always return a new Categorical object.\n",
      "  c.reorder_categories(natsorted(c.categories), inplace=True)\n",
      "... storing 'position' as categorical\n"
     ]
    }
   ],
   "source": [
    "anndata.write_h5ad(f\"/media/tom/Transcend/autofish_test/18jully_anndata.h5ad\")"
   ]
  },
  {
   "cell_type": "code",
   "execution_count": null,
   "id": "772cb0ad",
   "metadata": {},
   "outputs": [],
   "source": []
  },
  {
   "cell_type": "code",
   "execution_count": null,
   "id": "7db7715e",
   "metadata": {},
   "outputs": [],
   "source": []
  }
 ],
 "metadata": {
  "kernelspec": {
   "display_name": "bigfish38_samm",
   "language": "python",
   "name": "bigfish38_samm"
  },
  "language_info": {
   "codemirror_mode": {
    "name": "ipython",
    "version": 3
   },
   "file_extension": ".py",
   "mimetype": "text/x-python",
   "name": "python",
   "nbconvert_exporter": "python",
   "pygments_lexer": "ipython3",
   "version": "3.8.8"
  }
 },
 "nbformat": 4,
 "nbformat_minor": 5
}
