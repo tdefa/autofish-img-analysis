{
 "cells": [
  {
   "cell_type": "markdown",
   "id": "acd47ca2",
   "metadata": {},
   "source": [
    "# Spots assignement\n",
    "\n",
    "Optionaly if a cell or nucleus segmentation was applied to the data. Spots of the different round can  be assigned to a cell/nucleus. \n",
    "\n",
    "Hence, in a final next step, the output of autoFISH can be formated in a Anndata, compatible with the [anndata](https://anndata.readthedocs.io/en/latest/) / [scverse](https://spatialdata.scverse.org/) environement \n",
    "\n"
   ]
  },
  {
   "cell_type": "code",
   "execution_count": 1,
   "id": "20cc2acb",
   "metadata": {},
   "outputs": [],
   "source": [
    "from autofish_analysis.registration import spots_assignement\n",
    "from pathlib import Path\n",
    "import numpy as np"
   ]
  },
  {
   "cell_type": "code",
   "execution_count": 3,
   "id": "d054a728",
   "metadata": {},
   "outputs": [],
   "source": [
    "\n",
    "## Path to the folder containing all the round\n",
    "folder_of_rounds = \"/media/tom/Transcend/autofish_test_stiching/\"\n",
    "dict_spots_registered_df = np.load(Path(folder_of_rounds) / \"dict_spots_registered_df_r1.npy\",\n",
    "                                   allow_pickle = True).item()\n",
    "path_to_masks = Path(folder_of_rounds) / \"segmentation_mask\"\n",
    "######### if youdid not  stitch your image:\n",
    "#path_to_masks =Path(folder_of_rounds) / \"segmentation_mask\"\n",
    "files_mask_extension = \"*.npy*\"\n",
    "\n",
    "## if stitching was perform\n",
    "stitched = True"
   ]
  },
  {
   "cell_type": "code",
   "execution_count": 4,
   "id": "bf61e1e4",
   "metadata": {
    "scrolled": true
   },
   "outputs": [
    {
     "name": "stderr",
     "output_type": "stream",
     "text": [
      "\r",
      "  0%|                                                                                                                                                                                                                                                                                                                                                                                                                                                            | 0/11 [00:00<?, ?it/s]"
     ]
    },
    {
     "name": "stdout",
     "output_type": "stream",
     "text": [
      "/media/tom/Transcend/autofish_test_stiching/segmentation_mask/r1_pos0.tif\n"
     ]
    },
    {
     "name": "stderr",
     "output_type": "stream",
     "text": [
      "\r",
      "  9%|███████████████████████████████████████▋                                                                                                                                                                                                                                                                                                                                                                                                            | 1/11 [00:07<01:12,  7.24s/it]"
     ]
    },
    {
     "name": "stdout",
     "output_type": "stream",
     "text": [
      "/media/tom/Transcend/autofish_test_stiching/segmentation_mask/r1_pos1.tif\n"
     ]
    },
    {
     "name": "stderr",
     "output_type": "stream",
     "text": [
      "\r",
      " 18%|███████████████████████████████████████████████████████████████████████████████▎                                                                                                                                                                                                                                                                                                                                                                    | 2/11 [00:23<01:53, 12.59s/it]"
     ]
    },
    {
     "name": "stdout",
     "output_type": "stream",
     "text": [
      "/media/tom/Transcend/autofish_test_stiching/segmentation_mask/r1_pos10.tif\n"
     ]
    },
    {
     "name": "stderr",
     "output_type": "stream",
     "text": [
      "\r",
      " 27%|██████████████████████████████████████████████████████████████████████████████████████████████████████████████████████▉                                                                                                                                                                                                                                                                                                                             | 3/11 [00:38<01:47, 13.43s/it]"
     ]
    },
    {
     "name": "stdout",
     "output_type": "stream",
     "text": [
      "/media/tom/Transcend/autofish_test_stiching/segmentation_mask/r1_pos2.tif\n"
     ]
    },
    {
     "name": "stderr",
     "output_type": "stream",
     "text": [
      "\r",
      " 36%|██████████████████████████████████████████████████████████████████████████████████████████████████████████████████████████████████████████████████████████████▌                                                                                                                                                                                                                                                                                     | 4/11 [00:53<01:38, 14.13s/it]"
     ]
    },
    {
     "name": "stdout",
     "output_type": "stream",
     "text": [
      "/media/tom/Transcend/autofish_test_stiching/segmentation_mask/r1_pos3.tif\n"
     ]
    },
    {
     "name": "stderr",
     "output_type": "stream",
     "text": [
      "\r",
      " 45%|██████████████████████████████████████████████████████████████████████████████████████████████████████████████████████████████████████████████████████████████████████████████████████████████████████▏                                                                                                                                                                                                                                             | 5/11 [01:08<01:26, 14.49s/it]"
     ]
    },
    {
     "name": "stdout",
     "output_type": "stream",
     "text": [
      "/media/tom/Transcend/autofish_test_stiching/segmentation_mask/r1_pos4.tif\n"
     ]
    },
    {
     "name": "stderr",
     "output_type": "stream",
     "text": [
      "\r",
      " 55%|█████████████████████████████████████████████████████████████████████████████████████████████████████████████████████████████████████████████████████████████████████████████████████████████████████████████████████████████████████████████▊                                                                                                                                                                                                      | 6/11 [01:23<01:14, 14.81s/it]"
     ]
    },
    {
     "name": "stdout",
     "output_type": "stream",
     "text": [
      "/media/tom/Transcend/autofish_test_stiching/segmentation_mask/r1_pos5.tif\n"
     ]
    },
    {
     "name": "stderr",
     "output_type": "stream",
     "text": [
      "\r",
      " 64%|█████████████████████████████████████████████████████████████████████████████████████████████████████████████████████████████████████████████████████████████████████████████████████████████████████████████████████████████████████████████████████████████████████████████████████▍                                                                                                                                                              | 7/11 [01:38<00:58, 14.70s/it]"
     ]
    },
    {
     "name": "stdout",
     "output_type": "stream",
     "text": [
      "/media/tom/Transcend/autofish_test_stiching/segmentation_mask/r1_pos6.tif\n"
     ]
    },
    {
     "name": "stderr",
     "output_type": "stream",
     "text": [
      "\r",
      " 73%|█████████████████████████████████████████████████████████████████████████████████████████████████████████████████████████████████████████████████████████████████████████████████████████████████████████████████████████████████████████████████████████████████████████████████████████████████████████████████████████████                                                                                                                       | 8/11 [01:53<00:44, 14.89s/it]"
     ]
    },
    {
     "name": "stdout",
     "output_type": "stream",
     "text": [
      "/media/tom/Transcend/autofish_test_stiching/segmentation_mask/r1_pos7.tif\n"
     ]
    },
    {
     "name": "stderr",
     "output_type": "stream",
     "text": [
      "\r",
      " 82%|████████████████████████████████████████████████████████████████████████████████████████████████████████████████████████████████████████████████████████████████████████████████████████████████████████████████████████████████████████████████████████████████████████████████████████████████████████████████████████████████████████████████████████████████████▋                                                                               | 9/11 [02:08<00:29, 14.78s/it]"
     ]
    },
    {
     "name": "stdout",
     "output_type": "stream",
     "text": [
      "/media/tom/Transcend/autofish_test_stiching/segmentation_mask/r1_pos8.tif\n"
     ]
    },
    {
     "name": "stderr",
     "output_type": "stream",
     "text": [
      "\r",
      " 91%|███████████████████████████████████████████████████████████████████████████████████████████████████████████████████████████████████████████████████████████████████████████████████████████████████████████████████████████████████████████████████████████████████████████████████████████████████████████████████████████████████████████████████████████████████████████████████████████████████████████▍                                       | 10/11 [02:22<00:14, 14.60s/it]"
     ]
    },
    {
     "name": "stdout",
     "output_type": "stream",
     "text": [
      "/media/tom/Transcend/autofish_test_stiching/segmentation_mask/r1_pos9.tif\n"
     ]
    },
    {
     "name": "stderr",
     "output_type": "stream",
     "text": [
      "100%|███████████████████████████████████████████████████████████████████████████████████████████████████████████████████████████████████████████████████████████████████████████████████████████████████████████████████████████████████████████████████████████████████████████████████████████████████████████████████████████████████████████████████████████████████████████████████████████████████████████████████████████████████████████████████| 11/11 [02:36<00:00, 14.23s/it]\n"
     ]
    }
   ],
   "source": [
    "dict_spots_registered_df = spots_assignement(dict_spots_registered_df,\n",
    "path_to_masks = path_to_masks,\n",
    "files_mask_extension = \"*.tif*\",\n",
    "in_place = False)"
   ]
  },
  {
   "cell_type": "code",
   "execution_count": 8,
   "id": "17215c6a",
   "metadata": {},
   "outputs": [
    {
     "data": {
      "text/html": [
       "<div>\n",
       "<style scoped>\n",
       "    .dataframe tbody tr th:only-of-type {\n",
       "        vertical-align: middle;\n",
       "    }\n",
       "\n",
       "    .dataframe tbody tr th {\n",
       "        vertical-align: top;\n",
       "    }\n",
       "\n",
       "    .dataframe thead th {\n",
       "        text-align: right;\n",
       "    }\n",
       "</style>\n",
       "<table border=\"1\" class=\"dataframe\">\n",
       "  <thead>\n",
       "    <tr style=\"text-align: right;\">\n",
       "      <th></th>\n",
       "      <th>x</th>\n",
       "      <th>y</th>\n",
       "      <th>z</th>\n",
       "      <th>round</th>\n",
       "      <th>cell_assignment</th>\n",
       "    </tr>\n",
       "  </thead>\n",
       "  <tbody>\n",
       "    <tr>\n",
       "      <th>0</th>\n",
       "      <td>476.000000</td>\n",
       "      <td>28.000000</td>\n",
       "      <td>8.0</td>\n",
       "      <td>r1</td>\n",
       "      <td>1.0</td>\n",
       "    </tr>\n",
       "    <tr>\n",
       "      <th>1</th>\n",
       "      <td>1539.000000</td>\n",
       "      <td>76.000000</td>\n",
       "      <td>8.0</td>\n",
       "      <td>r1</td>\n",
       "      <td>0.0</td>\n",
       "    </tr>\n",
       "    <tr>\n",
       "      <th>2</th>\n",
       "      <td>1346.000000</td>\n",
       "      <td>88.000000</td>\n",
       "      <td>8.0</td>\n",
       "      <td>r1</td>\n",
       "      <td>0.0</td>\n",
       "    </tr>\n",
       "    <tr>\n",
       "      <th>3</th>\n",
       "      <td>497.000000</td>\n",
       "      <td>103.000000</td>\n",
       "      <td>8.0</td>\n",
       "      <td>r1</td>\n",
       "      <td>1.0</td>\n",
       "    </tr>\n",
       "    <tr>\n",
       "      <th>4</th>\n",
       "      <td>457.000000</td>\n",
       "      <td>109.000000</td>\n",
       "      <td>8.0</td>\n",
       "      <td>r1</td>\n",
       "      <td>1.0</td>\n",
       "    </tr>\n",
       "    <tr>\n",
       "      <th>...</th>\n",
       "      <td>...</td>\n",
       "      <td>...</td>\n",
       "      <td>...</td>\n",
       "      <td>...</td>\n",
       "      <td>...</td>\n",
       "    </tr>\n",
       "    <tr>\n",
       "      <th>6864</th>\n",
       "      <td>1597.833607</td>\n",
       "      <td>579.618102</td>\n",
       "      <td>37.0</td>\n",
       "      <td>r3</td>\n",
       "      <td>37.0</td>\n",
       "    </tr>\n",
       "    <tr>\n",
       "      <th>6865</th>\n",
       "      <td>1103.833607</td>\n",
       "      <td>1462.618102</td>\n",
       "      <td>37.0</td>\n",
       "      <td>r3</td>\n",
       "      <td>16.0</td>\n",
       "    </tr>\n",
       "    <tr>\n",
       "      <th>6866</th>\n",
       "      <td>1074.833607</td>\n",
       "      <td>1496.618102</td>\n",
       "      <td>37.0</td>\n",
       "      <td>r3</td>\n",
       "      <td>16.0</td>\n",
       "    </tr>\n",
       "    <tr>\n",
       "      <th>6867</th>\n",
       "      <td>158.833607</td>\n",
       "      <td>1642.618102</td>\n",
       "      <td>37.0</td>\n",
       "      <td>r3</td>\n",
       "      <td>18.0</td>\n",
       "    </tr>\n",
       "    <tr>\n",
       "      <th>6868</th>\n",
       "      <td>780.833607</td>\n",
       "      <td>1659.618102</td>\n",
       "      <td>37.0</td>\n",
       "      <td>r3</td>\n",
       "      <td>19.0</td>\n",
       "    </tr>\n",
       "  </tbody>\n",
       "</table>\n",
       "<p>6869 rows × 5 columns</p>\n",
       "</div>"
      ],
      "text/plain": [
       "                x            y     z round  cell_assignment\n",
       "0      476.000000    28.000000   8.0    r1              1.0\n",
       "1     1539.000000    76.000000   8.0    r1              0.0\n",
       "2     1346.000000    88.000000   8.0    r1              0.0\n",
       "3      497.000000   103.000000   8.0    r1              1.0\n",
       "4      457.000000   109.000000   8.0    r1              1.0\n",
       "...           ...          ...   ...   ...              ...\n",
       "6864  1597.833607   579.618102  37.0    r3             37.0\n",
       "6865  1103.833607  1462.618102  37.0    r3             16.0\n",
       "6866  1074.833607  1496.618102  37.0    r3             16.0\n",
       "6867   158.833607  1642.618102  37.0    r3             18.0\n",
       "6868   780.833607  1659.618102  37.0    r3             19.0\n",
       "\n",
       "[6869 rows x 5 columns]"
      ]
     },
     "execution_count": 8,
     "metadata": {},
     "output_type": "execute_result"
    }
   ],
   "source": [
    "dict_spots_registered_df[\"pos0\"]"
   ]
  },
  {
   "cell_type": "code",
   "execution_count": 7,
   "id": "30cdc570",
   "metadata": {},
   "outputs": [],
   "source": [
    "\n",
    "np.save(Path(folder_of_rounds) / \"dict_spots_registered_df_r1_with_cell.npy\",\n",
    "                                   dict_spots_registered_df)"
   ]
  },
  {
   "cell_type": "code",
   "execution_count": null,
   "id": "1fc15b80",
   "metadata": {},
   "outputs": [],
   "source": []
  }
 ],
 "metadata": {
  "kernelspec": {
   "display_name": "bigfish38_samm",
   "language": "python",
   "name": "bigfish38_samm"
  },
  "language_info": {
   "codemirror_mode": {
    "name": "ipython",
    "version": 3
   },
   "file_extension": ".py",
   "mimetype": "text/x-python",
   "name": "python",
   "nbconvert_exporter": "python",
   "pygments_lexer": "ipython3",
   "version": "3.8.8"
  }
 },
 "nbformat": 4,
 "nbformat_minor": 5
}
